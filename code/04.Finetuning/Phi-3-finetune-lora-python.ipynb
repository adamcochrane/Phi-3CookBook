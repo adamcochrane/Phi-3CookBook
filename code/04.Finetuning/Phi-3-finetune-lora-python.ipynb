{
  "cells": [
    {
      "cell_type": "markdown",
      "metadata": {
        "id": "uTAiuz2uvPng"
      },
      "source": [
        "# Instruction for fine-tuning a Phi-3-mini model on Python code generation using LoRA via Hugging Face Hub"
      ]
    },
    {
      "cell_type": "markdown",
      "metadata": {
        "id": "malpM0sXFn9K"
      },
      "source": [
        "## Installing and loading the libraries"
      ]
    },
    {
      "cell_type": "code",
      "source": [
        "# import os\n",
        "# os._exit(00)  # Hard restart\n"
      ],
      "metadata": {
        "id": "2w7n4HVhL7sy"
      },
      "execution_count": 1,
      "outputs": []
    },
    {
      "cell_type": "code",
      "source": [
        "# !pip uninstall -y torch torchvision torchaudio\n"
      ],
      "metadata": {
        "id": "myC8H9hdJf49"
      },
      "execution_count": 2,
      "outputs": []
    },
    {
      "cell_type": "code",
      "source": [
        "!pip install -qqq torch==2.5.1 torchvision==0.20.1+cu124 torchaudio==2.5.1+cu124 --index-url https://download.pytorch.org/whl/cu124\n"
      ],
      "metadata": {
        "id": "nSmF59KNJoUP"
      },
      "execution_count": 3,
      "outputs": []
    },
    {
      "cell_type": "code",
      "execution_count": null,
      "metadata": {
        "colab": {
          "base_uri": "https://localhost:8080/"
        },
        "id": "bvHV20Q0vGkE",
        "outputId": "ee8a4ba3-dd69-4d18-a54c-a60a0ac5ea0e"
      },
      "outputs": [
        {
          "output_type": "stream",
          "name": "stdout",
          "text": [
            "Collecting fsspec==2024.10.0\n",
            "  Using cached fsspec-2024.10.0-py3-none-any.whl.metadata (11 kB)\n",
            "Using cached fsspec-2024.10.0-py3-none-any.whl (179 kB)\n",
            "Installing collected packages: fsspec\n",
            "  Attempting uninstall: fsspec\n",
            "    Found existing installation: fsspec 2024.9.0\n",
            "    Uninstalling fsspec-2024.9.0:\n",
            "      Successfully uninstalled fsspec-2024.9.0\n",
            "\u001b[31mERROR: pip's dependency resolver does not currently take into account all the packages that are installed. This behaviour is the source of the following dependency conflicts.\n",
            "datasets 3.2.0 requires fsspec[http]<=2024.9.0,>=2023.1.0, but you have fsspec 2024.10.0 which is incompatible.\u001b[0m\u001b[31m\n",
            "\u001b[0mSuccessfully installed fsspec-2024.10.0\n"
          ]
        }
      ],
      "source": [
        "# This command is used to install and upgrade several Python packages using pip, Python's package installer.\n",
        "# The '!' at the beginning allows us to run shell commands in the notebook.\n",
        "# The '-qqq' option is used to make the installation process less verbose.\n",
        "# '--upgrade' is used to ensure that the packages are upgraded to their latest versions if they are already installed.\n",
        "# The packages being installed are:\n",
        "# 'bitsandbytes' for efficient gradient accumulation,\n",
        "# 'transformers' for using transformer models like Phi-3,\n",
        "# 'peft' for efficient fine-tuning,\n",
        "# 'accelerate' for easy distributed training,\n",
        "# 'datasets' for loading and preprocessing datasets,\n",
        "# 'trl' for reinforcement learning,\n",
        "# 'flash_attn' for attention-based models.\n",
        "# 'wandb' stands for Weights & Biases. It is a tool for machine learning experiment tracking, dataset versioning, and model management. It allows you to log and visualize metrics from your code, share findings, and reproduce experiments.\n",
        "# 'torch' is a package that provides an open-source machine learning library used for building deep learning models.\n",
        "!pip install --upgrade fsspec==2024.10.0\n",
        "!pip install -qqq --upgrade bitsandbytes transformers peft accelerate datasets trl wandb"
      ]
    },
    {
      "cell_type": "code",
      "execution_count": null,
      "metadata": {
        "id": "WAOFt0po3bX6"
      },
      "outputs": [],
      "source": [
        "# These commands are used to install two Python packages using pip, Python's package installer.\n",
        "# The '!' at the beginning allows us to run shell commands in the notebook.\n",
        "\n",
        "# 'huggingface_hub' is a library developed by Hugging Face that allows you to interact with the Hugging Face Model Hub.\n",
        "# It provides functionalities to download and upload models, as well as other utilities.\n",
        "!pip install huggingface_hub\n",
        "\n",
        "# 'python-dotenv' is a library that allows you to specify environment variables in a .env file.\n",
        "# It's useful for managing secrets and configuration settings for your application.\n",
        "!pip install python-dotenv"
      ]
    },
    {
      "cell_type": "code",
      "execution_count": null,
      "metadata": {
        "id": "IYe9cEVZa93W"
      },
      "outputs": [],
      "source": [
        "# This command is used to install three Python packages using pip, Python's package installer.\n",
        "# The '!' at the beginning allows us to run shell commands in the notebook.\n",
        "\n",
        "# 'absl-py' is a library developed by Google that provides several utilities for Python development, such as logging and command line argument parsing.\n",
        "\n",
        "# 'nltk' stands for Natural Language Toolkit. It is a leading platform for building Python programs to work with human language data. It provides easy-to-use interfaces to over 50 corpora and lexical resources.\n",
        "\n",
        "# 'rouge_score' is a library for calculating the ROUGE (Recall-Oriented Understudy for Gisting Evaluation) score, which is commonly used for evaluating automatic summarization and machine translation systems.\n",
        "!pip install absl-py nltk rouge_score"
      ]
    },
    {
      "cell_type": "code",
      "execution_count": null,
      "metadata": {
        "id": "dl23z4cYhXGz"
      },
      "outputs": [],
      "source": [
        "# This command is used to list all installed Python packages and filter for the 'transformers' package.\n",
        "# The '!' at the beginning allows us to run shell commands in the notebook.\n",
        "\n",
        "# 'pip list' lists all installed Python packages.\n",
        "\n",
        "# The '|' character is a pipe. It takes the output from the command on its left (in this case, 'pip list') and passes it as input to the command on its right.\n",
        "\n",
        "# 'grep' is a command-line utility for searching plain-text data for lines that match a regular expression. Here it's used to filter the output of 'pip list' for lines that contain 'transformers.'.\n",
        "\n",
        "# So, this command will list details of the 'transformers' package if it's installed.\n",
        "!pip list | grep transformers."
      ]
    },
    {
      "cell_type": "markdown",
      "metadata": {
        "id": "SavpwSEeTL5A"
      },
      "source": [
        "## Importing the libraries"
      ]
    },
    {
      "cell_type": "code",
      "execution_count": null,
      "metadata": {
        "id": "ynrvfH87vyka"
      },
      "outputs": [],
      "source": [
        "# This code block is importing necessary modules and functions for fine-tuning a language model.\n",
        "\n",
        "# 'randrange' is a function from the 'random' module that generates a random number within the specified range.\n",
        "from random import randrange\n",
        "\n",
        "# 'torch' is the PyTorch library, a popular open-source machine learning library for Python.\n",
        "import torch\n",
        "\n",
        "# 'load_dataset' is a function from the 'datasets' library by Hugging Face which allows you to load a dataset.\n",
        "!pip install datasets\n",
        "from datasets import load_dataset\n",
        "\n",
        "# 'LoraConfig' and 'prepare_model_for_kbit_training' are from the 'peft' library.\n",
        "# 'LoraConfig' is used to configure the LoRA (Learning from Random Architecture) model.\n",
        "# 'prepare_model_for_kbit_training' is a function that prepares a model for k-bit training.\n",
        "# 'TaskType' contains differenct types of tasks supported by PEFT\n",
        "# 'PeftModel' base model class for specifying the base Transformer model and configuration to apply a PEFT method to.\n",
        "from peft import LoraConfig, prepare_model_for_kbit_training, TaskType, PeftModel\n",
        "\n",
        "# Several classes and functions are imported from the 'transformers' library by Hugging Face.\n",
        "# 'AutoModelForCausalLM' is a class that provides a generic transformer model for causal language modeling.\n",
        "# 'AutoTokenizer' is a class that provides a generic tokenizer class.\n",
        "# 'BitsAndBytesConfig' is a class for configuring the Bits and Bytes optimizer.\n",
        "# 'TrainingArguments' is a class that defines the arguments used for training a model.\n",
        "# 'set_seed' is a function that sets the seed for generating random numbers.\n",
        "# 'pipeline' is a function that creates a pipeline that can process data and make predictions.\n",
        "from transformers import (\n",
        "    AutoModelForCausalLM,\n",
        "    AutoTokenizer,\n",
        "    BitsAndBytesConfig,\n",
        "    TrainingArguments,\n",
        "    set_seed,\n",
        "    pipeline\n",
        ")\n",
        "\n",
        "# 'SFTTrainer' is a class from the 'trl' library that provides a trainer for soft fine-tuning.\n",
        "from trl import SFTTrainer"
      ]
    },
    {
      "cell_type": "markdown",
      "metadata": {
        "id": "qa80IqnWJL_m"
      },
      "source": [
        "## Setting Global Parameters"
      ]
    },
    {
      "cell_type": "code",
      "execution_count": null,
      "metadata": {
        "id": "Y5dL-Zn6gDk5"
      },
      "outputs": [],
      "source": [
        "# This code block is setting up the configuration for fine-tuning a language model.\n",
        "\n",
        "# 'model_id' and 'model_name' are the identifiers for the pre-trained model that you want to fine-tune.\n",
        "# In this case, it's the 'Phi-3-mini-4k-instruct' model from Microsoft.\n",
        "# Model Names\n",
        "# microsoft/Phi-3-mini-4k-instruct\n",
        "# microsoft/Phi-3-mini-128k-instruct\n",
        "# microsoft/Phi-3-small-8k-instruct\n",
        "# microsoft/Phi-3-small-128k-instruct\n",
        "# microsoft/Phi-3-medium-4k-instruct\n",
        "# microsoft/Phi-3-medium-128k-instruct\n",
        "# microsoft/Phi-3-vision-128k-instruct\n",
        "# microsoft/Phi-3-mini-4k-instruct-onnx\n",
        "# microsoft/Phi-3-mini-4k-instruct-onnx-web\n",
        "# microsoft/Phi-3-mini-128k-instruct-onnx\n",
        "# microsoft/Phi-3-small-8k-instruct-onnx-cuda\n",
        "# microsoft/Phi-3-small-128k-instruct-onnx-cuda\n",
        "# microsoft/Phi-3-medium-4k-instruct-onnx-cpu\n",
        "# microsoft/Phi-3-medium-4k-instruct-onnx-cuda\n",
        "# microsoft/Phi-3-medium-4k-instruct-onnx-directml\n",
        "# microsoft/Phi-3-medium-128k-instruct-onnx-cpu\n",
        "# microsoft/Phi-3-medium-128k-instruct-onnx-cuda\n",
        "# microsoft/Phi-3-medium-128k-instruct-onnx-directml\n",
        "# microsoft/Phi-3-mini-4k-instruct-gguf\n",
        "\n",
        "model_id = \"microsoft/Phi-3-mini-4k-instruct\"\n",
        "model_name = \"microsoft/Phi-3-mini-4k-instruct\"\n",
        "\n",
        "# 'dataset_name' is the identifier for the dataset that you want to use for fine-tuning.\n",
        "# In this case, it's the 'python_code_instructions_18k_alpaca' dataset from iamtarun (Ex: iamtarun/python_code_instructions_18k_alpaca).\n",
        "# Update Dataset Name to your dataset name\n",
        "dataset_name = \"din0s/asqa\"\n",
        "\n",
        "# 'dataset_split' is the split of the dataset that you want to use for training.\n",
        "# In this case, it's the 'train' split.\n",
        "dataset_split= \"train\"\n",
        "\n",
        "# 'new_model' is the name that you want to give to the fine-tuned model.\n",
        "new_model = \"Phi-3-asqa\"\n",
        "\n",
        "# 'hf_model_repo' is the repository on the Hugging Face Model Hub where the fine-tuned model will be saved. Update UserName to your Hugging Face Username\n",
        "hf_model_repo=\"adamcochrane/\"+new_model\n",
        "\n",
        "# 'device_map' is a dictionary that maps the model to the GPU device.\n",
        "# In this case, the entire model is loaded on GPU 0.\n",
        "device_map = {\"\": 0}\n",
        "\n",
        "# The following are parameters for the LoRA (Learning from Random Architecture) model.\n",
        "\n",
        "# 'lora_r' is the dimension of the LoRA attention.\n",
        "lora_r = 16\n",
        "\n",
        "# 'lora_alpha' is the alpha parameter for LoRA scaling.\n",
        "lora_alpha = 16\n",
        "\n",
        "# 'lora_dropout' is the dropout probability for LoRA layers.\n",
        "lora_dropout = 0.05\n",
        "\n",
        "# 'target_modules' is a list of the modules in the model that will be replaced with LoRA layers.\n",
        "target_modules= ['k_proj', 'q_proj', 'v_proj', 'o_proj', \"gate_proj\", \"down_proj\", \"up_proj\"]\n",
        "\n",
        "# 'set_seed' is a function that sets the seed for generating random numbers,\n",
        "# which is used for reproducibility of the results.\n",
        "set_seed(1234)\n"
      ]
    },
    {
      "cell_type": "markdown",
      "metadata": {
        "id": "Z3pJIh4h3Usa"
      },
      "source": [
        "## Connect to Huggingface Hub"
      ]
    },
    {
      "cell_type": "markdown",
      "metadata": {
        "id": "UYuRBtyKGgly"
      },
      "source": [
        "**IMPORTANT**: The upcoming section's execution will vary based on your code execution environment and the configuration of your API Keys.\n",
        "\n",
        "Interactive login to Hugging Face Hub is possible."
      ]
    },
    {
      "cell_type": "markdown",
      "metadata": {
        "id": "OBljdiQhGuOV"
      },
      "source": [
        "Alternatively, you can supply a .env file that contains the Hugging Face token."
      ]
    },
    {
      "cell_type": "code",
      "execution_count": null,
      "metadata": {
        "id": "GgZlM-ov461d"
      },
      "outputs": [],
      "source": [
        "from huggingface_hub import login\n",
        "\n",
        "from google.colab import userdata\n",
        "\n",
        "login(token=userdata.get('HF_TOKEN'))"
      ]
    },
    {
      "cell_type": "markdown",
      "metadata": {
        "id": "HJjE6hP3vt_Z"
      },
      "source": [
        "## Load the dataset with the instruction set"
      ]
    },
    {
      "cell_type": "code",
      "execution_count": null,
      "metadata": {
        "id": "qbbH23N9vXh2"
      },
      "outputs": [],
      "source": [
        "# This code block is used to load a dataset from the Hugging Face Dataset Hub, print its size, and show a random example from the dataset.\n",
        "\n",
        "# 'load_dataset' is a function from the 'datasets' library that loads a dataset from the Hugging Face Dataset Hub.\n",
        "# 'dataset_name' is the name of the dataset to load, and 'dataset_split' is the split of the dataset to load (e.g., 'train', 'test').\n",
        "dataset = load_dataset(dataset_name, split=dataset_split)\n",
        "\n",
        "# The 'len' function is used to get the size of the dataset, which is then printed.\n",
        "print(f\"dataset size: {len(dataset)}\")\n",
        "\n",
        "# 'randrange' is a function from the 'random' module that generates a random number within the specified range.\n",
        "# Here it's used to select a random example from the dataset, which is then printed.\n",
        "print(dataset[randrange(len(dataset))])"
      ]
    },
    {
      "cell_type": "code",
      "execution_count": null,
      "metadata": {
        "id": "uQTTAnGnHG8A"
      },
      "outputs": [],
      "source": [
        "# This line of code is used to display the structure of the 'dataset' object.\n",
        "# By simply writing the name of the object, Python will call its 'repr' (representation) method,\n",
        "# which returns a string that describes the object.\n",
        "# For a Hugging Face 'Dataset' object, this will typically show information such as the number of rows,\n",
        "# the column names, and the types of the data in each column.\n",
        "dataset"
      ]
    },
    {
      "cell_type": "code",
      "execution_count": null,
      "metadata": {
        "id": "WdlOkzJyFEKq"
      },
      "outputs": [],
      "source": [
        "# This line of code is used to print a random example from the 'dataset'.\n",
        "\n",
        "# 'randrange' is a function from the 'random' module that generates a random number within the specified range.\n",
        "# Here it's used to generate a random index within the range of the dataset size (i.e., 'len(dataset)').\n",
        "\n",
        "# This random index is then used to select a corresponding example from the 'dataset'.\n",
        "# The selected example is printed to the console.\n",
        "print(dataset[randrange(len(dataset))])"
      ]
    },
    {
      "cell_type": "markdown",
      "metadata": {
        "id": "4Yk2MqEJi81c"
      },
      "source": [
        "## Load the tokenizer to prepare the dataset"
      ]
    },
    {
      "cell_type": "code",
      "execution_count": null,
      "metadata": {
        "id": "4e7dmUBujAAM"
      },
      "outputs": [],
      "source": [
        "# This code block is used to load a tokenizer from the Hugging Face Model Hub.\n",
        "\n",
        "# 'tokenizer_id' is set to the 'model_id', which is the identifier for the pre-trained model.\n",
        "# This assumes that the tokenizer associated with the model has the same identifier as the model.\n",
        "tokenizer_id = model_id\n",
        "\n",
        "# 'AutoTokenizer.from_pretrained' is a method that loads a tokenizer from the Hugging Face Model Hub.\n",
        "# 'tokenizer_id' is passed as an argument to specify which tokenizer to load.\n",
        "tokenizer = AutoTokenizer.from_pretrained(tokenizer_id)\n",
        "\n",
        "# 'tokenizer.padding_side' is a property that specifies which side to pad when the input sequence is shorter than the maximum sequence length.\n",
        "# Setting it to 'right' means that padding tokens will be added to the right (end) of the sequence.\n",
        "# This is done to prevent warnings that can occur when the padding side is not explicitly set.\n",
        "tokenizer.padding_side = 'right'"
      ]
    },
    {
      "cell_type": "markdown",
      "metadata": {
        "id": "oMkbuNypTgD9"
      },
      "source": [
        "Function to create the appropiate format for our model. We are going to adapt our dataset to the ChatML format."
      ]
    },
    {
      "cell_type": "code",
      "source": [
        "# This code block defines two functions that format the dataset for training a chat model.\n",
        "\n",
        "def create_message_column(row):\n",
        "\n",
        "    messages = []\n",
        "\n",
        "    # Extract the user's question\n",
        "    user = {\n",
        "        \"content\": row[\"ambiguous_question\"],\n",
        "        \"role\": \"user\"\n",
        "    }\n",
        "    messages.append(user)\n",
        "\n",
        "    # Extract the assistant's responses from 'qa_pairs'\n",
        "    if \"qa_pairs\" in row and isinstance(row[\"qa_pairs\"], list):\n",
        "        for qa in row[\"qa_pairs\"]:\n",
        "            if \"answer\" in qa:\n",
        "                assistant = {\n",
        "                    \"content\": qa[\"answer\"],\n",
        "                    \"role\": \"assistant\"\n",
        "                }\n",
        "                messages.append(assistant)\n",
        "\n",
        "    return {\"messages\": messages}\n",
        "\n",
        "\n",
        "def format_dataset_chatml(row):\n",
        "\n",
        "    return {\n",
        "        \"text\": tokenizer.apply_chat_template(row[\"messages\"], add_generation_prompt=False, tokenize=False)\n",
        "    }\n"
      ],
      "metadata": {
        "id": "LDBP_8MhRTP-"
      },
      "execution_count": null,
      "outputs": []
    },
    {
      "cell_type": "markdown",
      "metadata": {
        "id": "S79BrDDPTt3X"
      },
      "source": [
        "Apply the ChatML format to our dataset"
      ]
    },
    {
      "cell_type": "markdown",
      "metadata": {
        "id": "uDAdHYkTDvrk"
      },
      "source": [
        "The code block is used to prepare a dataset for training a chat model.\n",
        "\n",
        "The dataset.map(create_message_column) line applies the create_message_column function to each example in the dataset. This function takes a row from the dataset and transforms it into a dictionary with a 'messages' key. The value of this key is a list of 'user' and 'assistant' messages.\n",
        "\n",
        "The 'user' message is created by combining the 'instruction' and 'input' fields from the row, while the 'assistant' message is created from the 'output' field of the row. These messages are appended to the 'messages' list in the order of 'user' and 'assistant'.\n",
        "\n",
        "The dataset_chatml.map(format_dataset_chatml) line then applies the format_dataset_chatml function to each example in the updated dataset. This function takes a row from the dataset and transforms it into a dictionary with a 'text' key. The value of this key is a string of formatted chat messages.\n",
        "\n",
        "The tokenizer.apply_chat_template method is used to format the list of chat messages into a single string. The 'add_generation_prompt' parameter is set to False to avoid adding a generation prompt at the end of the string, and the 'tokenize' parameter is set to False to return a string instead of a list of tokens.\n",
        "\n",
        "The result of these operations is a dataset where each example is a dictionary with a 'text' key and a string of formatted chat messages as its value. This format is suitable for training a chat model."
      ]
    },
    {
      "cell_type": "code",
      "execution_count": null,
      "metadata": {
        "id": "reLTRh8mjwN6"
      },
      "outputs": [],
      "source": [
        "# This code block is used to prepare the 'dataset' for training a chat model.\n",
        "\n",
        "# 'dataset.map' is a method that applies a function to each example in the 'dataset'.\n",
        "# 'create_message_column' is a function that formats each example into a 'messages' format suitable for a chat model.\n",
        "# The result is a new 'dataset_chatml' with the formatted examples.\n",
        "dataset_chatml = dataset.map(create_message_column)\n",
        "\n",
        "# 'dataset_chatml.map' is a method that applies a function to each example in the 'dataset_chatml'.\n",
        "# 'format_dataset_chatml' is a function that further formats each example into a single string of chat messages.\n",
        "# The result is an updated 'dataset_chatml' with the further formatted examples.\n",
        "dataset_chatml = dataset_chatml.map(format_dataset_chatml)"
      ]
    },
    {
      "cell_type": "code",
      "execution_count": null,
      "metadata": {
        "id": "Tba_SeUKkAHB"
      },
      "outputs": [],
      "source": [
        "# This line of code is used to access and display the first example from the 'dataset_chatml'.\n",
        "\n",
        "# 'dataset_chatml[0]' uses indexing to access the first example in the 'dataset_chatml'.\n",
        "# In Python, indexing starts at 0, so 'dataset_chatml[0]' refers to the first example.\n",
        "# The result is a dictionary with a 'text' key and a string of formatted chat messages as its value.\n",
        "dataset_chatml[0]"
      ]
    },
    {
      "cell_type": "markdown",
      "metadata": {
        "id": "XYtBeWV7YsGG"
      },
      "source": [
        "Split the dataset into a train and test sets"
      ]
    },
    {
      "cell_type": "code",
      "execution_count": null,
      "metadata": {
        "id": "YGvvmV_8k2-H"
      },
      "outputs": [],
      "source": [
        "# This code block is used to split the 'dataset_chatml' into training and testing sets.\n",
        "\n",
        "# 'dataset_chatml.train_test_split' is a method that splits the 'dataset_chatml' into a training set and a testing set.\n",
        "# 'test_size' is a parameter that specifies the proportion of the 'dataset_chatml' to include in the testing set. Here it's set to 0.05, meaning that 5% of the 'dataset_chatml' will be included in the testing set.\n",
        "# 'seed' is a parameter that sets the seed for the random number generator. This is used to ensure that the split is reproducible. Here it's set to 1234.\n",
        "dataset_chatml = dataset_chatml.train_test_split(test_size=0.05, seed=1234)\n",
        "\n",
        "# This line of code is used to display the structure of the 'dataset_chatml' after the split.\n",
        "# It will typically show information such as the number of rows in the training set and the testing set.\n",
        "dataset_chatml"
      ]
    },
    {
      "cell_type": "markdown",
      "metadata": {
        "id": "y5beyTxUwtd9"
      },
      "source": [
        "## Instruction fine-tune a Phi-3-mini model using LORA and trl"
      ]
    },
    {
      "cell_type": "markdown",
      "metadata": {
        "id": "RJivw-mLwyDI"
      },
      "source": [
        "First, we try to identify out GPU"
      ]
    },
    {
      "cell_type": "markdown",
      "metadata": {
        "id": "uR17n-POlq7C"
      },
      "source": [
        "## Load the tokenizer and model to finetune"
      ]
    },
    {
      "cell_type": "code",
      "execution_count": null,
      "metadata": {
        "id": "5-OL7AW-xE_r"
      },
      "outputs": [],
      "source": [
        "# This code block is used to load a pre-trained model and its associated tokenizer from the Hugging Face Model Hub.\n",
        "\n",
        "# 'model_name' is set to the identifier of the pre-trained model.\n",
        "model_name = \"microsoft/Phi-3-mini-4k-instruct\"\n",
        "\n",
        "# 'AutoTokenizer.from_pretrained' is a method that loads a tokenizer from the Hugging Face Model Hub.\n",
        "# 'model_id' is passed as an argument to specify which tokenizer to load.\n",
        "# 'trust_remote_code' is set to True to trust the remote code in the tokenizer files.\n",
        "# 'add_eos_token' is set to True to add an end-of-sentence token to the tokenizer.\n",
        "# 'use_fast' is set to True to use the fast version of the tokenizer.\n",
        "tokenizer = AutoTokenizer.from_pretrained(model_id, trust_remote_code=True, add_eos_token=True, use_fast=True)\n",
        "\n",
        "# The padding token is set to the unknown token.\n",
        "tokenizer.pad_token = tokenizer.unk_token\n",
        "\n",
        "# The ID of the padding token is set to the ID of the unknown token.\n",
        "tokenizer.pad_token_id = tokenizer.convert_tokens_to_ids(tokenizer.pad_token)\n",
        "\n",
        "# The padding side is set to 'left', meaning that padding tokens will be added to the left (start) of the sequence.\n",
        "tokenizer.padding_side = 'left'\n",
        "\n",
        "# 'AutoModelForCausalLM.from_pretrained' is a method that loads a pre-trained model for causal language modeling from the Hugging Face Model Hub.\n",
        "# 'model_id' is passed as an argument to specify which model to load.\n",
        "# 'torch_dtype' is set to the compute data type determined earlier.\n",
        "# 'trust_remote_code' is set to True to trust the remote code in the model files.\n",
        "# 'device_map' is passed as an argument to specify the device mapping for distributed training.\n",
        "# 'attn_implementation' is set to the attention implementation determined earlier.\n",
        "model = AutoModelForCausalLM.from_pretrained(\n",
        "          model_id, torch_dtype=compute_dtype, trust_remote_code=True, device_map=device_map,\n",
        ")"
      ]
    },
    {
      "cell_type": "markdown",
      "metadata": {
        "id": "MJ7Pt1LsUCcG"
      },
      "source": [
        "Configure the LoRA properties"
      ]
    },
    {
      "cell_type": "markdown",
      "metadata": {
        "id": "4UHudDy8xbe9"
      },
      "source": [
        "The SFTTrainer offers seamless integration with peft, simplifying the process of instruction tuning LLMs. All we need to do is create our LoRAConfig and supply it to the trainer. However, before initiating the training process, we must specify the hyperparameters we intend to use, which are defined in TrainingArguments."
      ]
    },
    {
      "cell_type": "code",
      "execution_count": null,
      "metadata": {
        "id": "hbCaZbitxuW7"
      },
      "outputs": [],
      "source": [
        "# This code block is used to define the training arguments for the model.\n",
        "\n",
        "# 'TrainingArguments' is a class that holds the arguments for training a model.\n",
        "# 'output_dir' is the directory where the model and its checkpoints will be saved.\n",
        "# 'evaluation_strategy' is set to \"steps\", meaning that evaluation will be performed after a certain number of training steps.\n",
        "# 'do_eval' is set to True, meaning that evaluation will be performed.\n",
        "# 'optim' is set to \"adamw_torch\", meaning that the AdamW optimizer from PyTorch will be used.\n",
        "# 'per_device_train_batch_size' and 'per_device_eval_batch_size' are set to 8, meaning that the batch size for training and evaluation will be 8 per device.\n",
        "# 'gradient_accumulation_steps' is set to 4, meaning that gradients will be accumulated over 4 steps before performing a backward/update pass.\n",
        "# 'log_level' is set to \"debug\", meaning that all log messages will be printed.\n",
        "# 'save_strategy' is set to \"epoch\", meaning that the model will be saved after each epoch.\n",
        "# 'logging_steps' is set to 100, meaning that log messages will be printed every 100 steps.\n",
        "# 'learning_rate' is set to 1e-4, which is the learning rate for the optimizer.\n",
        "# 'fp16' is set to the opposite of whether bfloat16 is supported on the current CUDA device.\n",
        "# 'bf16' is set to whether bfloat16 is supported on the current CUDA device.\n",
        "# 'eval_steps' is set to 100, meaning that evaluation will be performed every 100 steps.\n",
        "# 'num_train_epochs' is set to 3, meaning that the model will be trained for 3 epochs.\n",
        "# 'warmup_ratio' is set to 0.1, meaning that 10% of the total training steps will be used for the warmup phase.\n",
        "# 'lr_scheduler_type' is set to \"linear\", meaning that a linear learning rate scheduler will be used.\n",
        "# 'report_to' is set to \"wandb\", meaning that training and evaluation metrics will be reported to Weights & Biases.\n",
        "# 'seed' is set to 42, which is the seed for the random number generator.\n",
        "\n",
        "# LoraConfig object is created with the following parameters:\n",
        "# 'r' (rank of the low-rank approximation) is set to 16,\n",
        "# 'lora_alpha' (scaling factor) is set to 16,\n",
        "# 'lora_dropout' dropout probability for Lora layers is set to 0.05,\n",
        "# 'task_type' (set to TaskType.CAUSAL_LM indicating the task type),\n",
        "# 'target_modules' (the modules to which LoRA is applied) choosing linear layers except the output layer..\n",
        "\n",
        "\n",
        "args = TrainingArguments(\n",
        "        output_dir=\"./phi-3-mini-LoRA\",\n",
        "        evaluation_strategy=\"steps\",\n",
        "        do_eval=True,\n",
        "        optim=\"adamw_torch\",\n",
        "        per_device_train_batch_size=8,\n",
        "        gradient_accumulation_steps=4,\n",
        "        per_device_eval_batch_size=8,\n",
        "        log_level=\"debug\",\n",
        "        save_strategy=\"epoch\",\n",
        "        logging_steps=100,\n",
        "        learning_rate=1e-4,\n",
        "        fp16 = not torch.cuda.is_bf16_supported(),\n",
        "        bf16 = torch.cuda.is_bf16_supported(),\n",
        "        eval_steps=100,\n",
        "        num_train_epochs=3,\n",
        "        warmup_ratio=0.1,\n",
        "        lr_scheduler_type=\"linear\",\n",
        "        report_to=\"wandb\",\n",
        "        seed=42,\n",
        ")\n",
        "\n",
        "peft_config = LoraConfig(\n",
        "        r=lora_r,\n",
        "        lora_alpha=lora_alpha,\n",
        "        lora_dropout=lora_dropout,\n",
        "        task_type=TaskType.CAUSAL_LM,\n",
        "        target_modules=target_modules,\n",
        ")"
      ]
    },
    {
      "cell_type": "markdown",
      "metadata": {
        "id": "EtAPtI3do5rA"
      },
      "source": [
        "## Establish Connection with wandb and Initiate the Project and Experiment"
      ]
    },
    {
      "cell_type": "code",
      "execution_count": null,
      "metadata": {
        "id": "PY6vPh6ZS2nh"
      },
      "outputs": [],
      "source": [
        "# This code block is used to initialize Weights & Biases (wandb), a tool for tracking and visualizing machine learning experiments.\n",
        "\n",
        "# 'import wandb' is used to import the wandb library.\n",
        "import wandb\n",
        "\n",
        "# 'wandb.login()' is a method that logs you into your Weights & Biases account.\n",
        "# If you're not already logged in, it will prompt you to log in.\n",
        "# Once you're logged in, you can use Weights & Biases to track and visualize your experiments.\n",
        "wandb.login(key=userdata.get('WANDB_TOKEN'))"
      ]
    },
    {
      "cell_type": "code",
      "execution_count": null,
      "metadata": {
        "id": "uoKRozpXT5Kg"
      },
      "outputs": [],
      "source": [
        "# This code block is used to initialize a Weights & Biases (wandb) run.\n",
        "\n",
        "# 'project_name' is set to the name of the project in Weights & Biases.\n",
        "project_name = \"Phi3-mini-ft-python-code\"\n",
        "\n",
        "# 'wandb.init' is a method that initializes a new Weights & Biases run.\n",
        "# 'project' is set to 'project_name', meaning that the run will be associated with this project.\n",
        "# 'name' is set to \"phi-3-mini-ft-py-3e\", which is the name of the run.\n",
        "# Each run has a unique name which can be used to identify it in the Weights & Biases dashboard.\n",
        "wandb.init(project=project_name, name = \"phi-3-mini-ft-py-3e\")"
      ]
    },
    {
      "cell_type": "markdown",
      "metadata": {
        "id": "1XTnGAYRy-wZ"
      },
      "source": [
        "We now possess all the necessary components to construct our SFTTrainer and commence the training of our model."
      ]
    },
    {
      "cell_type": "code",
      "execution_count": null,
      "metadata": {
        "id": "GKRtirQOy_P5"
      },
      "outputs": [],
      "source": [
        "# This code block is used to initialize the SFTTrainer, which is used to train the model.\n",
        "\n",
        "# 'model' is the model that will be trained.\n",
        "# 'train_dataset' and 'eval_dataset' are the datasets that will be used for training and evaluation, respectively.\n",
        "# 'peft_config' is the configuration for peft, which is used for instruction tuning.\n",
        "# 'dataset_text_field' is set to \"text\", meaning that the 'text' field of the dataset will be used as the input for the model.\n",
        "# 'max_seq_length' is set to 512, meaning that the maximum length of the sequences that will be fed to the model is 512 tokens.\n",
        "# 'tokenizer' is the tokenizer that will be used to tokenize the input text.\n",
        "# 'args' are the training arguments that were defined earlier.\n",
        "\n",
        "\n",
        "trainer = SFTTrainer(\n",
        "    model=model,\n",
        "    train_dataset=dataset_chatml['train'],\n",
        "    eval_dataset=dataset_chatml['test'],\n",
        "    peft_config=peft_config,\n",
        "    processing_class=tokenizer,\n",
        "    args=args,\n",
        ")\n"
      ]
    },
    {
      "cell_type": "markdown",
      "metadata": {
        "id": "L3StRhnVzQfp"
      },
      "source": [
        "Initiate the model training process by invoking the train() method on our Trainer instance."
      ]
    },
    {
      "cell_type": "code",
      "execution_count": null,
      "metadata": {
        "id": "I-XPLvS7zQ4n"
      },
      "outputs": [],
      "source": [
        "# This code block is used to train the model and save it locally.\n",
        "\n",
        "# 'trainer.train()' is a method that starts the training of the model.\n",
        "# It uses the training dataset, evaluation dataset, and training arguments that were provided when the trainer was initialized.\n",
        "trainer.train()\n",
        "\n",
        "# 'trainer.save_model()' is a method that saves the trained model locally.\n",
        "# The model will be saved in the directory specified by 'output_dir' in the training arguments.\n",
        "trainer.save_model()"
      ]
    },
    {
      "cell_type": "markdown",
      "metadata": {
        "id": "CTVqO77zZGc7"
      },
      "source": [
        "Store the adapter on the Hugging Face Hu"
      ]
    },
    {
      "cell_type": "code",
      "execution_count": null,
      "metadata": {
        "id": "pIIR67O862DH"
      },
      "outputs": [],
      "source": [
        "# This code block is used to save the adapter to the Hugging Face Model Hub.\n",
        "\n",
        "# 'trainer.push_to_hub' is a method that pushes the trained model (or adapter in this case) to the Hugging Face Model Hub.\n",
        "# The argument \"edumunozsala/adapter-phi-3-mini-py_code\" is the name of the repository on the Hugging Face Model Hub where the adapter will be saved.\n",
        "trainer.push_to_hub(\"adamcochrane/adapter-phi-3-mini\")"
      ]
    },
    {
      "cell_type": "markdown",
      "metadata": {
        "id": "QsiRfb0bz7fh"
      },
      "source": [
        "## Merge the model and the adapter and save it"
      ]
    },
    {
      "cell_type": "markdown",
      "metadata": {
        "id": "TxWD7KsvKWF1"
      },
      "source": [
        "Combine the model and the adapter, then save it. It's necessary to clear the memory when operating on a T4 instance."
      ]
    },
    {
      "cell_type": "code",
      "execution_count": null,
      "metadata": {
        "id": "eKr5H6dzL97a"
      },
      "outputs": [],
      "source": [
        "# This code block is used to free up GPU memory.\n",
        "\n",
        "# 'del model' and 'del trainer' are used to delete the 'model' and 'trainer' objects.\n",
        "# This removes the references to these objects, allowing Python's garbage collector to free up the memory they were using.\n",
        "\n",
        "del model\n",
        "del trainer\n",
        "\n",
        "# 'import gc' is used to import Python's garbage collector module.\n",
        "import gc\n",
        "\n",
        "# 'gc.collect()' is a method that triggers a full garbage collection, which can help to free up memory.\n",
        "# It's called twice here to ensure that all unreachable objects are collected.\n",
        "gc.collect()\n",
        "gc.collect()"
      ]
    },
    {
      "cell_type": "code",
      "execution_count": null,
      "metadata": {
        "id": "R1h7kunlRuWE"
      },
      "outputs": [],
      "source": [
        "# 'torch.cuda.empty_cache()' is a PyTorch method that releases all unoccupied cached memory currently held by\n",
        "# the caching allocator so that those can be used in other GPU application and visible in nvidia-smi.\n",
        "torch.cuda.empty_cache()"
      ]
    },
    {
      "cell_type": "code",
      "execution_count": null,
      "metadata": {
        "id": "70Nd6txqMeIt"
      },
      "outputs": [],
      "source": [
        "# 'gc.collect()' is a method that triggers a full garbage collection in Python.\n",
        "# It forces the garbage collector to release unreferenced memory, which can be helpful in managing memory usage, especially in a resource-constrained environment.\n",
        "gc.collect()"
      ]
    },
    {
      "cell_type": "markdown",
      "metadata": {
        "id": "BOEDlZDyKg5A"
      },
      "source": [
        "Load the previously trained and stored model, combine it, and then save the complete model."
      ]
    },
    {
      "cell_type": "code",
      "execution_count": null,
      "metadata": {
        "id": "Fxamw2PPL804"
      },
      "outputs": [],
      "source": [
        "# This code block is used to load the trained model, merge it, and save the merged model.\n",
        "\n",
        "# 'AutoPeftModelForCausalLM' is a class from the 'peft' library that provides a causal language model with PEFT (Performance Efficient Fine-Tuning) support.\n",
        "\n",
        "from peft import AutoPeftModelForCausalLM\n",
        "\n",
        "# 'AutoPeftModelForCausalLM.from_pretrained' is a method that loads a pre-trained model (adapter model) and its base model.\n",
        "#  The adapter model is loaded from 'args.output_dir', which is the directory where the trained model was saved.\n",
        "# 'low_cpu_mem_usage' is set to True, which means that the model will use less CPU memory.\n",
        "# 'return_dict' is set to True, which means that the model will return a 'ModelOutput' (a named tuple) instead of a plain tuple.\n",
        "# 'torch_dtype' is set to 'torch.bfloat16', which means that the model will use bfloat16 precision for its computations.\n",
        "# 'trust_remote_code' is set to True, which means that the model will trust and execute remote code.\n",
        "# 'device_map' is the device map that will be used by the model.\n",
        "\n",
        "new_model = AutoPeftModelForCausalLM.from_pretrained(\n",
        "    args.output_dir,\n",
        "    low_cpu_mem_usage=True,\n",
        "    return_dict=True,\n",
        "    torch_dtype=torch.bfloat16, #torch.float16,\n",
        "    trust_remote_code=True,\n",
        "    device_map=device_map,\n",
        ")\n",
        "\n",
        "# 'new_model.merge_and_unload' is a method that merges the model and unloads it from memory.\n",
        "# The merged model is stored in 'merged_model'.\n",
        "\n",
        "merged_model = new_model.merge_and_unload()\n",
        "\n",
        "# 'merged_model.save_pretrained' is a method that saves the merged model.\n",
        "# The model is saved in the directory \"merged_model\".\n",
        "# 'trust_remote_code' is set to True, which means that the model will trust and execute remote code.\n",
        "# 'safe_serialization' is set to True, which means that the model will use safe serialization.\n",
        "\n",
        "merged_model.save_pretrained(\"merged_model\", trust_remote_code=True, safe_serialization=True)\n",
        "\n",
        "# 'tokenizer.save_pretrained' is a method that saves the tokenizer.\n",
        "# The tokenizer is saved in the directory \"merged_model\".\n",
        "\n",
        "tokenizer.save_pretrained(\"merged_model\")"
      ]
    },
    {
      "cell_type": "code",
      "execution_count": null,
      "metadata": {
        "id": "4NmPKCewTb51"
      },
      "outputs": [],
      "source": [
        "# This code block is used to push the merged model and the tokenizer to the Hugging Face Model Hub.\n",
        "\n",
        "# 'merged_model.push_to_hub' is a method that pushes the merged model to the Hugging Face Model Hub.\n",
        "# 'hf_model_repo' is the name of the repository on the Hugging Face Model Hub where the model will be saved.\n",
        "merged_model.push_to_hub(hf_model_repo)\n",
        "\n",
        "# 'tokenizer.push_to_hub' is a method that pushes the tokenizer to the Hugging Face Model Hub.\n",
        "# 'hf_model_repo' is the name of the repository on the Hugging Face Model Hub where the tokenizer will be saved.\n",
        "tokenizer.push_to_hub(hf_model_repo)"
      ]
    },
    {
      "cell_type": "markdown",
      "metadata": {
        "id": "NPFsF-OrfBZc"
      },
      "source": [
        "## Model Inference and evaluation"
      ]
    },
    {
      "cell_type": "markdown",
      "metadata": {
        "id": "yYdbAKY8L29E"
      },
      "source": [
        "For model inference and evaluation, we will download the model we created from the Hugging Face Hub and test it to ensure its functionality."
      ]
    },
    {
      "cell_type": "code",
      "execution_count": null,
      "metadata": {
        "id": "HLKj22UaWngA"
      },
      "outputs": [],
      "source": [
        "# 'hf_model_repo' is a variable that holds the name of the repository on the Hugging Face Model Hub.\n",
        "# This is where the trained and merged model, as well as the tokenizer, have been saved.\n",
        "hf_model_repo"
      ]
    },
    {
      "cell_type": "code",
      "execution_count": null,
      "metadata": {
        "id": "gRcpjHQ0sdMy"
      },
      "outputs": [],
      "source": [
        "# 'hf_model_repo' is a variable that holds the name of the repository on the Hugging Face Model Hub.\n",
        "# This is where the trained and merged model, as well as the tokenizer, have been saved.\n",
        "# If 'hf_model_repo' is not defined, it is set to 'username/modelname'.\n",
        "# This is the default repository where the model and tokenizer will be saved if no other repository is specified.\n",
        "hf_model_repo = 'username/modelname' if not hf_model_repo else hf_model_repo"
      ]
    },
    {
      "cell_type": "markdown",
      "metadata": {
        "id": "ppxqEpgoU1hu"
      },
      "source": [
        "Retrieve the model and tokenizer from the Hugging Face Hub."
      ]
    },
    {
      "cell_type": "code",
      "execution_count": null,
      "metadata": {
        "id": "oJ6pB5b9U3xt"
      },
      "outputs": [],
      "source": [
        "# This code block is used to load the model and tokenizer from the Hugging Face Model Hub.\n",
        "\n",
        "# 'torch' is a library that provides a wide range of functionalities for tensor computations with strong GPU acceleration support.\n",
        "# 'AutoTokenizer' and 'AutoModelForCausalLM' are classes from the 'transformers' library that provide a tokenizer and a causal language model, respectively.\n",
        "# 'set_seed' is a function from the 'transformers' library that sets the seed for generating random numbers, which can be used for reproducibility.\n",
        "\n",
        "import torch\n",
        "from transformers import AutoTokenizer, AutoModelForCausalLM, set_seed\n",
        "\n",
        "# 'set_seed(1234)' sets the seed for generating random numbers to 1234.\n",
        "set_seed(1234)  # For reproducibility\n",
        "\n",
        "# 'AutoTokenizer.from_pretrained' is a method that loads a pre-trained tokenizer.\n",
        "# The tokenizer is loaded from 'hf_model_repo', which is the name of the repository on the Hugging Face Model Hub where the tokenizer was saved.\n",
        "# 'trust_remote_code' is set to True, which means that the tokenizer will trust and execute remote code.\n",
        "\n",
        "tokenizer = AutoTokenizer.from_pretrained(hf_model_repo,trust_remote_code=True)\n",
        "\n",
        "# 'AutoModelForCausalLM.from_pretrained' is a method that loads a pre-trained causal language model.\n",
        "# The model is loaded from 'hf_model_repo', which is the name of the repository on the Hugging Face Model Hub where the model was saved.\n",
        "# 'trust_remote_code' is set to True, which means that the model will trust and execute remote code.\n",
        "# 'torch_dtype' is set to \"auto\", which means that the model will automatically choose the data type for its computations.\n",
        "# 'device_map' is set to \"cuda\", which means that the model will use the CUDA device for its computations.\n",
        "\n",
        "model = AutoModelForCausalLM.from_pretrained(hf_model_repo, trust_remote_code=True, torch_dtype=\"auto\", device_map=\"cuda\")"
      ]
    },
    {
      "cell_type": "markdown",
      "metadata": {
        "id": "WElyWaQ1U4yJ"
      },
      "source": [
        "We arrange the dataset in the same manner as before."
      ]
    },
    {
      "cell_type": "code",
      "execution_count": null,
      "metadata": {
        "id": "uHeysh7bVCH6"
      },
      "outputs": [],
      "source": [
        "# This code block is used to prepare the dataset for model training.\n",
        "\n",
        "# 'dataset.map(create_message_column)' applies the 'create_message_column' function to each element in the 'dataset'.\n",
        "# This function is used to create a new column in the dataset.\n",
        "dataset_chatml = dataset.map(create_message_column)\n",
        "\n",
        "# 'dataset_chatml.map(format_dataset_chatml)' applies the 'format_dataset_chatml' function to each element in 'dataset_chatml'.\n",
        "# This function is used to format the dataset in a way that is suitable for chat ML.\n",
        "dataset_chatml = dataset_chatml.map(format_dataset_chatml)\n",
        "\n",
        "# 'dataset_chatml.train_test_split(test_size=0.05, seed=1234)' splits 'dataset_chatml' into a training set and a test set.\n",
        "# 'test_size=0.05' means that 5% of the data will be used for the test set.\n",
        "# 'seed=1234' is used for reproducibility.\n",
        "dataset_chatml = dataset_chatml.train_test_split(test_size=0.05, seed=1234)\n",
        "\n",
        "# 'dataset_chatml' is printed to the console to inspect its contents.\n",
        "dataset_chatml"
      ]
    },
    {
      "cell_type": "code",
      "execution_count": null,
      "metadata": {
        "id": "p91iNnNSbrq2"
      },
      "outputs": [],
      "source": [
        "# 'dataset_chatml['test'][0]' is used to access the first element of the test set in the 'dataset_chatml' dataset.\n",
        "# This can be used to inspect the first test sample to understand its structure and contents.\n",
        "dataset_chatml['test'][0]"
      ]
    },
    {
      "cell_type": "markdown",
      "metadata": {
        "id": "8IGA3VJkVJM0"
      },
      "source": [
        "Create a text generation pipeline to run the inference"
      ]
    },
    {
      "cell_type": "code",
      "execution_count": null,
      "metadata": {
        "id": "QLkICus2Y89r"
      },
      "outputs": [],
      "source": [
        "# 'pipeline' is a function from the 'transformers' library that creates a pipeline for text generation.\n",
        "# 'text-generation' is the task that the pipeline will perform.\n",
        "# 'model' is the pre-trained model that the pipeline will use.\n",
        "# 'tokenizer' is the tokenizer that the pipeline will use to tokenize the input text.\n",
        "# The created pipeline is stored in the 'pipe' variable.\n",
        "pipe = pipeline(\"text-generation\", model=model, tokenizer=tokenizer)"
      ]
    },
    {
      "cell_type": "code",
      "execution_count": null,
      "metadata": {
        "id": "GUozL80eaYWn"
      },
      "outputs": [],
      "source": [
        "# This code block is used to test the chat template.\n",
        "\n",
        "# 'pipe.tokenizer.apply_chat_template' is a method that applies the chat template to a list of messages.\n",
        "# The list of messages is [{\"role\": \"user\", \"content\": dataset_chatml['test'][0]['messages'][0]['content']}], which is the first message in the test set of 'dataset_chatml'.\n",
        "# 'tokenize' is set to False, which means that the method will not tokenize the messages.\n",
        "# 'add_generation_prompt' is set to True, which means that the method will add a generation prompt to the messages.\n",
        "pipe.tokenizer.apply_chat_template([{\"role\": \"user\", \"content\": dataset_chatml['test'][0]['messages'][0]['content']}], tokenize=False, add_generation_prompt=True)"
      ]
    },
    {
      "cell_type": "markdown",
      "metadata": {
        "id": "wJQp7QFOZlRl"
      },
      "source": [
        "Develop a function that organizes the input and performs inference on an individual sample."
      ]
    },
    {
      "cell_type": "code",
      "execution_count": null,
      "metadata": {
        "id": "K3FBmBU8Ya_k"
      },
      "outputs": [],
      "source": [
        "# This code block defines a function 'test_inference' that performs inference on a given prompt.\n",
        "\n",
        "# 'prompt' is the input to the function. It is the text that the model will generate a response to.\n",
        "\n",
        "# 'pipe.tokenizer.apply_chat_template' is a method that applies the chat template to the prompt.\n",
        "# The prompt is wrapped in a list and formatted as a dictionary with \"role\" set to \"user\" and \"content\" set to the prompt.\n",
        "# 'tokenize' is set to False, which means that the method will not tokenize the prompt.\n",
        "# 'add_generation_prompt' is set to True, which means that the method will add a generation prompt to the prompt.\n",
        "# The formatted prompt is stored back in the 'prompt' variable.\n",
        "\n",
        "# 'pipe' is the text generation pipeline that was created earlier.\n",
        "# It is called with the formatted prompt and several parameters that control the text generation process.\n",
        "# 'max_new_tokens=256' limits the maximum number of new tokens that can be generated.\n",
        "# 'do_sample=True' enables sampling, which means that the model will generate diverse responses.\n",
        "# 'num_beams=1' sets the number of beams for beam search to 1, which means that the model will generate one response.\n",
        "# 'temperature=0.3' controls the randomness of the responses. Lower values make the responses more deterministic.\n",
        "# 'top_k=50' limits the number of highest probability vocabulary tokens to consider for each step.\n",
        "# 'top_p=0.95' enables nucleus sampling and sets the cumulative probability of parameter tokens to 0.95.\n",
        "# 'max_time=180' limits the maximum time for the generation process to 180 seconds.\n",
        "# The generated responses are stored in the 'outputs' variable.\n",
        "\n",
        "# The function returns the first generated response.\n",
        "# The response is stripped of the prompt and any leading or trailing whitespace.\n",
        "def test_inference(prompt):\n",
        "    prompt = pipe.tokenizer.apply_chat_template([{\"role\": \"user\", \"content\": prompt}], tokenize=False, add_generation_prompt=True)\n",
        "    outputs = pipe(prompt, max_new_tokens=256, do_sample=True, num_beams=1, temperature=0.3, top_k=50, top_p=0.95,\n",
        "                   max_time= 180) #, eos_token_id=eos_token)\n",
        "    return outputs[0]['generated_text'][len(prompt):].strip()"
      ]
    },
    {
      "cell_type": "code",
      "execution_count": null,
      "metadata": {
        "id": "flQTLjWvZ3Dz"
      },
      "outputs": [],
      "source": [
        "# This code block calls the 'test_inference' function with the first message in the test set of 'dataset_chatml' as the prompt.\n",
        "# 'test_inference' performs inference on the prompt and returns a generated response.\n",
        "# The response is printed to the console.\n",
        "test_inference(dataset_chatml['test'][0]['messages'][0]['content'])"
      ]
    },
    {
      "cell_type": "markdown",
      "metadata": {
        "id": "jLh3aUPLav4q"
      },
      "source": [
        "## Evaluate the performance"
      ]
    },
    {
      "cell_type": "code",
      "execution_count": null,
      "metadata": {
        "id": "nWitaaKfbGK6"
      },
      "outputs": [],
      "source": [
        "# 'load_metric' is a function from the 'datasets' library that loads a metric for evaluating the model.\n",
        "# Metrics are used to measure the performance of the model on certain tasks.\n",
        "from datasets import load_metric"
      ]
    },
    {
      "cell_type": "markdown",
      "metadata": {
        "id": "q9mVDf_WVSwE"
      },
      "source": [
        "We'll employ the ROUGE metric to assess performance. While it may not be the optimal metric, it's straightforward and convenient to utilize."
      ]
    },
    {
      "cell_type": "code",
      "execution_count": null,
      "metadata": {
        "id": "aIUQIUaFbGT9"
      },
      "outputs": [],
      "source": [
        "# 'load_metric(\"rouge\", trust_remote_code=True)' loads the ROUGE metric from the 'datasets' library.\n",
        "# ROUGE is a set of metrics used to evaluate automatic summarization and machine translation.\n",
        "# 'trust_remote_code' is set to True, which means that the metric will trust and execute remote code.\n",
        "# The loaded metric is stored in the 'rouge_metric' variable.\n",
        "rouge_metric = load_metric(\"rouge\", trust_remote_code=True)"
      ]
    },
    {
      "cell_type": "markdown",
      "metadata": {
        "id": "789fb1f1-fd01-4446-8a52-cef54d3331af"
      },
      "source": [
        "Develop a function for performing inference and assessing an instance."
      ]
    },
    {
      "cell_type": "code",
      "execution_count": null,
      "metadata": {
        "id": "c31d294b-79a4-42d4-ad88-2229551feecb",
        "tags": []
      },
      "outputs": [],
      "source": [
        "# This code block defines a function 'calculate_rogue' that calculates the ROUGE score for a given row in the dataset.\n",
        "\n",
        "# 'row' is the input to the function. It is a row in the dataset that contains a message and its corresponding output.\n",
        "\n",
        "# 'test_inference(row['messages'][0]['content'])' calls the 'test_inference' function with the first message in the row as the prompt.\n",
        "# 'test_inference' performs inference on the prompt and returns a generated response.\n",
        "# The response is stored in the 'response' variable.\n",
        "\n",
        "# 'rouge_metric.compute' is a method that calculates the ROUGE score for the generated response and the corresponding output in the row.\n",
        "# 'predictions' is set to the generated response and 'references' is set to the output in the row.\n",
        "# 'use_stemmer' is set to True, which means that the method will use a stemmer to reduce words to their root form.\n",
        "# The calculated ROUGE score is stored in the 'result' variable.\n",
        "\n",
        "# The 'result' dictionary is updated to contain the F-measure of each ROUGE score multiplied by 100.\n",
        "# The F-measure is a measure of a test's accuracy that considers both the precision and the recall of the test.\n",
        "\n",
        "# The 'response' is added to the 'result' dictionary.\n",
        "\n",
        "# The function returns the 'result' dictionary.\n",
        "def calculate_rogue(row):\n",
        "    response = test_inference(row['messages'][0]['content'])\n",
        "    result = rouge_metric.compute(predictions=[response], references=[row['output']], use_stemmer=True)\n",
        "    result = {key: value.mid.fmeasure * 100 for key, value in result.items()}\n",
        "    result['response']=response\n",
        "    return result"
      ]
    },
    {
      "cell_type": "markdown",
      "metadata": {
        "id": "l1hUxkIiZxtV"
      },
      "source": [
        "Now, we have the ability to execute inference on a collection of samples. For simplicity, the process isn't optimized at this stage. In the future, we plan to perform inference in batches to enhance performance. However, for the time being,"
      ]
    },
    {
      "cell_type": "code",
      "execution_count": null,
      "metadata": {
        "id": "e6d45ed0-6c91-4738-a5e9-25601c76ffba",
        "tags": []
      },
      "outputs": [],
      "source": [
        "# '%%time' is a magic command in Jupyter notebooks that measures the execution time of the cell.\n",
        "\n",
        "# 'dataset_chatml['test'].select(range(0,500))' selects the first 500 elements from the test set in the 'dataset_chatml' dataset.\n",
        "\n",
        "# '.map(calculate_rogue, batched=False)' applies the 'calculate_rogue' function to each element in the selected subset.\n",
        "# 'calculate_rogue' calculates the ROUGE score for each element.\n",
        "# 'batched' is set to False, which means that the function will be applied to each element individually, not in batches.\n",
        "\n",
        "# The results are stored in the 'metricas' variable.\n",
        "%%time\n",
        "metricas = dataset_chatml['test'].select(range(0,500)).map(calculate_rogue, batched=False)"
      ]
    },
    {
      "cell_type": "code",
      "execution_count": null,
      "metadata": {
        "id": "39d66860-aac6-44ea-9f75-17efbbdcb9e1",
        "tags": []
      },
      "outputs": [],
      "source": [
        "# 'numpy' is a library in Python that provides support for large, multi-dimensional arrays and matrices, along with a large collection of high-level mathematical functions to operate on these arrays.\n",
        "# 'import numpy as np' imports the 'numpy' library and gives it the alias 'np'. This allows us to use 'np' instead of 'numpy' when calling its functions.\n",
        "import numpy as np"
      ]
    },
    {
      "cell_type": "markdown",
      "metadata": {
        "id": "zzn8sk_3V0Rm"
      },
      "source": [
        "Now, we have the ability to compute the metric for the sample."
      ]
    },
    {
      "cell_type": "code",
      "execution_count": null,
      "metadata": {
        "id": "6877ad08-32a2-4be6-a18d-76a47818886a",
        "tags": []
      },
      "outputs": [],
      "source": [
        "# This code block prints the mean of the ROUGE-1, ROUGE-2, ROUGE-L, and ROUGE-Lsum scores in the 'metricas' dictionary.\n",
        "\n",
        "# 'np.mean(metricas['rouge1'])' calculates the mean of the ROUGE-1 scores.\n",
        "# 'np.mean(metricas['rouge2'])' calculates the mean of the ROUGE-2 scores.\n",
        "# 'np.mean(metricas['rougeL'])' calculates the mean of the ROUGE-L scores.\n",
        "# 'np.mean(metricas['rougeLsum'])' calculates the mean of the ROUGE-Lsum scores.\n",
        "\n",
        "# 'print' is used to print the calculated means to the console.\n",
        "print(\"Rouge 1 Mean: \",np.mean(metricas['rouge1']))\n",
        "print(\"Rouge 2 Mean: \",np.mean(metricas['rouge2']))\n",
        "print(\"Rouge L Mean: \",np.mean(metricas['rougeL']))\n",
        "print(\"Rouge Lsum Mean: \",np.mean(metricas['rougeLsum']))"
      ]
    }
  ],
  "metadata": {
    "accelerator": "GPU",
    "colab": {
      "gpuType": "T4",
      "provenance": []
    },
    "kernelspec": {
      "display_name": "Python 3",
      "name": "python3"
    },
    "language_info": {
      "name": "python"
    }
  },
  "nbformat": 4,
  "nbformat_minor": 0
}