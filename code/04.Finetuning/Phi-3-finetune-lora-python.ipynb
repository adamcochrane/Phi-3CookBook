{
  "cells": [
    {
      "cell_type": "markdown",
      "metadata": {
        "id": "uTAiuz2uvPng"
      },
      "source": [
        "# Instruction for fine-tuning a Phi-3-mini model on Python code generation using LoRA via Hugging Face Hub"
      ]
    },
    {
      "cell_type": "markdown",
      "metadata": {
        "id": "malpM0sXFn9K"
      },
      "source": [
        "## Installing and loading the libraries"
      ]
    },
    {
      "cell_type": "code",
      "source": [
        "# import os\n",
        "# os._exit(00)  # Hard restart\n"
      ],
      "metadata": {
        "id": "2w7n4HVhL7sy"
      },
      "execution_count": null,
      "outputs": []
    },
    {
      "cell_type": "code",
      "source": [
        "!pip uninstall -y torch torchvision torchaudio fastai\n"
      ],
      "metadata": {
        "id": "myC8H9hdJf49",
        "outputId": "a6cd99a2-ab95-4b96-d1a9-83d4fd818d5c",
        "colab": {
          "base_uri": "https://localhost:8080/"
        }
      },
      "execution_count": 1,
      "outputs": [
        {
          "output_type": "stream",
          "name": "stdout",
          "text": [
            "Found existing installation: torch 2.5.1+cu124\n",
            "Uninstalling torch-2.5.1+cu124:\n",
            "  Successfully uninstalled torch-2.5.1+cu124\n",
            "Found existing installation: torchvision 0.20.1+cu124\n",
            "Uninstalling torchvision-0.20.1+cu124:\n",
            "  Successfully uninstalled torchvision-0.20.1+cu124\n",
            "Found existing installation: torchaudio 2.5.1+cu124\n",
            "Uninstalling torchaudio-2.5.1+cu124:\n",
            "  Successfully uninstalled torchaudio-2.5.1+cu124\n",
            "\u001b[33mWARNING: Skipping fastai as it is not installed.\u001b[0m\u001b[33m\n",
            "\u001b[0m"
          ]
        }
      ]
    },
    {
      "cell_type": "code",
      "source": [
        "!pip install -qqq torch==2.5.1 torchvision==0.20.1+cu124 torchaudio==2.5.1+cu124 --index-url https://download.pytorch.org/whl/cu124\n"
      ],
      "metadata": {
        "id": "nSmF59KNJoUP"
      },
      "execution_count": 2,
      "outputs": []
    },
    {
      "cell_type": "code",
      "execution_count": 3,
      "metadata": {
        "id": "bvHV20Q0vGkE"
      },
      "outputs": [],
      "source": [
        "# This command is used to install and upgrade several Python packages using pip, Python's package installer.\n",
        "# The '!' at the beginning allows us to run shell commands in the notebook.\n",
        "# The '-qqq' option is used to make the installation process less verbose.\n",
        "# '--upgrade' is used to ensure that the packages are upgraded to their latest versions if they are already installed.\n",
        "# The packages being installed are:\n",
        "# 'bitsandbytes' for efficient gradient accumulation,\n",
        "# 'transformers' for using transformer models like Phi-3,\n",
        "# 'peft' for efficient fine-tuning,\n",
        "# 'accelerate' for easy distributed training,\n",
        "# 'datasets' for loading and preprocessing datasets,\n",
        "# 'trl' for reinforcement learning,\n",
        "# 'flash_attn' for attention-based models.\n",
        "# 'wandb' stands for Weights & Biases. It is a tool for machine learning experiment tracking, dataset versioning, and model management. It allows you to log and visualize metrics from your code, share findings, and reproduce experiments.\n",
        "# 'torch' is a package that provides an open-source machine learning library used for building deep learning models.\n",
        "!pip install -qqq --upgrade bitsandbytes transformers peft accelerate datasets trl flash_attn wandb"
      ]
    },
    {
      "cell_type": "code",
      "execution_count": 4,
      "metadata": {
        "colab": {
          "base_uri": "https://localhost:8080/"
        },
        "id": "WAOFt0po3bX6",
        "outputId": "ca233878-3f8a-4836-e948-11806b35a043"
      },
      "outputs": [
        {
          "output_type": "stream",
          "name": "stdout",
          "text": [
            "Requirement already satisfied: huggingface_hub in /usr/local/lib/python3.11/dist-packages (0.28.1)\n",
            "Requirement already satisfied: filelock in /usr/local/lib/python3.11/dist-packages (from huggingface_hub) (3.17.0)\n",
            "Requirement already satisfied: fsspec>=2023.5.0 in /usr/local/lib/python3.11/dist-packages (from huggingface_hub) (2024.9.0)\n",
            "Requirement already satisfied: packaging>=20.9 in /usr/local/lib/python3.11/dist-packages (from huggingface_hub) (24.2)\n",
            "Requirement already satisfied: pyyaml>=5.1 in /usr/local/lib/python3.11/dist-packages (from huggingface_hub) (6.0.2)\n",
            "Requirement already satisfied: requests in /usr/local/lib/python3.11/dist-packages (from huggingface_hub) (2.32.3)\n",
            "Requirement already satisfied: tqdm>=4.42.1 in /usr/local/lib/python3.11/dist-packages (from huggingface_hub) (4.67.1)\n",
            "Requirement already satisfied: typing-extensions>=3.7.4.3 in /usr/local/lib/python3.11/dist-packages (from huggingface_hub) (4.12.2)\n",
            "Requirement already satisfied: charset-normalizer<4,>=2 in /usr/local/lib/python3.11/dist-packages (from requests->huggingface_hub) (3.4.1)\n",
            "Requirement already satisfied: idna<4,>=2.5 in /usr/local/lib/python3.11/dist-packages (from requests->huggingface_hub) (3.10)\n",
            "Requirement already satisfied: urllib3<3,>=1.21.1 in /usr/local/lib/python3.11/dist-packages (from requests->huggingface_hub) (2.3.0)\n",
            "Requirement already satisfied: certifi>=2017.4.17 in /usr/local/lib/python3.11/dist-packages (from requests->huggingface_hub) (2025.1.31)\n",
            "Requirement already satisfied: python-dotenv in /usr/local/lib/python3.11/dist-packages (1.0.1)\n"
          ]
        }
      ],
      "source": [
        "# These commands are used to install two Python packages using pip, Python's package installer.\n",
        "# The '!' at the beginning allows us to run shell commands in the notebook.\n",
        "\n",
        "# 'huggingface_hub' is a library developed by Hugging Face that allows you to interact with the Hugging Face Model Hub.\n",
        "# It provides functionalities to download and upload models, as well as other utilities.\n",
        "!pip install huggingface_hub\n",
        "\n",
        "# 'python-dotenv' is a library that allows you to specify environment variables in a .env file.\n",
        "# It's useful for managing secrets and configuration settings for your application.\n",
        "!pip install python-dotenv"
      ]
    },
    {
      "cell_type": "code",
      "execution_count": 5,
      "metadata": {
        "colab": {
          "base_uri": "https://localhost:8080/"
        },
        "id": "IYe9cEVZa93W",
        "outputId": "0552e753-f50b-4215-957d-082a077b9b87"
      },
      "outputs": [
        {
          "output_type": "stream",
          "name": "stdout",
          "text": [
            "Requirement already satisfied: absl-py in /usr/local/lib/python3.11/dist-packages (1.4.0)\n",
            "Requirement already satisfied: nltk in /usr/local/lib/python3.11/dist-packages (3.9.1)\n",
            "Requirement already satisfied: rouge_score in /usr/local/lib/python3.11/dist-packages (0.1.2)\n",
            "Requirement already satisfied: click in /usr/local/lib/python3.11/dist-packages (from nltk) (8.1.8)\n",
            "Requirement already satisfied: joblib in /usr/local/lib/python3.11/dist-packages (from nltk) (1.4.2)\n",
            "Requirement already satisfied: regex>=2021.8.3 in /usr/local/lib/python3.11/dist-packages (from nltk) (2024.11.6)\n",
            "Requirement already satisfied: tqdm in /usr/local/lib/python3.11/dist-packages (from nltk) (4.67.1)\n",
            "Requirement already satisfied: numpy in /usr/local/lib/python3.11/dist-packages (from rouge_score) (1.26.4)\n",
            "Requirement already satisfied: six>=1.14.0 in /usr/local/lib/python3.11/dist-packages (from rouge_score) (1.17.0)\n"
          ]
        }
      ],
      "source": [
        "# This command is used to install three Python packages using pip, Python's package installer.\n",
        "# The '!' at the beginning allows us to run shell commands in the notebook.\n",
        "\n",
        "# 'absl-py' is a library developed by Google that provides several utilities for Python development, such as logging and command line argument parsing.\n",
        "\n",
        "# 'nltk' stands for Natural Language Toolkit. It is a leading platform for building Python programs to work with human language data. It provides easy-to-use interfaces to over 50 corpora and lexical resources.\n",
        "\n",
        "# 'rouge_score' is a library for calculating the ROUGE (Recall-Oriented Understudy for Gisting Evaluation) score, which is commonly used for evaluating automatic summarization and machine translation systems.\n",
        "!pip install absl-py nltk rouge_score"
      ]
    },
    {
      "cell_type": "code",
      "execution_count": 6,
      "metadata": {
        "colab": {
          "base_uri": "https://localhost:8080/"
        },
        "id": "dl23z4cYhXGz",
        "outputId": "80237dc4-cddc-430e-8629-854f9631d6d6"
      },
      "outputs": [
        {
          "output_type": "stream",
          "name": "stdout",
          "text": [
            "sentence-transformers              3.4.1\n",
            "transformers                       4.48.3\n"
          ]
        }
      ],
      "source": [
        "# This command is used to list all installed Python packages and filter for the 'transformers' package.\n",
        "# The '!' at the beginning allows us to run shell commands in the notebook.\n",
        "\n",
        "# 'pip list' lists all installed Python packages.\n",
        "\n",
        "# The '|' character is a pipe. It takes the output from the command on its left (in this case, 'pip list') and passes it as input to the command on its right.\n",
        "\n",
        "# 'grep' is a command-line utility for searching plain-text data for lines that match a regular expression. Here it's used to filter the output of 'pip list' for lines that contain 'transformers.'.\n",
        "\n",
        "# So, this command will list details of the 'transformers' package if it's installed.\n",
        "!pip list | grep transformers."
      ]
    },
    {
      "cell_type": "markdown",
      "metadata": {
        "id": "SavpwSEeTL5A"
      },
      "source": [
        "## Importing the libraries"
      ]
    },
    {
      "cell_type": "code",
      "execution_count": 7,
      "metadata": {
        "id": "ynrvfH87vyka"
      },
      "outputs": [],
      "source": [
        "# This code block is importing necessary modules and functions for fine-tuning a language model.\n",
        "\n",
        "# 'randrange' is a function from the 'random' module that generates a random number within the specified range.\n",
        "from random import randrange\n",
        "\n",
        "# 'torch' is the PyTorch library, a popular open-source machine learning library for Python.\n",
        "import torch\n",
        "\n",
        "# 'load_dataset' is a function from the 'datasets' library by Hugging Face which allows you to load a dataset.\n",
        "from datasets import load_dataset\n",
        "\n",
        "# 'LoraConfig' and 'prepare_model_for_kbit_training' are from the 'peft' library.\n",
        "# 'LoraConfig' is used to configure the LoRA (Learning from Random Architecture) model.\n",
        "# 'prepare_model_for_kbit_training' is a function that prepares a model for k-bit training.\n",
        "# 'TaskType' contains differenct types of tasks supported by PEFT\n",
        "# 'PeftModel' base model class for specifying the base Transformer model and configuration to apply a PEFT method to.\n",
        "from peft import LoraConfig, prepare_model_for_kbit_training, TaskType, PeftModel\n",
        "\n",
        "# Several classes and functions are imported from the 'transformers' library by Hugging Face.\n",
        "# 'AutoModelForCausalLM' is a class that provides a generic transformer model for causal language modeling.\n",
        "# 'AutoTokenizer' is a class that provides a generic tokenizer class.\n",
        "# 'BitsAndBytesConfig' is a class for configuring the Bits and Bytes optimizer.\n",
        "# 'TrainingArguments' is a class that defines the arguments used for training a model.\n",
        "# 'set_seed' is a function that sets the seed for generating random numbers.\n",
        "# 'pipeline' is a function that creates a pipeline that can process data and make predictions.\n",
        "from transformers import (\n",
        "    AutoModelForCausalLM,\n",
        "    AutoTokenizer,\n",
        "    BitsAndBytesConfig,\n",
        "    TrainingArguments,\n",
        "    set_seed,\n",
        "    pipeline\n",
        ")\n",
        "\n",
        "# 'SFTTrainer' is a class from the 'trl' library that provides a trainer for soft fine-tuning.\n",
        "from trl import SFTTrainer"
      ]
    },
    {
      "cell_type": "markdown",
      "metadata": {
        "id": "qa80IqnWJL_m"
      },
      "source": [
        "## Setting Global Parameters"
      ]
    },
    {
      "cell_type": "code",
      "execution_count": 8,
      "metadata": {
        "id": "Y5dL-Zn6gDk5"
      },
      "outputs": [],
      "source": [
        "# This code block is setting up the configuration for fine-tuning a language model.\n",
        "\n",
        "# 'model_id' and 'model_name' are the identifiers for the pre-trained model that you want to fine-tune.\n",
        "# In this case, it's the 'Phi-3-mini-4k-instruct' model from Microsoft.\n",
        "# Model Names\n",
        "# microsoft/Phi-3-mini-4k-instruct\n",
        "# microsoft/Phi-3-mini-128k-instruct\n",
        "# microsoft/Phi-3-small-8k-instruct\n",
        "# microsoft/Phi-3-small-128k-instruct\n",
        "# microsoft/Phi-3-medium-4k-instruct\n",
        "# microsoft/Phi-3-medium-128k-instruct\n",
        "# microsoft/Phi-3-vision-128k-instruct\n",
        "# microsoft/Phi-3-mini-4k-instruct-onnx\n",
        "# microsoft/Phi-3-mini-4k-instruct-onnx-web\n",
        "# microsoft/Phi-3-mini-128k-instruct-onnx\n",
        "# microsoft/Phi-3-small-8k-instruct-onnx-cuda\n",
        "# microsoft/Phi-3-small-128k-instruct-onnx-cuda\n",
        "# microsoft/Phi-3-medium-4k-instruct-onnx-cpu\n",
        "# microsoft/Phi-3-medium-4k-instruct-onnx-cuda\n",
        "# microsoft/Phi-3-medium-4k-instruct-onnx-directml\n",
        "# microsoft/Phi-3-medium-128k-instruct-onnx-cpu\n",
        "# microsoft/Phi-3-medium-128k-instruct-onnx-cuda\n",
        "# microsoft/Phi-3-medium-128k-instruct-onnx-directml\n",
        "# microsoft/Phi-3-mini-4k-instruct-gguf\n",
        "\n",
        "model_id = \"microsoft/Phi-3-mini-4k-instruct\"\n",
        "model_name = \"microsoft/Phi-3-mini-4k-instruct\"\n",
        "\n",
        "# 'dataset_name' is the identifier for the dataset that you want to use for fine-tuning.\n",
        "# In this case, it's the 'python_code_instructions_18k_alpaca' dataset from iamtarun (Ex: iamtarun/python_code_instructions_18k_alpaca).\n",
        "# Update Dataset Name to your dataset name\n",
        "dataset_name = \"din0s/asqa\"\n",
        "\n",
        "# 'dataset_split' is the split of the dataset that you want to use for training.\n",
        "# In this case, it's the 'train' split.\n",
        "dataset_split= \"train\"\n",
        "\n",
        "# 'new_model' is the name that you want to give to the fine-tuned model.\n",
        "new_model = \"Phi-3-asqa\"\n",
        "\n",
        "# 'hf_model_repo' is the repository on the Hugging Face Model Hub where the fine-tuned model will be saved. Update UserName to your Hugging Face Username\n",
        "hf_model_repo=\"adamcochrane/\"+new_model\n",
        "\n",
        "# 'device_map' is a dictionary that maps the model to the GPU device.\n",
        "# In this case, the entire model is loaded on GPU 0.\n",
        "device_map = {\"\": 0}\n",
        "\n",
        "# The following are parameters for the LoRA (Learning from Random Architecture) model.\n",
        "\n",
        "# 'lora_r' is the dimension of the LoRA attention.\n",
        "lora_r = 16\n",
        "\n",
        "# 'lora_alpha' is the alpha parameter for LoRA scaling.\n",
        "lora_alpha = 16\n",
        "\n",
        "# 'lora_dropout' is the dropout probability for LoRA layers.\n",
        "lora_dropout = 0.05\n",
        "\n",
        "# 'target_modules' is a list of the modules in the model that will be replaced with LoRA layers.\n",
        "target_modules= ['k_proj', 'q_proj', 'v_proj', 'o_proj', \"gate_proj\", \"down_proj\", \"up_proj\"]\n",
        "\n",
        "# 'set_seed' is a function that sets the seed for generating random numbers,\n",
        "# which is used for reproducibility of the results.\n",
        "set_seed(1234)\n"
      ]
    },
    {
      "cell_type": "markdown",
      "metadata": {
        "id": "Z3pJIh4h3Usa"
      },
      "source": [
        "## Connect to Huggingface Hub"
      ]
    },
    {
      "cell_type": "markdown",
      "metadata": {
        "id": "UYuRBtyKGgly"
      },
      "source": [
        "**IMPORTANT**: The upcoming section's execution will vary based on your code execution environment and the configuration of your API Keys.\n",
        "\n",
        "Interactive login to Hugging Face Hub is possible."
      ]
    },
    {
      "cell_type": "markdown",
      "metadata": {
        "id": "OBljdiQhGuOV"
      },
      "source": [
        "Alternatively, you can supply a .env file that contains the Hugging Face token."
      ]
    },
    {
      "cell_type": "code",
      "execution_count": 17,
      "metadata": {
        "id": "GgZlM-ov461d"
      },
      "outputs": [],
      "source": [
        "from huggingface_hub import login\n",
        "\n",
        "from google.colab import userdata\n",
        "\n",
        "login(token=userdata.get('HF_TOKEN'))"
      ]
    },
    {
      "cell_type": "markdown",
      "metadata": {
        "id": "HJjE6hP3vt_Z"
      },
      "source": [
        "## Load the dataset with the instruction set"
      ]
    },
    {
      "cell_type": "code",
      "execution_count": 11,
      "metadata": {
        "colab": {
          "base_uri": "https://localhost:8080/",
          "height": 371,
          "referenced_widgets": [
            "5f32c00d74c845e789116418df2076de",
            "24f4948eca794cc7a36e688f716ec7ed",
            "20e14680a7044705bf5c543970477ab1",
            "9cf1705f1b0542ac87b0f50bdfa7f80e",
            "d515403410aa439e9eaeee68af6e325a",
            "fdd852b31927428f8c4b3b7c4e804ac2",
            "6fd69c5cb9014f0fb137fb53f5cdd6e1",
            "6e057accbc6c4b7cbf67170346f30554",
            "70f6ee9771d9419a91dccc6cd68559f1",
            "37bfbebd72a0422f9c17a046c028aaf1",
            "bb91c981ce044f638d3f8bce73b73002",
            "8e18d5b3c8f14091b8cc6073feb48974",
            "5694327f7840448594fc60d8b8ffedb3",
            "f17ca217a77a4f46b37e84ac8f621aa5",
            "8f7de0fdd00f4eb6842a5829ca1fb33c",
            "c50ee628eefd496bbc03ca387306e888",
            "88d73138b0b8483abc366d5c59f4c51a",
            "d75c7e87443e42eba823239065cf5d34",
            "c64a94152b034e709881bf23baf7c769",
            "ff31a5b0d9ad4998952642874d92ea38",
            "6f4b989c36774a32a513bf288626a67a",
            "84cb5799bb354423998c55bbc0c8e9d8",
            "442bb22564624f33870ac46dfd25aa82",
            "73e7f503332d4d8d915e95cb991badfb",
            "174005afe88145bc87f169d38256aa79",
            "2be1c16e739c4302a4ebe605f728944d",
            "55f4fbf8c14d45c1b6d2e5822295479e",
            "94a51e65d47d4e56908ddba29c5cf980",
            "00458069dab340beab7ef84ee37f4a7b",
            "ba4916a07b2b4bdf973b13d2d57e2f4d",
            "520189bfa490439381a2c5a6cd797625",
            "1d621c01b1814435acb3a9dbd787121d",
            "6fd7806376fe49479ab47de55920ad35",
            "a6896e97336c4a5e9635ab51288212fe",
            "0c69e4916fad4d029540fc2a9cfd55cb",
            "21ec2d6c23b244e4b8df220692d383cc",
            "11b58d011ebb484c98c075697b8b09f6",
            "b9e1f5f622c147c6a2cbb5eb6c53578a",
            "718d6cd169274e2dad4f1ec2feae9271",
            "0023d4c3b86548a8b96e7bb59d8daba8",
            "53be987cd8b5451e99e9fe50378267ff",
            "be7df394235d4a4aa5d6ef3c523ba524",
            "c9598c4940de443887ea6946a6576488",
            "43fbb04a8dd0497ea9dc6839ced719a5",
            "a1efba0e41744770a02eeb2d94de4811",
            "55211ddd5c5e47fb897c1a0601bdb199",
            "4b90236e404142e6aa0ef22c5503572b",
            "52ffeba7bd124dda83c045a684f002b4",
            "5fddb3c7bf1e41479dd1087526c15f00",
            "dcfbe62db89b4e3cb8d5036f69011241",
            "0b497d823f384cc5a2c175a43ff51ed0",
            "7d9bab6766934f379ef302eb84c1d6dc",
            "d6e496f99ff14a32916e6f98ff4298b9",
            "2e3b57e380794d63a993a059c0d0522d",
            "d61f5136632c474ba018569790f700b8",
            "9d33126ff31f4005bc9a896835ef3a80",
            "6d3a6bc1c72e4212bc6b4b14bcc53801",
            "f18f5725a3cc4d2eb76f9ade40a401b1",
            "9a243f52aac24e68b934ab4a3554867e",
            "9ab0603a8e7f4c80a3c1ca1164015cf1",
            "5fe5502619d940f3aae7622da6be64bb",
            "ab9270c475d147dba7598db37e8511f6",
            "d7c47d4b5be34985a3520cf45f159068",
            "9b8780fa33694ba5baf363102ebb5942",
            "863733542ff54d87821a7018a67f5c64",
            "a8b6dbb376ca41c5b83283fede919e9c"
          ]
        },
        "id": "qbbH23N9vXh2",
        "outputId": "9221691a-1536-435d-c0ea-fa25a49eb3aa"
      },
      "outputs": [
        {
          "output_type": "stream",
          "name": "stderr",
          "text": [
            "/usr/local/lib/python3.11/dist-packages/huggingface_hub/utils/_auth.py:94: UserWarning: \n",
            "The secret `HF_TOKEN` does not exist in your Colab secrets.\n",
            "To authenticate with the Hugging Face Hub, create a token in your settings tab (https://huggingface.co/settings/tokens), set it as secret in your Google Colab and restart your session.\n",
            "You will be able to reuse this secret in all of your notebooks.\n",
            "Please note that authentication is recommended but still optional to access public models or datasets.\n",
            "  warnings.warn(\n"
          ]
        },
        {
          "output_type": "display_data",
          "data": {
            "text/plain": [
              "README.md:   0%|          | 0.00/4.83k [00:00<?, ?B/s]"
            ],
            "application/vnd.jupyter.widget-view+json": {
              "version_major": 2,
              "version_minor": 0,
              "model_id": "5f32c00d74c845e789116418df2076de"
            }
          },
          "metadata": {}
        },
        {
          "output_type": "display_data",
          "data": {
            "text/plain": [
              "dataset_infos.json:   0%|          | 0.00/1.40k [00:00<?, ?B/s]"
            ],
            "application/vnd.jupyter.widget-view+json": {
              "version_major": 2,
              "version_minor": 0,
              "model_id": "8e18d5b3c8f14091b8cc6073feb48974"
            }
          },
          "metadata": {}
        },
        {
          "output_type": "display_data",
          "data": {
            "text/plain": [
              "(…)-00000-of-00001-87b7d64f7913b544.parquet:   0%|          | 0.00/5.27M [00:00<?, ?B/s]"
            ],
            "application/vnd.jupyter.widget-view+json": {
              "version_major": 2,
              "version_minor": 0,
              "model_id": "442bb22564624f33870ac46dfd25aa82"
            }
          },
          "metadata": {}
        },
        {
          "output_type": "display_data",
          "data": {
            "text/plain": [
              "(…)-00000-of-00001-58a9a40c6e69f07b.parquet:   0%|          | 0.00/1.46M [00:00<?, ?B/s]"
            ],
            "application/vnd.jupyter.widget-view+json": {
              "version_major": 2,
              "version_minor": 0,
              "model_id": "a6896e97336c4a5e9635ab51288212fe"
            }
          },
          "metadata": {}
        },
        {
          "output_type": "display_data",
          "data": {
            "text/plain": [
              "Generating train split:   0%|          | 0/4353 [00:00<?, ? examples/s]"
            ],
            "application/vnd.jupyter.widget-view+json": {
              "version_major": 2,
              "version_minor": 0,
              "model_id": "a1efba0e41744770a02eeb2d94de4811"
            }
          },
          "metadata": {}
        },
        {
          "output_type": "display_data",
          "data": {
            "text/plain": [
              "Generating dev split:   0%|          | 0/948 [00:00<?, ? examples/s]"
            ],
            "application/vnd.jupyter.widget-view+json": {
              "version_major": 2,
              "version_minor": 0,
              "model_id": "9d33126ff31f4005bc9a896835ef3a80"
            }
          },
          "metadata": {}
        },
        {
          "output_type": "stream",
          "name": "stdout",
          "text": [
            "dataset size: 4353\n",
            "{'ambiguous_question': \"Who presented the first i'm a celebrity?\", 'qa_pairs': [{'context': 'The first series of \"I\\'m a Celebrity...Get Me Out of Here!\" was broadcast on ITV from 25 August to 8 September 2002. Ant & Dec presented the main show on ITV, whilst Louise Loughman hosted the spin-off show \"I\\'m a Celebrity...Get Me Out of Here! NOW!\" on ITV2. The winner of this series was radio DJ Tony Blackburn.', 'question': \"Who presented the first main show of I'm a celebrity...Get me out of here!?\", 'short_answers': ['Ant & Dec'], 'wikipage': \"I'm a Celebrity...Get Me Out of Here! (British series 1)\"}, {'context': 'The first series of \"I\\'m a Celebrity...Get Me Out of Here!\" was broadcast on ITV from 25 August to 8 September 2002. Ant & Dec presented the main show on ITV, whilst Louise Loughman hosted the spin-off show \"I\\'m a Celebrity...Get Me Out of Here! NOW!\" on ITV2. The winner of this series was radio DJ Tony Blackburn.', 'question': \"Who presented the first I'm a celebrity...Get Me Out of Here! Now!?\", 'short_answers': ['Louise Loughman'], 'wikipage': \"I'm a Celebrity...Get Me Out of Here! (British series 1)\"}], 'wikipages': [{'title': \"I'm a Celebrity...Get Me Out of Here! (British series 1)\", 'url': 'https://en.wikipedia.org/wiki/I%27m%20a%20Celebrity...Get%20Me%20Out%20of%20Here%21%20%28British%20series%201%29'}], 'annotations': [{'knowledge': [{'content': 'I\\'m a Celebrity...Get Me Out Of Here! (often shortened to I\\'m a Celebrity or I\\'m a Celeb) is a British survival reality television show, created by London Weekend Television (LWT), produced by ITV Studios, and aired on ITV from Australia and now Gwrych Castle in Abergele, North Wales. The format sees a group of celebrities living together in extreme conditions with few creature comforts. Each member undertakes challenges to secure additional food and treats for the group, and to avoid being voted out by viewers during their stay, with the final episode\\'s votes nominating who wins a series and become crowned as \"King or Queen\".', 'wikipage': \"I'm a Celebrity...Get Me Out of Here! (British TV series)\"}], 'long_answer': 'I\\'m a Celebrity...Get Me Out Of Here! is a British survival reality television show. The format sees a group of celebrities living together in extreme conditions with few creature comforts. Each member undertakes challenges to secure additional food and treats for the group, and to avoid being voted out by viewers during their stay, with the final episode\\'s votes nominating who wins a series and become crowned as \"King or Queen\". The first series of I\\'m a Celebrity...Get Me Out of Here! was broadcast on ITV from 25 August to 8 September 2002. Ant & Dec presented the main show on ITV, whilst Louise Loughman hosted the spin-off show I\\'m a Celebrity...Get Me Out of Here! NOW! on ITV2.'}], 'sample_id': '-5920923104442334797'}\n"
          ]
        }
      ],
      "source": [
        "# This code block is used to load a dataset from the Hugging Face Dataset Hub, print its size, and show a random example from the dataset.\n",
        "\n",
        "# 'load_dataset' is a function from the 'datasets' library that loads a dataset from the Hugging Face Dataset Hub.\n",
        "# 'dataset_name' is the name of the dataset to load, and 'dataset_split' is the split of the dataset to load (e.g., 'train', 'test').\n",
        "dataset = load_dataset(dataset_name, split=dataset_split)\n",
        "\n",
        "# The 'len' function is used to get the size of the dataset, which is then printed.\n",
        "print(f\"dataset size: {len(dataset)}\")\n",
        "\n",
        "# 'randrange' is a function from the 'random' module that generates a random number within the specified range.\n",
        "# Here it's used to select a random example from the dataset, which is then printed.\n",
        "print(dataset[randrange(len(dataset))])"
      ]
    },
    {
      "cell_type": "code",
      "execution_count": 12,
      "metadata": {
        "colab": {
          "base_uri": "https://localhost:8080/"
        },
        "id": "uQTTAnGnHG8A",
        "outputId": "5d6659ab-6a7b-4fc0-d122-2299e72ca006"
      },
      "outputs": [
        {
          "output_type": "execute_result",
          "data": {
            "text/plain": [
              "Dataset({\n",
              "    features: ['ambiguous_question', 'qa_pairs', 'wikipages', 'annotations', 'sample_id'],\n",
              "    num_rows: 4353\n",
              "})"
            ]
          },
          "metadata": {},
          "execution_count": 12
        }
      ],
      "source": [
        "# This line of code is used to display the structure of the 'dataset' object.\n",
        "# By simply writing the name of the object, Python will call its 'repr' (representation) method,\n",
        "# which returns a string that describes the object.\n",
        "# For a Hugging Face 'Dataset' object, this will typically show information such as the number of rows,\n",
        "# the column names, and the types of the data in each column.\n",
        "dataset"
      ]
    },
    {
      "cell_type": "code",
      "execution_count": 13,
      "metadata": {
        "colab": {
          "base_uri": "https://localhost:8080/"
        },
        "id": "WdlOkzJyFEKq",
        "outputId": "02aba6c6-632f-4b67-8424-fb91fa79ef9b"
      },
      "outputs": [
        {
          "output_type": "stream",
          "name": "stdout",
          "text": [
            "{'ambiguous_question': 'Where did the name one direction come from?', 'qa_pairs': [{'context': 'At bootcamp, he sang \"Champagne Supernova\", but failed to qualify for the category. After a suggestion from guest judge Nicole Scherzinger, Horan was put in a group with four boys who also failed to move on in the competition, and since they were too good to let go, the judges decided to agree with Scherzinger. Horan along with Harry Styles, Liam Payne, Louis Tomlinson, and Zayn Malik formed One Direction. Styles came up with the band name, which he thought would sound good when announcer Peter Dickson read their name out on the live shows.', 'question': 'Who did the name one direction come from?', 'short_answers': ['Harry Edward Styles', 'Harry Styles', 'Style'], 'wikipage': 'Niall Horan'}, {'context': 'At bootcamp, he sang \"Champagne Supernova\", but failed to qualify for the category. After a suggestion from guest judge Nicole Scherzinger, Horan was put in a group with four boys who also failed to move on in the competition, and since they were too good to let go, the judges decided to agree with Scherzinger. Horan along with Harry Styles, Liam Payne, Louis Tomlinson, and Zayn Malik formed One Direction. Styles came up with the band name, which he thought would sound good when announcer Peter Dickson read their name out on the live shows.', 'question': 'Where did Styles think the name one direction would sound good when announced, which in turn made him like the name?', 'short_answers': ['shows', 'on the live shows', 'live shows'], 'wikipage': 'Niall Horan'}], 'wikipages': [{'title': 'Harry Styles', 'url': 'https://en.wikipedia.org/wiki/Harry%20Styles'}, {'title': 'One Direction', 'url': 'https://en.wikipedia.org/wiki/One%20Direction'}, {'title': 'Niall Horan', 'url': 'https://en.wikipedia.org/wiki/Niall%20Horan'}], 'annotations': [{'knowledge': [{'content': \"One Direction, often shortened to 1D, are an English-Irish pop boy band formed in London, England in 2010. The group are composed of Niall Horan, Liam Payne, Harry Styles and Louis Tomlinson; former member Zayn Malik departed from the group in March 2015. The group signed with Simon Cowell's record label Syco Records after forming and finishing third in the seventh series of the British televised singing competition The X Factor in 2010.\", 'wikipage': 'One Direction'}], 'long_answer': \"One Direction, often shortened to 1D, are an English-Irish pop boy band formed in London, England in 2010. The group are composed of Niall Horan, Liam Payne, Harry Styles and Louis Tomlinson; former member Zayn Malik departed from the group in March 2015. The group signed with Simon Cowell's record label Syco Records after forming and finishing third in the seventh series of the British televised singing competition The X Factor in 2010. Styles came up with the band name, which he thought would sound good when announcer Peter Dickson read their name out on the live shows.\"}], 'sample_id': '7459040128205777832'}\n"
          ]
        }
      ],
      "source": [
        "# This line of code is used to print a random example from the 'dataset'.\n",
        "\n",
        "# 'randrange' is a function from the 'random' module that generates a random number within the specified range.\n",
        "# Here it's used to generate a random index within the range of the dataset size (i.e., 'len(dataset)').\n",
        "\n",
        "# This random index is then used to select a corresponding example from the 'dataset'.\n",
        "# The selected example is printed to the console.\n",
        "print(dataset[randrange(len(dataset))])"
      ]
    },
    {
      "cell_type": "markdown",
      "metadata": {
        "id": "4Yk2MqEJi81c"
      },
      "source": [
        "## Load the tokenizer to prepare the dataset"
      ]
    },
    {
      "cell_type": "code",
      "execution_count": 14,
      "metadata": {
        "colab": {
          "base_uri": "https://localhost:8080/",
          "height": 177,
          "referenced_widgets": [
            "a67ac9c09da3436c94ae98f8b1c18249",
            "8eba9f6b5d634b5e8130a57593aeee47",
            "ce757eae06914b3a909e872d9196d75b",
            "672c659e7ec64262a3ce75839a939462",
            "4cccc78aa9ac4149b44bbe22288f1b3c",
            "534d3eadcf8b4c24a0b07070d1a5cf98",
            "847649d3eb0742409912c9e58bf7d118",
            "a19e0c0615514ef3b348b870a78762fb",
            "04a5b49423f2406fa0eaf42b389c098e",
            "08c08fd920ea4b2ea872d029133cfe0d",
            "76563332397e4fff958eee57812fbaf6",
            "a6dab4aed2314e6c89eec96cbda9ad66",
            "aa48e3b8ac0c4d63ba1c91a5fe350dcd",
            "a23cf3b933ec447fbb211b2d5da1805c",
            "baa82f25f5064528835ff52cc6f68f56",
            "eccfd11a7b3d4319886e0a067b425c59",
            "aa1671c08f054a9bb26030144349ccfd",
            "74126e2ffa724df9be8a894ab59ae253",
            "14f4e7a36659480c93c5c381e8a0091e",
            "ce94c78c949f4ddf912ea1f96eddc560",
            "26c417941de947f38e1dda9122676bd1",
            "7f502358725343a7b034bdc30ccc1eda",
            "5308c4cb22a541e6bc782a0cf9c913fb",
            "5452af875e2a41f99aa8531642d6cad9",
            "8f79408e0ecc4349906d28d6fb426f2f",
            "4adcd594cdf94c85b8bec1d874bc274d",
            "3615fa76216e4d62af8ce20ec0089bdf",
            "9049f4744689437faaf02edda0dae88b",
            "eafbd7f604284a73a25caba8756e5ba9",
            "e7973c1f61bf4543aa445f25d92edfa1",
            "53e0561d96694302908295292ab08baa",
            "02b00acd65e245b7a9eec93af7bad1fc",
            "15d37e9646ef48199ef2b11d27b4cf8e",
            "0e276af81e94428b94bd26e90f9ed656",
            "53d2631b07784dbb8100dedd36898832",
            "7dc301808df249b9a43b273aa2512651",
            "32245ebaae264459acff5665307dcb96",
            "85a425fe1fb74c2fb917016af562b648",
            "1700d8424dd5473a881f4033db90930d",
            "864706ab701e40ffb3db392d5fec8a38",
            "031ba4eb4c1a48feb22d283746a621a7",
            "1ec738dae8fd4ce78a853602d504d1bc",
            "9dfc2e9cbd79439a9f44ea168d8e298d",
            "074524e66d15483a8954a5a13fd75f46",
            "6ee5acad51274babbe485ee5c32e502f",
            "6bf90c1589c24435b7561097e1136523",
            "b138a69cb5044803827e66b1058ca740",
            "f2e68f1df5b74f8ea11568db18cf14e2",
            "7d44bd8430cc4d85a5b003967846ba70",
            "eef4779c584d401eb81f8c6adc7f9986",
            "326348e1e66542c7ad13a5c0b803dbf7",
            "ed9f632f852a4672910b28077e315878",
            "536eb18d853248429bb63562fef86d5a",
            "b6f3f4c1a80f460b82c29b747c2c3a00",
            "e571a5670cc64bc5821635f500f681eb"
          ]
        },
        "id": "4e7dmUBujAAM",
        "outputId": "ac36210c-cb9f-439c-cb99-a16936327846"
      },
      "outputs": [
        {
          "output_type": "display_data",
          "data": {
            "text/plain": [
              "tokenizer_config.json:   0%|          | 0.00/3.44k [00:00<?, ?B/s]"
            ],
            "application/vnd.jupyter.widget-view+json": {
              "version_major": 2,
              "version_minor": 0,
              "model_id": "a67ac9c09da3436c94ae98f8b1c18249"
            }
          },
          "metadata": {}
        },
        {
          "output_type": "display_data",
          "data": {
            "text/plain": [
              "tokenizer.model:   0%|          | 0.00/500k [00:00<?, ?B/s]"
            ],
            "application/vnd.jupyter.widget-view+json": {
              "version_major": 2,
              "version_minor": 0,
              "model_id": "a6dab4aed2314e6c89eec96cbda9ad66"
            }
          },
          "metadata": {}
        },
        {
          "output_type": "display_data",
          "data": {
            "text/plain": [
              "tokenizer.json:   0%|          | 0.00/1.94M [00:00<?, ?B/s]"
            ],
            "application/vnd.jupyter.widget-view+json": {
              "version_major": 2,
              "version_minor": 0,
              "model_id": "5308c4cb22a541e6bc782a0cf9c913fb"
            }
          },
          "metadata": {}
        },
        {
          "output_type": "display_data",
          "data": {
            "text/plain": [
              "added_tokens.json:   0%|          | 0.00/306 [00:00<?, ?B/s]"
            ],
            "application/vnd.jupyter.widget-view+json": {
              "version_major": 2,
              "version_minor": 0,
              "model_id": "0e276af81e94428b94bd26e90f9ed656"
            }
          },
          "metadata": {}
        },
        {
          "output_type": "display_data",
          "data": {
            "text/plain": [
              "special_tokens_map.json:   0%|          | 0.00/599 [00:00<?, ?B/s]"
            ],
            "application/vnd.jupyter.widget-view+json": {
              "version_major": 2,
              "version_minor": 0,
              "model_id": "6ee5acad51274babbe485ee5c32e502f"
            }
          },
          "metadata": {}
        }
      ],
      "source": [
        "# This code block is used to load a tokenizer from the Hugging Face Model Hub.\n",
        "\n",
        "# 'tokenizer_id' is set to the 'model_id', which is the identifier for the pre-trained model.\n",
        "# This assumes that the tokenizer associated with the model has the same identifier as the model.\n",
        "tokenizer_id = model_id\n",
        "\n",
        "# 'AutoTokenizer.from_pretrained' is a method that loads a tokenizer from the Hugging Face Model Hub.\n",
        "# 'tokenizer_id' is passed as an argument to specify which tokenizer to load.\n",
        "tokenizer = AutoTokenizer.from_pretrained(tokenizer_id)\n",
        "\n",
        "# 'tokenizer.padding_side' is a property that specifies which side to pad when the input sequence is shorter than the maximum sequence length.\n",
        "# Setting it to 'right' means that padding tokens will be added to the right (end) of the sequence.\n",
        "# This is done to prevent warnings that can occur when the padding side is not explicitly set.\n",
        "tokenizer.padding_side = 'right'"
      ]
    },
    {
      "cell_type": "markdown",
      "metadata": {
        "id": "oMkbuNypTgD9"
      },
      "source": [
        "Function to create the appropiate format for our model. We are going to adapt our dataset to the ChatML format."
      ]
    },
    {
      "cell_type": "code",
      "execution_count": 21,
      "metadata": {
        "id": "LTQGocjjjOg7"
      },
      "outputs": [],
      "source": [
        "# This code block defines two functions that are used to format the dataset for training a chat model.\n",
        "\n",
        "# 'create_message_column' is a function that takes a row from the dataset and returns a dictionary\n",
        "# with a 'messages' key and a list of 'user' and 'assistant' messages as its value.\n",
        "def create_message_column(row):\n",
        "    # Initialize an empty list to store the messages.\n",
        "    messages = []\n",
        "\n",
        "    # Create a 'user' message dictionary with 'content' and 'role' keys.\n",
        "    user = {\n",
        "        \"content\": f\"{row['instruction']}\\n Input: {row['input']}\",\n",
        "        \"role\": \"user\"\n",
        "    }\n",
        "\n",
        "    # Append the 'user' message to the 'messages' list.\n",
        "    messages.append(user)\n",
        "\n",
        "    # Create an 'assistant' message dictionary with 'content' and 'role' keys.\n",
        "    assistant = {\n",
        "        \"content\": f\"{row['output']}\",\n",
        "        \"role\": \"assistant\"\n",
        "    }\n",
        "\n",
        "    # Append the 'assistant' message to the 'messages' list.\n",
        "    messages.append(assistant)\n",
        "\n",
        "    # Return a dictionary with a 'messages' key and the 'messages' list as its value.\n",
        "    return {\"messages\": messages}\n",
        "\n",
        "# 'format_dataset_chatml' is a function that takes a row from the dataset and returns a dictionary\n",
        "# with a 'text' key and a string of formatted chat messages as its value.\n",
        "def format_dataset_chatml(row):\n",
        "    # 'tokenizer.apply_chat_template' is a method that formats a list of chat messages into a single string.\n",
        "    # 'add_generation_prompt' is set to False to not add a generation prompt at the end of the string.\n",
        "    # 'tokenize' is set to False to return a string instead of a list of tokens.\n",
        "    return {\"text\": tokenizer.apply_chat_template(row[\"messages\"], add_generation_prompt=False, tokenize=False)}"
      ]
    },
    {
      "cell_type": "code",
      "source": [
        "# This code block defines two functions that format the dataset for training a chat model.\n",
        "\n",
        "def create_message_column(row):\n",
        "    \"\"\"\n",
        "    Transforms a dataset row into a chat format with 'user' and 'assistant' messages.\n",
        "\n",
        "    Args:\n",
        "        row (dict): A row from the dataset containing 'ambiguous_question' and 'qa_pairs'.\n",
        "\n",
        "    Returns:\n",
        "        dict: A dictionary with a 'messages' key containing formatted chat messages.\n",
        "    \"\"\"\n",
        "    messages = []\n",
        "\n",
        "    # Extract the user's question\n",
        "    user = {\n",
        "        \"content\": row[\"ambiguous_question\"],\n",
        "        \"role\": \"user\"\n",
        "    }\n",
        "    messages.append(user)\n",
        "\n",
        "    # Extract the assistant's responses from 'qa_pairs'\n",
        "    if \"qa_pairs\" in row and isinstance(row[\"qa_pairs\"], list):\n",
        "        for qa in row[\"qa_pairs\"]:\n",
        "            if \"answer\" in qa:\n",
        "                assistant = {\n",
        "                    \"content\": qa[\"answer\"],  # Assuming 'qa_pairs' contains dictionaries with an 'answer' key\n",
        "                    \"role\": \"assistant\"\n",
        "                }\n",
        "                messages.append(assistant)\n",
        "\n",
        "    return {\"messages\": messages}\n",
        "\n",
        "\n",
        "def format_dataset_chatml(row):\n",
        "    \"\"\"\n",
        "    Converts a row's messages into a formatted string using a tokenizer's chat template.\n",
        "\n",
        "    Args:\n",
        "        row (dict): A row containing a 'messages' key with user-assistant dialogue.\n",
        "        tokenizer: A tokenizer object with an 'apply_chat_template' method.\n",
        "\n",
        "    Returns:\n",
        "        dict: A dictionary with a 'text' key containing the formatted chat conversation.\n",
        "    \"\"\"\n",
        "    return {\n",
        "        \"text\": tokenizer.apply_chat_template(row[\"messages\"], add_generation_prompt=False, tokenize=False)\n",
        "    }\n"
      ],
      "metadata": {
        "id": "LDBP_8MhRTP-"
      },
      "execution_count": 24,
      "outputs": []
    },
    {
      "cell_type": "markdown",
      "metadata": {
        "id": "S79BrDDPTt3X"
      },
      "source": [
        "Apply the ChatML format to our dataset"
      ]
    },
    {
      "cell_type": "markdown",
      "metadata": {
        "id": "uDAdHYkTDvrk"
      },
      "source": [
        "The code block is used to prepare a dataset for training a chat model.\n",
        "\n",
        "The dataset.map(create_message_column) line applies the create_message_column function to each example in the dataset. This function takes a row from the dataset and transforms it into a dictionary with a 'messages' key. The value of this key is a list of 'user' and 'assistant' messages.\n",
        "\n",
        "The 'user' message is created by combining the 'instruction' and 'input' fields from the row, while the 'assistant' message is created from the 'output' field of the row. These messages are appended to the 'messages' list in the order of 'user' and 'assistant'.\n",
        "\n",
        "The dataset_chatml.map(format_dataset_chatml) line then applies the format_dataset_chatml function to each example in the updated dataset. This function takes a row from the dataset and transforms it into a dictionary with a 'text' key. The value of this key is a string of formatted chat messages.\n",
        "\n",
        "The tokenizer.apply_chat_template method is used to format the list of chat messages into a single string. The 'add_generation_prompt' parameter is set to False to avoid adding a generation prompt at the end of the string, and the 'tokenize' parameter is set to False to return a string instead of a list of tokens.\n",
        "\n",
        "The result of these operations is a dataset where each example is a dictionary with a 'text' key and a string of formatted chat messages as its value. This format is suitable for training a chat model."
      ]
    },
    {
      "cell_type": "code",
      "execution_count": 25,
      "metadata": {
        "colab": {
          "base_uri": "https://localhost:8080/",
          "height": 408,
          "referenced_widgets": [
            "1ef83853860045c186cdf572f9161126",
            "0c128681695c431899d2a9f566146542",
            "31c029f9b696432f9e11c183427109ab",
            "42b5fdb8ccdd490d8ae95ad6a63635f1",
            "b12a9e0ba1d64d08ab1980a31d202a57",
            "3e5af672f4c6476b9ea642d631389a24",
            "162244d4e1d046efb60fb56c8585e26d",
            "84f7b7f6564846928e1bfa91d8d52945",
            "3b3cd0ff038d4cbfb6c2d9551ca56aa6",
            "db1e32c720ee40eeb66f79e0f6216bba",
            "06860a0697554602bac8ac720a40ed0f",
            "35203b5c23f1412d8b49233d4293187a",
            "9588f06356ac44f4b329816e25472d65",
            "646549a211b04714913e2127fc0743f1",
            "93e173c5b24f465e8655d1ce5870f160",
            "21d75f4b65744da789f970e663d3bd84",
            "b9732ec034e440038de795c14b946916",
            "2fc65fc980314e69b14bce73078c5f0d",
            "bb85580655934c98ab4fd530cf705219",
            "2058ded4c2d64a69b8e6bd5b73ba4b23",
            "248f562962444b0b9258b92f2f345264",
            "2abfa4ffc36548fb9ccd3cf95b65913d"
          ]
        },
        "id": "reLTRh8mjwN6",
        "outputId": "faa68707-810b-49fa-8273-fc85c69ff5a8"
      },
      "outputs": [
        {
          "output_type": "display_data",
          "data": {
            "text/plain": [
              "Map:   0%|          | 0/4353 [00:00<?, ? examples/s]"
            ],
            "application/vnd.jupyter.widget-view+json": {
              "version_major": 2,
              "version_minor": 0,
              "model_id": "1ef83853860045c186cdf572f9161126"
            }
          },
          "metadata": {}
        },
        {
          "output_type": "display_data",
          "data": {
            "text/plain": [
              "Map:   0%|          | 0/4353 [00:00<?, ? examples/s]"
            ],
            "application/vnd.jupyter.widget-view+json": {
              "version_major": 2,
              "version_minor": 0,
              "model_id": "35203b5c23f1412d8b49233d4293187a"
            }
          },
          "metadata": {}
        },
        {
          "output_type": "error",
          "ename": "TypeError",
          "evalue": "format_dataset_chatml() missing 1 required positional argument: 'tokenizer'",
          "traceback": [
            "\u001b[0;31m---------------------------------------------------------------------------\u001b[0m",
            "\u001b[0;31mTypeError\u001b[0m                                 Traceback (most recent call last)",
            "\u001b[0;32m<ipython-input-25-5dfbf52bdc46>\u001b[0m in \u001b[0;36m<cell line: 0>\u001b[0;34m()\u001b[0m\n\u001b[1;32m      9\u001b[0m \u001b[0;31m# 'format_dataset_chatml' is a function that further formats each example into a single string of chat messages.\u001b[0m\u001b[0;34m\u001b[0m\u001b[0;34m\u001b[0m\u001b[0m\n\u001b[1;32m     10\u001b[0m \u001b[0;31m# The result is an updated 'dataset_chatml' with the further formatted examples.\u001b[0m\u001b[0;34m\u001b[0m\u001b[0;34m\u001b[0m\u001b[0m\n\u001b[0;32m---> 11\u001b[0;31m \u001b[0mdataset_chatml\u001b[0m \u001b[0;34m=\u001b[0m \u001b[0mdataset_chatml\u001b[0m\u001b[0;34m.\u001b[0m\u001b[0mmap\u001b[0m\u001b[0;34m(\u001b[0m\u001b[0mformat_dataset_chatml\u001b[0m\u001b[0;34m)\u001b[0m\u001b[0;34m\u001b[0m\u001b[0;34m\u001b[0m\u001b[0m\n\u001b[0m",
            "\u001b[0;32m/usr/local/lib/python3.11/dist-packages/datasets/arrow_dataset.py\u001b[0m in \u001b[0;36mwrapper\u001b[0;34m(*args, **kwargs)\u001b[0m\n\u001b[1;32m    558\u001b[0m         }\n\u001b[1;32m    559\u001b[0m         \u001b[0;31m# apply actual function\u001b[0m\u001b[0;34m\u001b[0m\u001b[0;34m\u001b[0m\u001b[0m\n\u001b[0;32m--> 560\u001b[0;31m         \u001b[0mout\u001b[0m\u001b[0;34m:\u001b[0m \u001b[0mUnion\u001b[0m\u001b[0;34m[\u001b[0m\u001b[0;34m\"Dataset\"\u001b[0m\u001b[0;34m,\u001b[0m \u001b[0;34m\"DatasetDict\"\u001b[0m\u001b[0;34m]\u001b[0m \u001b[0;34m=\u001b[0m \u001b[0mfunc\u001b[0m\u001b[0;34m(\u001b[0m\u001b[0mself\u001b[0m\u001b[0;34m,\u001b[0m \u001b[0;34m*\u001b[0m\u001b[0margs\u001b[0m\u001b[0;34m,\u001b[0m \u001b[0;34m**\u001b[0m\u001b[0mkwargs\u001b[0m\u001b[0;34m)\u001b[0m\u001b[0;34m\u001b[0m\u001b[0;34m\u001b[0m\u001b[0m\n\u001b[0m\u001b[1;32m    561\u001b[0m         \u001b[0mdatasets\u001b[0m\u001b[0;34m:\u001b[0m \u001b[0mList\u001b[0m\u001b[0;34m[\u001b[0m\u001b[0;34m\"Dataset\"\u001b[0m\u001b[0;34m]\u001b[0m \u001b[0;34m=\u001b[0m \u001b[0mlist\u001b[0m\u001b[0;34m(\u001b[0m\u001b[0mout\u001b[0m\u001b[0;34m.\u001b[0m\u001b[0mvalues\u001b[0m\u001b[0;34m(\u001b[0m\u001b[0;34m)\u001b[0m\u001b[0;34m)\u001b[0m \u001b[0;32mif\u001b[0m \u001b[0misinstance\u001b[0m\u001b[0;34m(\u001b[0m\u001b[0mout\u001b[0m\u001b[0;34m,\u001b[0m \u001b[0mdict\u001b[0m\u001b[0;34m)\u001b[0m \u001b[0;32melse\u001b[0m \u001b[0;34m[\u001b[0m\u001b[0mout\u001b[0m\u001b[0;34m]\u001b[0m\u001b[0;34m\u001b[0m\u001b[0;34m\u001b[0m\u001b[0m\n\u001b[1;32m    562\u001b[0m         \u001b[0;31m# re-apply format to the output\u001b[0m\u001b[0;34m\u001b[0m\u001b[0;34m\u001b[0m\u001b[0m\n",
            "\u001b[0;32m/usr/local/lib/python3.11/dist-packages/datasets/arrow_dataset.py\u001b[0m in \u001b[0;36mmap\u001b[0;34m(self, function, with_indices, with_rank, input_columns, batched, batch_size, drop_last_batch, remove_columns, keep_in_memory, load_from_cache_file, cache_file_name, writer_batch_size, features, disable_nullable, fn_kwargs, num_proc, suffix_template, new_fingerprint, desc)\u001b[0m\n\u001b[1;32m   3071\u001b[0m                     \u001b[0mdesc\u001b[0m\u001b[0;34m=\u001b[0m\u001b[0mdesc\u001b[0m \u001b[0;32mor\u001b[0m \u001b[0;34m\"Map\"\u001b[0m\u001b[0;34m,\u001b[0m\u001b[0;34m\u001b[0m\u001b[0;34m\u001b[0m\u001b[0m\n\u001b[1;32m   3072\u001b[0m                 ) as pbar:\n\u001b[0;32m-> 3073\u001b[0;31m                     \u001b[0;32mfor\u001b[0m \u001b[0mrank\u001b[0m\u001b[0;34m,\u001b[0m \u001b[0mdone\u001b[0m\u001b[0;34m,\u001b[0m \u001b[0mcontent\u001b[0m \u001b[0;32min\u001b[0m \u001b[0mDataset\u001b[0m\u001b[0;34m.\u001b[0m\u001b[0m_map_single\u001b[0m\u001b[0;34m(\u001b[0m\u001b[0;34m**\u001b[0m\u001b[0mdataset_kwargs\u001b[0m\u001b[0;34m)\u001b[0m\u001b[0;34m:\u001b[0m\u001b[0;34m\u001b[0m\u001b[0;34m\u001b[0m\u001b[0m\n\u001b[0m\u001b[1;32m   3074\u001b[0m                         \u001b[0;32mif\u001b[0m \u001b[0mdone\u001b[0m\u001b[0;34m:\u001b[0m\u001b[0;34m\u001b[0m\u001b[0;34m\u001b[0m\u001b[0m\n\u001b[1;32m   3075\u001b[0m                             \u001b[0mshards_done\u001b[0m \u001b[0;34m+=\u001b[0m \u001b[0;36m1\u001b[0m\u001b[0;34m\u001b[0m\u001b[0;34m\u001b[0m\u001b[0m\n",
            "\u001b[0;32m/usr/local/lib/python3.11/dist-packages/datasets/arrow_dataset.py\u001b[0m in \u001b[0;36m_map_single\u001b[0;34m(shard, function, with_indices, with_rank, input_columns, batched, batch_size, drop_last_batch, remove_columns, keep_in_memory, cache_file_name, writer_batch_size, features, disable_nullable, fn_kwargs, new_fingerprint, rank, offset)\u001b[0m\n\u001b[1;32m   3444\u001b[0m                     \u001b[0m_time\u001b[0m \u001b[0;34m=\u001b[0m \u001b[0mtime\u001b[0m\u001b[0;34m.\u001b[0m\u001b[0mtime\u001b[0m\u001b[0;34m(\u001b[0m\u001b[0;34m)\u001b[0m\u001b[0;34m\u001b[0m\u001b[0;34m\u001b[0m\u001b[0m\n\u001b[1;32m   3445\u001b[0m                     \u001b[0;32mfor\u001b[0m \u001b[0mi\u001b[0m\u001b[0;34m,\u001b[0m \u001b[0mexample\u001b[0m \u001b[0;32min\u001b[0m \u001b[0mshard_iterable\u001b[0m\u001b[0;34m:\u001b[0m\u001b[0;34m\u001b[0m\u001b[0;34m\u001b[0m\u001b[0m\n\u001b[0;32m-> 3446\u001b[0;31m                         \u001b[0mexample\u001b[0m \u001b[0;34m=\u001b[0m \u001b[0mapply_function_on_filtered_inputs\u001b[0m\u001b[0;34m(\u001b[0m\u001b[0mexample\u001b[0m\u001b[0;34m,\u001b[0m \u001b[0mi\u001b[0m\u001b[0;34m,\u001b[0m \u001b[0moffset\u001b[0m\u001b[0;34m=\u001b[0m\u001b[0moffset\u001b[0m\u001b[0;34m)\u001b[0m\u001b[0;34m\u001b[0m\u001b[0;34m\u001b[0m\u001b[0m\n\u001b[0m\u001b[1;32m   3447\u001b[0m                         \u001b[0;32mif\u001b[0m \u001b[0mupdate_data\u001b[0m\u001b[0;34m:\u001b[0m\u001b[0;34m\u001b[0m\u001b[0;34m\u001b[0m\u001b[0m\n\u001b[1;32m   3448\u001b[0m                             \u001b[0;32mif\u001b[0m \u001b[0mi\u001b[0m \u001b[0;34m==\u001b[0m \u001b[0;36m0\u001b[0m\u001b[0;34m:\u001b[0m\u001b[0;34m\u001b[0m\u001b[0;34m\u001b[0m\u001b[0m\n",
            "\u001b[0;32m/usr/local/lib/python3.11/dist-packages/datasets/arrow_dataset.py\u001b[0m in \u001b[0;36mapply_function_on_filtered_inputs\u001b[0;34m(pa_inputs, indices, check_same_num_examples, offset)\u001b[0m\n\u001b[1;32m   3336\u001b[0m             \u001b[0;32mif\u001b[0m \u001b[0mwith_rank\u001b[0m\u001b[0;34m:\u001b[0m\u001b[0;34m\u001b[0m\u001b[0;34m\u001b[0m\u001b[0m\n\u001b[1;32m   3337\u001b[0m                 \u001b[0madditional_args\u001b[0m \u001b[0;34m+=\u001b[0m \u001b[0;34m(\u001b[0m\u001b[0mrank\u001b[0m\u001b[0;34m,\u001b[0m\u001b[0;34m)\u001b[0m\u001b[0;34m\u001b[0m\u001b[0;34m\u001b[0m\u001b[0m\n\u001b[0;32m-> 3338\u001b[0;31m             \u001b[0mprocessed_inputs\u001b[0m \u001b[0;34m=\u001b[0m \u001b[0mfunction\u001b[0m\u001b[0;34m(\u001b[0m\u001b[0;34m*\u001b[0m\u001b[0mfn_args\u001b[0m\u001b[0;34m,\u001b[0m \u001b[0;34m*\u001b[0m\u001b[0madditional_args\u001b[0m\u001b[0;34m,\u001b[0m \u001b[0;34m**\u001b[0m\u001b[0mfn_kwargs\u001b[0m\u001b[0;34m)\u001b[0m\u001b[0;34m\u001b[0m\u001b[0;34m\u001b[0m\u001b[0m\n\u001b[0m\u001b[1;32m   3339\u001b[0m             \u001b[0;32mif\u001b[0m \u001b[0misinstance\u001b[0m\u001b[0;34m(\u001b[0m\u001b[0mprocessed_inputs\u001b[0m\u001b[0;34m,\u001b[0m \u001b[0mLazyDict\u001b[0m\u001b[0;34m)\u001b[0m\u001b[0;34m:\u001b[0m\u001b[0;34m\u001b[0m\u001b[0;34m\u001b[0m\u001b[0m\n\u001b[1;32m   3340\u001b[0m                 processed_inputs = {\n",
            "\u001b[0;31mTypeError\u001b[0m: format_dataset_chatml() missing 1 required positional argument: 'tokenizer'"
          ]
        }
      ],
      "source": [
        "# This code block is used to prepare the 'dataset' for training a chat model.\n",
        "\n",
        "# 'dataset.map' is a method that applies a function to each example in the 'dataset'.\n",
        "# 'create_message_column' is a function that formats each example into a 'messages' format suitable for a chat model.\n",
        "# The result is a new 'dataset_chatml' with the formatted examples.\n",
        "dataset_chatml = dataset.map(create_message_column)\n",
        "\n",
        "# 'dataset_chatml.map' is a method that applies a function to each example in the 'dataset_chatml'.\n",
        "# 'format_dataset_chatml' is a function that further formats each example into a single string of chat messages.\n",
        "# The result is an updated 'dataset_chatml' with the further formatted examples.\n",
        "dataset_chatml = dataset_chatml.map(format_dataset_chatml)"
      ]
    },
    {
      "cell_type": "code",
      "execution_count": null,
      "metadata": {
        "id": "Tba_SeUKkAHB"
      },
      "outputs": [],
      "source": [
        "# This line of code is used to access and display the first example from the 'dataset_chatml'.\n",
        "\n",
        "# 'dataset_chatml[0]' uses indexing to access the first example in the 'dataset_chatml'.\n",
        "# In Python, indexing starts at 0, so 'dataset_chatml[0]' refers to the first example.\n",
        "# The result is a dictionary with a 'text' key and a string of formatted chat messages as its value.\n",
        "dataset_chatml[0]"
      ]
    },
    {
      "cell_type": "markdown",
      "metadata": {
        "id": "XYtBeWV7YsGG"
      },
      "source": [
        "Split the dataset into a train and test sets"
      ]
    },
    {
      "cell_type": "code",
      "execution_count": null,
      "metadata": {
        "id": "YGvvmV_8k2-H"
      },
      "outputs": [],
      "source": [
        "# This code block is used to split the 'dataset_chatml' into training and testing sets.\n",
        "\n",
        "# 'dataset_chatml.train_test_split' is a method that splits the 'dataset_chatml' into a training set and a testing set.\n",
        "# 'test_size' is a parameter that specifies the proportion of the 'dataset_chatml' to include in the testing set. Here it's set to 0.05, meaning that 5% of the 'dataset_chatml' will be included in the testing set.\n",
        "# 'seed' is a parameter that sets the seed for the random number generator. This is used to ensure that the split is reproducible. Here it's set to 1234.\n",
        "dataset_chatml = dataset_chatml.train_test_split(test_size=0.05, seed=1234)\n",
        "\n",
        "# This line of code is used to display the structure of the 'dataset_chatml' after the split.\n",
        "# It will typically show information such as the number of rows in the training set and the testing set.\n",
        "dataset_chatml"
      ]
    },
    {
      "cell_type": "markdown",
      "metadata": {
        "id": "y5beyTxUwtd9"
      },
      "source": [
        "## Instruction fine-tune a Phi-3-mini model using LORA and trl"
      ]
    },
    {
      "cell_type": "markdown",
      "metadata": {
        "id": "RJivw-mLwyDI"
      },
      "source": [
        "First, we try to identify out GPU"
      ]
    },
    {
      "cell_type": "code",
      "execution_count": null,
      "metadata": {
        "id": "fc_LpaoqlVhi"
      },
      "outputs": [],
      "source": [
        "# This code block is used to set the compute data type and attention implementation based on whether bfloat16 is supported on the current CUDA device.\n",
        "\n",
        "# 'torch.cuda.is_bf16_supported()' is a function that checks if bfloat16 is supported on the current CUDA device.\n",
        "# If bfloat16 is supported, 'compute_dtype' is set to 'torch.bfloat16' and 'attn_implementation' is set to 'flash_attention_2'.\n",
        "if torch.cuda.is_bf16_supported():\n",
        "  compute_dtype = torch.bfloat16\n",
        "  attn_implementation = 'flash_attention_2'\n",
        "# If bfloat16 is not supported, 'compute_dtype' is set to 'torch.float16' and 'attn_implementation' is set to 'sdpa'.\n",
        "else:\n",
        "  compute_dtype = torch.float16\n",
        "  attn_implementation = 'sdpa'\n",
        "\n",
        "# This line of code is used to print the value of 'attn_implementation', which indicates the chosen attention implementation.\n",
        "print(attn_implementation)"
      ]
    },
    {
      "cell_type": "markdown",
      "metadata": {
        "id": "uR17n-POlq7C"
      },
      "source": [
        "## Load the tokenizer and model to finetune"
      ]
    },
    {
      "cell_type": "code",
      "execution_count": null,
      "metadata": {
        "id": "5-OL7AW-xE_r"
      },
      "outputs": [],
      "source": [
        "# This code block is used to load a pre-trained model and its associated tokenizer from the Hugging Face Model Hub.\n",
        "\n",
        "# 'model_name' is set to the identifier of the pre-trained model.\n",
        "model_name = \"microsoft/Phi-3-mini-4k-instruct\"\n",
        "\n",
        "# 'AutoTokenizer.from_pretrained' is a method that loads a tokenizer from the Hugging Face Model Hub.\n",
        "# 'model_id' is passed as an argument to specify which tokenizer to load.\n",
        "# 'trust_remote_code' is set to True to trust the remote code in the tokenizer files.\n",
        "# 'add_eos_token' is set to True to add an end-of-sentence token to the tokenizer.\n",
        "# 'use_fast' is set to True to use the fast version of the tokenizer.\n",
        "tokenizer = AutoTokenizer.from_pretrained(model_id, trust_remote_code=True, add_eos_token=True, use_fast=True)\n",
        "\n",
        "# The padding token is set to the unknown token.\n",
        "tokenizer.pad_token = tokenizer.unk_token\n",
        "\n",
        "# The ID of the padding token is set to the ID of the unknown token.\n",
        "tokenizer.pad_token_id = tokenizer.convert_tokens_to_ids(tokenizer.pad_token)\n",
        "\n",
        "# The padding side is set to 'left', meaning that padding tokens will be added to the left (start) of the sequence.\n",
        "tokenizer.padding_side = 'left'\n",
        "\n",
        "# 'AutoModelForCausalLM.from_pretrained' is a method that loads a pre-trained model for causal language modeling from the Hugging Face Model Hub.\n",
        "# 'model_id' is passed as an argument to specify which model to load.\n",
        "# 'torch_dtype' is set to the compute data type determined earlier.\n",
        "# 'trust_remote_code' is set to True to trust the remote code in the model files.\n",
        "# 'device_map' is passed as an argument to specify the device mapping for distributed training.\n",
        "# 'attn_implementation' is set to the attention implementation determined earlier.\n",
        "model = AutoModelForCausalLM.from_pretrained(\n",
        "          model_id, torch_dtype=compute_dtype, trust_remote_code=True, device_map=device_map,\n",
        "          attn_implementation=attn_implementation\n",
        ")"
      ]
    },
    {
      "cell_type": "markdown",
      "metadata": {
        "id": "MJ7Pt1LsUCcG"
      },
      "source": [
        "Configure the LoRA properties"
      ]
    },
    {
      "cell_type": "markdown",
      "metadata": {
        "id": "4UHudDy8xbe9"
      },
      "source": [
        "The SFTTrainer offers seamless integration with peft, simplifying the process of instruction tuning LLMs. All we need to do is create our LoRAConfig and supply it to the trainer. However, before initiating the training process, we must specify the hyperparameters we intend to use, which are defined in TrainingArguments."
      ]
    },
    {
      "cell_type": "code",
      "execution_count": null,
      "metadata": {
        "id": "hbCaZbitxuW7"
      },
      "outputs": [],
      "source": [
        "# This code block is used to define the training arguments for the model.\n",
        "\n",
        "# 'TrainingArguments' is a class that holds the arguments for training a model.\n",
        "# 'output_dir' is the directory where the model and its checkpoints will be saved.\n",
        "# 'evaluation_strategy' is set to \"steps\", meaning that evaluation will be performed after a certain number of training steps.\n",
        "# 'do_eval' is set to True, meaning that evaluation will be performed.\n",
        "# 'optim' is set to \"adamw_torch\", meaning that the AdamW optimizer from PyTorch will be used.\n",
        "# 'per_device_train_batch_size' and 'per_device_eval_batch_size' are set to 8, meaning that the batch size for training and evaluation will be 8 per device.\n",
        "# 'gradient_accumulation_steps' is set to 4, meaning that gradients will be accumulated over 4 steps before performing a backward/update pass.\n",
        "# 'log_level' is set to \"debug\", meaning that all log messages will be printed.\n",
        "# 'save_strategy' is set to \"epoch\", meaning that the model will be saved after each epoch.\n",
        "# 'logging_steps' is set to 100, meaning that log messages will be printed every 100 steps.\n",
        "# 'learning_rate' is set to 1e-4, which is the learning rate for the optimizer.\n",
        "# 'fp16' is set to the opposite of whether bfloat16 is supported on the current CUDA device.\n",
        "# 'bf16' is set to whether bfloat16 is supported on the current CUDA device.\n",
        "# 'eval_steps' is set to 100, meaning that evaluation will be performed every 100 steps.\n",
        "# 'num_train_epochs' is set to 3, meaning that the model will be trained for 3 epochs.\n",
        "# 'warmup_ratio' is set to 0.1, meaning that 10% of the total training steps will be used for the warmup phase.\n",
        "# 'lr_scheduler_type' is set to \"linear\", meaning that a linear learning rate scheduler will be used.\n",
        "# 'report_to' is set to \"wandb\", meaning that training and evaluation metrics will be reported to Weights & Biases.\n",
        "# 'seed' is set to 42, which is the seed for the random number generator.\n",
        "\n",
        "# LoraConfig object is created with the following parameters:\n",
        "# 'r' (rank of the low-rank approximation) is set to 16,\n",
        "# 'lora_alpha' (scaling factor) is set to 16,\n",
        "# 'lora_dropout' dropout probability for Lora layers is set to 0.05,\n",
        "# 'task_type' (set to TaskType.CAUSAL_LM indicating the task type),\n",
        "# 'target_modules' (the modules to which LoRA is applied) choosing linear layers except the output layer..\n",
        "\n",
        "\n",
        "args = TrainingArguments(\n",
        "        output_dir=\"./phi-3-mini-LoRA\",\n",
        "        evaluation_strategy=\"steps\",\n",
        "        do_eval=True,\n",
        "        optim=\"adamw_torch\",\n",
        "        per_device_train_batch_size=8,\n",
        "        gradient_accumulation_steps=4,\n",
        "        per_device_eval_batch_size=8,\n",
        "        log_level=\"debug\",\n",
        "        save_strategy=\"epoch\",\n",
        "        logging_steps=100,\n",
        "        learning_rate=1e-4,\n",
        "        fp16 = not torch.cuda.is_bf16_supported(),\n",
        "        bf16 = torch.cuda.is_bf16_supported(),\n",
        "        eval_steps=100,\n",
        "        num_train_epochs=3,\n",
        "        warmup_ratio=0.1,\n",
        "        lr_scheduler_type=\"linear\",\n",
        "        report_to=\"wandb\",\n",
        "        seed=42,\n",
        ")\n",
        "\n",
        "peft_config = LoraConfig(\n",
        "        r=lora_r,\n",
        "        lora_alpha=lora_alpha,\n",
        "        lora_dropout=lora_dropout,\n",
        "        task_type=TaskType.CAUSAL_LM,\n",
        "        target_modules=target_modules,\n",
        ")"
      ]
    },
    {
      "cell_type": "markdown",
      "metadata": {
        "id": "EtAPtI3do5rA"
      },
      "source": [
        "## Establish Connection with wandb and Initiate the Project and Experiment"
      ]
    },
    {
      "cell_type": "code",
      "execution_count": null,
      "metadata": {
        "id": "PY6vPh6ZS2nh"
      },
      "outputs": [],
      "source": [
        "# This code block is used to initialize Weights & Biases (wandb), a tool for tracking and visualizing machine learning experiments.\n",
        "\n",
        "# 'import wandb' is used to import the wandb library.\n",
        "import wandb\n",
        "\n",
        "# 'wandb.login()' is a method that logs you into your Weights & Biases account.\n",
        "# If you're not already logged in, it will prompt you to log in.\n",
        "# Once you're logged in, you can use Weights & Biases to track and visualize your experiments.\n",
        "wandb.login()"
      ]
    },
    {
      "cell_type": "code",
      "execution_count": null,
      "metadata": {
        "id": "uoKRozpXT5Kg"
      },
      "outputs": [],
      "source": [
        "# This code block is used to initialize a Weights & Biases (wandb) run.\n",
        "\n",
        "# 'project_name' is set to the name of the project in Weights & Biases.\n",
        "project_name = \"Phi3-mini-ft-python-code\"\n",
        "\n",
        "# 'wandb.init' is a method that initializes a new Weights & Biases run.\n",
        "# 'project' is set to 'project_name', meaning that the run will be associated with this project.\n",
        "# 'name' is set to \"phi-3-mini-ft-py-3e\", which is the name of the run.\n",
        "# Each run has a unique name which can be used to identify it in the Weights & Biases dashboard.\n",
        "wandb.init(project=project_name, name = \"phi-3-mini-ft-py-3e\")"
      ]
    },
    {
      "cell_type": "markdown",
      "metadata": {
        "id": "1XTnGAYRy-wZ"
      },
      "source": [
        "We now possess all the necessary components to construct our SFTTrainer and commence the training of our model."
      ]
    },
    {
      "cell_type": "code",
      "execution_count": null,
      "metadata": {
        "id": "GKRtirQOy_P5"
      },
      "outputs": [],
      "source": [
        "# This code block is used to initialize the SFTTrainer, which is used to train the model.\n",
        "\n",
        "# 'model' is the model that will be trained.\n",
        "# 'train_dataset' and 'eval_dataset' are the datasets that will be used for training and evaluation, respectively.\n",
        "# 'peft_config' is the configuration for peft, which is used for instruction tuning.\n",
        "# 'dataset_text_field' is set to \"text\", meaning that the 'text' field of the dataset will be used as the input for the model.\n",
        "# 'max_seq_length' is set to 512, meaning that the maximum length of the sequences that will be fed to the model is 512 tokens.\n",
        "# 'tokenizer' is the tokenizer that will be used to tokenize the input text.\n",
        "# 'args' are the training arguments that were defined earlier.\n",
        "\n",
        "trainer = SFTTrainer(\n",
        "        model=model,\n",
        "        train_dataset=dataset_chatml['train'],\n",
        "        eval_dataset=dataset_chatml['test'],\n",
        "        peft_config=peft_config,\n",
        "        dataset_text_field=\"text\",\n",
        "        max_seq_length=512,\n",
        "        tokenizer=tokenizer,\n",
        "        args=args,\n",
        ")"
      ]
    },
    {
      "cell_type": "markdown",
      "metadata": {
        "id": "L3StRhnVzQfp"
      },
      "source": [
        "Initiate the model training process by invoking the train() method on our Trainer instance."
      ]
    },
    {
      "cell_type": "code",
      "execution_count": null,
      "metadata": {
        "id": "I-XPLvS7zQ4n"
      },
      "outputs": [],
      "source": [
        "# This code block is used to train the model and save it locally.\n",
        "\n",
        "# 'trainer.train()' is a method that starts the training of the model.\n",
        "# It uses the training dataset, evaluation dataset, and training arguments that were provided when the trainer was initialized.\n",
        "trainer.train()\n",
        "\n",
        "# 'trainer.save_model()' is a method that saves the trained model locally.\n",
        "# The model will be saved in the directory specified by 'output_dir' in the training arguments.\n",
        "trainer.save_model()"
      ]
    },
    {
      "cell_type": "markdown",
      "metadata": {
        "id": "CTVqO77zZGc7"
      },
      "source": [
        "Store the adapter on the Hugging Face Hu"
      ]
    },
    {
      "cell_type": "code",
      "execution_count": null,
      "metadata": {
        "id": "pIIR67O862DH"
      },
      "outputs": [],
      "source": [
        "# This code block is used to save the adapter to the Hugging Face Model Hub.\n",
        "\n",
        "# 'trainer.push_to_hub' is a method that pushes the trained model (or adapter in this case) to the Hugging Face Model Hub.\n",
        "# The argument \"edumunozsala/adapter-phi-3-mini-py_code\" is the name of the repository on the Hugging Face Model Hub where the adapter will be saved.\n",
        "trainer.push_to_hub(\"HuggingFaceUser/adapter-name\")"
      ]
    },
    {
      "cell_type": "markdown",
      "metadata": {
        "id": "QsiRfb0bz7fh"
      },
      "source": [
        "## Merge the model and the adapter and save it"
      ]
    },
    {
      "cell_type": "markdown",
      "metadata": {
        "id": "TxWD7KsvKWF1"
      },
      "source": [
        "Combine the model and the adapter, then save it. It's necessary to clear the memory when operating on a T4 instance."
      ]
    },
    {
      "cell_type": "code",
      "execution_count": null,
      "metadata": {
        "id": "eKr5H6dzL97a"
      },
      "outputs": [],
      "source": [
        "# This code block is used to free up GPU memory.\n",
        "\n",
        "# 'del model' and 'del trainer' are used to delete the 'model' and 'trainer' objects.\n",
        "# This removes the references to these objects, allowing Python's garbage collector to free up the memory they were using.\n",
        "\n",
        "del model\n",
        "del trainer\n",
        "\n",
        "# 'import gc' is used to import Python's garbage collector module.\n",
        "import gc\n",
        "\n",
        "# 'gc.collect()' is a method that triggers a full garbage collection, which can help to free up memory.\n",
        "# It's called twice here to ensure that all unreachable objects are collected.\n",
        "gc.collect()\n",
        "gc.collect()"
      ]
    },
    {
      "cell_type": "code",
      "execution_count": null,
      "metadata": {
        "id": "R1h7kunlRuWE"
      },
      "outputs": [],
      "source": [
        "# 'torch.cuda.empty_cache()' is a PyTorch method that releases all unoccupied cached memory currently held by\n",
        "# the caching allocator so that those can be used in other GPU application and visible in nvidia-smi.\n",
        "torch.cuda.empty_cache()"
      ]
    },
    {
      "cell_type": "code",
      "execution_count": null,
      "metadata": {
        "id": "70Nd6txqMeIt"
      },
      "outputs": [],
      "source": [
        "# 'gc.collect()' is a method that triggers a full garbage collection in Python.\n",
        "# It forces the garbage collector to release unreferenced memory, which can be helpful in managing memory usage, especially in a resource-constrained environment.\n",
        "gc.collect()"
      ]
    },
    {
      "cell_type": "markdown",
      "metadata": {
        "id": "BOEDlZDyKg5A"
      },
      "source": [
        "Load the previously trained and stored model, combine it, and then save the complete model."
      ]
    },
    {
      "cell_type": "code",
      "execution_count": null,
      "metadata": {
        "id": "Fxamw2PPL804"
      },
      "outputs": [],
      "source": [
        "# This code block is used to load the trained model, merge it, and save the merged model.\n",
        "\n",
        "# 'AutoPeftModelForCausalLM' is a class from the 'peft' library that provides a causal language model with PEFT (Performance Efficient Fine-Tuning) support.\n",
        "\n",
        "from peft import AutoPeftModelForCausalLM\n",
        "\n",
        "# 'AutoPeftModelForCausalLM.from_pretrained' is a method that loads a pre-trained model (adapter model) and its base model.\n",
        "#  The adapter model is loaded from 'args.output_dir', which is the directory where the trained model was saved.\n",
        "# 'low_cpu_mem_usage' is set to True, which means that the model will use less CPU memory.\n",
        "# 'return_dict' is set to True, which means that the model will return a 'ModelOutput' (a named tuple) instead of a plain tuple.\n",
        "# 'torch_dtype' is set to 'torch.bfloat16', which means that the model will use bfloat16 precision for its computations.\n",
        "# 'trust_remote_code' is set to True, which means that the model will trust and execute remote code.\n",
        "# 'device_map' is the device map that will be used by the model.\n",
        "\n",
        "new_model = AutoPeftModelForCausalLM.from_pretrained(\n",
        "    args.output_dir,\n",
        "    low_cpu_mem_usage=True,\n",
        "    return_dict=True,\n",
        "    torch_dtype=torch.bfloat16, #torch.float16,\n",
        "    trust_remote_code=True,\n",
        "    device_map=device_map,\n",
        ")\n",
        "\n",
        "# 'new_model.merge_and_unload' is a method that merges the model and unloads it from memory.\n",
        "# The merged model is stored in 'merged_model'.\n",
        "\n",
        "merged_model = new_model.merge_and_unload()\n",
        "\n",
        "# 'merged_model.save_pretrained' is a method that saves the merged model.\n",
        "# The model is saved in the directory \"merged_model\".\n",
        "# 'trust_remote_code' is set to True, which means that the model will trust and execute remote code.\n",
        "# 'safe_serialization' is set to True, which means that the model will use safe serialization.\n",
        "\n",
        "merged_model.save_pretrained(\"merged_model\", trust_remote_code=True, safe_serialization=True)\n",
        "\n",
        "# 'tokenizer.save_pretrained' is a method that saves the tokenizer.\n",
        "# The tokenizer is saved in the directory \"merged_model\".\n",
        "\n",
        "tokenizer.save_pretrained(\"merged_model\")"
      ]
    },
    {
      "cell_type": "code",
      "execution_count": null,
      "metadata": {
        "id": "4NmPKCewTb51"
      },
      "outputs": [],
      "source": [
        "# This code block is used to push the merged model and the tokenizer to the Hugging Face Model Hub.\n",
        "\n",
        "# 'merged_model.push_to_hub' is a method that pushes the merged model to the Hugging Face Model Hub.\n",
        "# 'hf_model_repo' is the name of the repository on the Hugging Face Model Hub where the model will be saved.\n",
        "merged_model.push_to_hub(hf_model_repo)\n",
        "\n",
        "# 'tokenizer.push_to_hub' is a method that pushes the tokenizer to the Hugging Face Model Hub.\n",
        "# 'hf_model_repo' is the name of the repository on the Hugging Face Model Hub where the tokenizer will be saved.\n",
        "tokenizer.push_to_hub(hf_model_repo)"
      ]
    },
    {
      "cell_type": "markdown",
      "metadata": {
        "id": "NPFsF-OrfBZc"
      },
      "source": [
        "## Model Inference and evaluation"
      ]
    },
    {
      "cell_type": "markdown",
      "metadata": {
        "id": "yYdbAKY8L29E"
      },
      "source": [
        "For model inference and evaluation, we will download the model we created from the Hugging Face Hub and test it to ensure its functionality."
      ]
    },
    {
      "cell_type": "code",
      "execution_count": null,
      "metadata": {
        "id": "HLKj22UaWngA"
      },
      "outputs": [],
      "source": [
        "# 'hf_model_repo' is a variable that holds the name of the repository on the Hugging Face Model Hub.\n",
        "# This is where the trained and merged model, as well as the tokenizer, have been saved.\n",
        "hf_model_repo"
      ]
    },
    {
      "cell_type": "code",
      "execution_count": null,
      "metadata": {
        "id": "gRcpjHQ0sdMy"
      },
      "outputs": [],
      "source": [
        "# 'hf_model_repo' is a variable that holds the name of the repository on the Hugging Face Model Hub.\n",
        "# This is where the trained and merged model, as well as the tokenizer, have been saved.\n",
        "# If 'hf_model_repo' is not defined, it is set to 'username/modelname'.\n",
        "# This is the default repository where the model and tokenizer will be saved if no other repository is specified.\n",
        "hf_model_repo = 'username/modelname' if not hf_model_repo else hf_model_repo"
      ]
    },
    {
      "cell_type": "markdown",
      "metadata": {
        "id": "ppxqEpgoU1hu"
      },
      "source": [
        "Retrieve the model and tokenizer from the Hugging Face Hub."
      ]
    },
    {
      "cell_type": "code",
      "execution_count": null,
      "metadata": {
        "id": "oJ6pB5b9U3xt"
      },
      "outputs": [],
      "source": [
        "# This code block is used to load the model and tokenizer from the Hugging Face Model Hub.\n",
        "\n",
        "# 'torch' is a library that provides a wide range of functionalities for tensor computations with strong GPU acceleration support.\n",
        "# 'AutoTokenizer' and 'AutoModelForCausalLM' are classes from the 'transformers' library that provide a tokenizer and a causal language model, respectively.\n",
        "# 'set_seed' is a function from the 'transformers' library that sets the seed for generating random numbers, which can be used for reproducibility.\n",
        "\n",
        "import torch\n",
        "from transformers import AutoTokenizer, AutoModelForCausalLM, set_seed\n",
        "\n",
        "# 'set_seed(1234)' sets the seed for generating random numbers to 1234.\n",
        "set_seed(1234)  # For reproducibility\n",
        "\n",
        "# 'AutoTokenizer.from_pretrained' is a method that loads a pre-trained tokenizer.\n",
        "# The tokenizer is loaded from 'hf_model_repo', which is the name of the repository on the Hugging Face Model Hub where the tokenizer was saved.\n",
        "# 'trust_remote_code' is set to True, which means that the tokenizer will trust and execute remote code.\n",
        "\n",
        "tokenizer = AutoTokenizer.from_pretrained(hf_model_repo,trust_remote_code=True)\n",
        "\n",
        "# 'AutoModelForCausalLM.from_pretrained' is a method that loads a pre-trained causal language model.\n",
        "# The model is loaded from 'hf_model_repo', which is the name of the repository on the Hugging Face Model Hub where the model was saved.\n",
        "# 'trust_remote_code' is set to True, which means that the model will trust and execute remote code.\n",
        "# 'torch_dtype' is set to \"auto\", which means that the model will automatically choose the data type for its computations.\n",
        "# 'device_map' is set to \"cuda\", which means that the model will use the CUDA device for its computations.\n",
        "\n",
        "model = AutoModelForCausalLM.from_pretrained(hf_model_repo, trust_remote_code=True, torch_dtype=\"auto\", device_map=\"cuda\")"
      ]
    },
    {
      "cell_type": "markdown",
      "metadata": {
        "id": "WElyWaQ1U4yJ"
      },
      "source": [
        "We arrange the dataset in the same manner as before."
      ]
    },
    {
      "cell_type": "code",
      "execution_count": null,
      "metadata": {
        "id": "uHeysh7bVCH6"
      },
      "outputs": [],
      "source": [
        "# This code block is used to prepare the dataset for model training.\n",
        "\n",
        "# 'dataset.map(create_message_column)' applies the 'create_message_column' function to each element in the 'dataset'.\n",
        "# This function is used to create a new column in the dataset.\n",
        "dataset_chatml = dataset.map(create_message_column)\n",
        "\n",
        "# 'dataset_chatml.map(format_dataset_chatml)' applies the 'format_dataset_chatml' function to each element in 'dataset_chatml'.\n",
        "# This function is used to format the dataset in a way that is suitable for chat ML.\n",
        "dataset_chatml = dataset_chatml.map(format_dataset_chatml)\n",
        "\n",
        "# 'dataset_chatml.train_test_split(test_size=0.05, seed=1234)' splits 'dataset_chatml' into a training set and a test set.\n",
        "# 'test_size=0.05' means that 5% of the data will be used for the test set.\n",
        "# 'seed=1234' is used for reproducibility.\n",
        "dataset_chatml = dataset_chatml.train_test_split(test_size=0.05, seed=1234)\n",
        "\n",
        "# 'dataset_chatml' is printed to the console to inspect its contents.\n",
        "dataset_chatml"
      ]
    },
    {
      "cell_type": "code",
      "execution_count": null,
      "metadata": {
        "id": "p91iNnNSbrq2"
      },
      "outputs": [],
      "source": [
        "# 'dataset_chatml['test'][0]' is used to access the first element of the test set in the 'dataset_chatml' dataset.\n",
        "# This can be used to inspect the first test sample to understand its structure and contents.\n",
        "dataset_chatml['test'][0]"
      ]
    },
    {
      "cell_type": "markdown",
      "metadata": {
        "id": "8IGA3VJkVJM0"
      },
      "source": [
        "Create a text generation pipeline to run the inference"
      ]
    },
    {
      "cell_type": "code",
      "execution_count": null,
      "metadata": {
        "id": "QLkICus2Y89r"
      },
      "outputs": [],
      "source": [
        "# 'pipeline' is a function from the 'transformers' library that creates a pipeline for text generation.\n",
        "# 'text-generation' is the task that the pipeline will perform.\n",
        "# 'model' is the pre-trained model that the pipeline will use.\n",
        "# 'tokenizer' is the tokenizer that the pipeline will use to tokenize the input text.\n",
        "# The created pipeline is stored in the 'pipe' variable.\n",
        "pipe = pipeline(\"text-generation\", model=model, tokenizer=tokenizer)"
      ]
    },
    {
      "cell_type": "code",
      "execution_count": null,
      "metadata": {
        "id": "GUozL80eaYWn"
      },
      "outputs": [],
      "source": [
        "# This code block is used to test the chat template.\n",
        "\n",
        "# 'pipe.tokenizer.apply_chat_template' is a method that applies the chat template to a list of messages.\n",
        "# The list of messages is [{\"role\": \"user\", \"content\": dataset_chatml['test'][0]['messages'][0]['content']}], which is the first message in the test set of 'dataset_chatml'.\n",
        "# 'tokenize' is set to False, which means that the method will not tokenize the messages.\n",
        "# 'add_generation_prompt' is set to True, which means that the method will add a generation prompt to the messages.\n",
        "pipe.tokenizer.apply_chat_template([{\"role\": \"user\", \"content\": dataset_chatml['test'][0]['messages'][0]['content']}], tokenize=False, add_generation_prompt=True)"
      ]
    },
    {
      "cell_type": "markdown",
      "metadata": {
        "id": "wJQp7QFOZlRl"
      },
      "source": [
        "Develop a function that organizes the input and performs inference on an individual sample."
      ]
    },
    {
      "cell_type": "code",
      "execution_count": null,
      "metadata": {
        "id": "K3FBmBU8Ya_k"
      },
      "outputs": [],
      "source": [
        "# This code block defines a function 'test_inference' that performs inference on a given prompt.\n",
        "\n",
        "# 'prompt' is the input to the function. It is the text that the model will generate a response to.\n",
        "\n",
        "# 'pipe.tokenizer.apply_chat_template' is a method that applies the chat template to the prompt.\n",
        "# The prompt is wrapped in a list and formatted as a dictionary with \"role\" set to \"user\" and \"content\" set to the prompt.\n",
        "# 'tokenize' is set to False, which means that the method will not tokenize the prompt.\n",
        "# 'add_generation_prompt' is set to True, which means that the method will add a generation prompt to the prompt.\n",
        "# The formatted prompt is stored back in the 'prompt' variable.\n",
        "\n",
        "# 'pipe' is the text generation pipeline that was created earlier.\n",
        "# It is called with the formatted prompt and several parameters that control the text generation process.\n",
        "# 'max_new_tokens=256' limits the maximum number of new tokens that can be generated.\n",
        "# 'do_sample=True' enables sampling, which means that the model will generate diverse responses.\n",
        "# 'num_beams=1' sets the number of beams for beam search to 1, which means that the model will generate one response.\n",
        "# 'temperature=0.3' controls the randomness of the responses. Lower values make the responses more deterministic.\n",
        "# 'top_k=50' limits the number of highest probability vocabulary tokens to consider for each step.\n",
        "# 'top_p=0.95' enables nucleus sampling and sets the cumulative probability of parameter tokens to 0.95.\n",
        "# 'max_time=180' limits the maximum time for the generation process to 180 seconds.\n",
        "# The generated responses are stored in the 'outputs' variable.\n",
        "\n",
        "# The function returns the first generated response.\n",
        "# The response is stripped of the prompt and any leading or trailing whitespace.\n",
        "def test_inference(prompt):\n",
        "    prompt = pipe.tokenizer.apply_chat_template([{\"role\": \"user\", \"content\": prompt}], tokenize=False, add_generation_prompt=True)\n",
        "    outputs = pipe(prompt, max_new_tokens=256, do_sample=True, num_beams=1, temperature=0.3, top_k=50, top_p=0.95,\n",
        "                   max_time= 180) #, eos_token_id=eos_token)\n",
        "    return outputs[0]['generated_text'][len(prompt):].strip()"
      ]
    },
    {
      "cell_type": "code",
      "execution_count": null,
      "metadata": {
        "id": "flQTLjWvZ3Dz"
      },
      "outputs": [],
      "source": [
        "# This code block calls the 'test_inference' function with the first message in the test set of 'dataset_chatml' as the prompt.\n",
        "# 'test_inference' performs inference on the prompt and returns a generated response.\n",
        "# The response is printed to the console.\n",
        "test_inference(dataset_chatml['test'][0]['messages'][0]['content'])"
      ]
    },
    {
      "cell_type": "markdown",
      "metadata": {
        "id": "jLh3aUPLav4q"
      },
      "source": [
        "## Evaluate the performance"
      ]
    },
    {
      "cell_type": "code",
      "execution_count": null,
      "metadata": {
        "id": "nWitaaKfbGK6"
      },
      "outputs": [],
      "source": [
        "# 'load_metric' is a function from the 'datasets' library that loads a metric for evaluating the model.\n",
        "# Metrics are used to measure the performance of the model on certain tasks.\n",
        "from datasets import load_metric"
      ]
    },
    {
      "cell_type": "markdown",
      "metadata": {
        "id": "q9mVDf_WVSwE"
      },
      "source": [
        "We'll employ the ROUGE metric to assess performance. While it may not be the optimal metric, it's straightforward and convenient to utilize."
      ]
    },
    {
      "cell_type": "code",
      "execution_count": null,
      "metadata": {
        "id": "aIUQIUaFbGT9"
      },
      "outputs": [],
      "source": [
        "# 'load_metric(\"rouge\", trust_remote_code=True)' loads the ROUGE metric from the 'datasets' library.\n",
        "# ROUGE is a set of metrics used to evaluate automatic summarization and machine translation.\n",
        "# 'trust_remote_code' is set to True, which means that the metric will trust and execute remote code.\n",
        "# The loaded metric is stored in the 'rouge_metric' variable.\n",
        "rouge_metric = load_metric(\"rouge\", trust_remote_code=True)"
      ]
    },
    {
      "cell_type": "markdown",
      "metadata": {
        "id": "789fb1f1-fd01-4446-8a52-cef54d3331af"
      },
      "source": [
        "Develop a function for performing inference and assessing an instance."
      ]
    },
    {
      "cell_type": "code",
      "execution_count": null,
      "metadata": {
        "id": "c31d294b-79a4-42d4-ad88-2229551feecb",
        "tags": []
      },
      "outputs": [],
      "source": [
        "# This code block defines a function 'calculate_rogue' that calculates the ROUGE score for a given row in the dataset.\n",
        "\n",
        "# 'row' is the input to the function. It is a row in the dataset that contains a message and its corresponding output.\n",
        "\n",
        "# 'test_inference(row['messages'][0]['content'])' calls the 'test_inference' function with the first message in the row as the prompt.\n",
        "# 'test_inference' performs inference on the prompt and returns a generated response.\n",
        "# The response is stored in the 'response' variable.\n",
        "\n",
        "# 'rouge_metric.compute' is a method that calculates the ROUGE score for the generated response and the corresponding output in the row.\n",
        "# 'predictions' is set to the generated response and 'references' is set to the output in the row.\n",
        "# 'use_stemmer' is set to True, which means that the method will use a stemmer to reduce words to their root form.\n",
        "# The calculated ROUGE score is stored in the 'result' variable.\n",
        "\n",
        "# The 'result' dictionary is updated to contain the F-measure of each ROUGE score multiplied by 100.\n",
        "# The F-measure is a measure of a test's accuracy that considers both the precision and the recall of the test.\n",
        "\n",
        "# The 'response' is added to the 'result' dictionary.\n",
        "\n",
        "# The function returns the 'result' dictionary.\n",
        "def calculate_rogue(row):\n",
        "    response = test_inference(row['messages'][0]['content'])\n",
        "    result = rouge_metric.compute(predictions=[response], references=[row['output']], use_stemmer=True)\n",
        "    result = {key: value.mid.fmeasure * 100 for key, value in result.items()}\n",
        "    result['response']=response\n",
        "    return result"
      ]
    },
    {
      "cell_type": "markdown",
      "metadata": {
        "id": "l1hUxkIiZxtV"
      },
      "source": [
        "Now, we have the ability to execute inference on a collection of samples. For simplicity, the process isn't optimized at this stage. In the future, we plan to perform inference in batches to enhance performance. However, for the time being,"
      ]
    },
    {
      "cell_type": "code",
      "execution_count": null,
      "metadata": {
        "id": "e6d45ed0-6c91-4738-a5e9-25601c76ffba",
        "tags": []
      },
      "outputs": [],
      "source": [
        "# '%%time' is a magic command in Jupyter notebooks that measures the execution time of the cell.\n",
        "\n",
        "# 'dataset_chatml['test'].select(range(0,500))' selects the first 500 elements from the test set in the 'dataset_chatml' dataset.\n",
        "\n",
        "# '.map(calculate_rogue, batched=False)' applies the 'calculate_rogue' function to each element in the selected subset.\n",
        "# 'calculate_rogue' calculates the ROUGE score for each element.\n",
        "# 'batched' is set to False, which means that the function will be applied to each element individually, not in batches.\n",
        "\n",
        "# The results are stored in the 'metricas' variable.\n",
        "%%time\n",
        "metricas = dataset_chatml['test'].select(range(0,500)).map(calculate_rogue, batched=False)"
      ]
    },
    {
      "cell_type": "code",
      "execution_count": null,
      "metadata": {
        "id": "39d66860-aac6-44ea-9f75-17efbbdcb9e1",
        "tags": []
      },
      "outputs": [],
      "source": [
        "# 'numpy' is a library in Python that provides support for large, multi-dimensional arrays and matrices, along with a large collection of high-level mathematical functions to operate on these arrays.\n",
        "# 'import numpy as np' imports the 'numpy' library and gives it the alias 'np'. This allows us to use 'np' instead of 'numpy' when calling its functions.\n",
        "import numpy as np"
      ]
    },
    {
      "cell_type": "markdown",
      "metadata": {
        "id": "zzn8sk_3V0Rm"
      },
      "source": [
        "Now, we have the ability to compute the metric for the sample."
      ]
    },
    {
      "cell_type": "code",
      "execution_count": null,
      "metadata": {
        "id": "6877ad08-32a2-4be6-a18d-76a47818886a",
        "tags": []
      },
      "outputs": [],
      "source": [
        "# This code block prints the mean of the ROUGE-1, ROUGE-2, ROUGE-L, and ROUGE-Lsum scores in the 'metricas' dictionary.\n",
        "\n",
        "# 'np.mean(metricas['rouge1'])' calculates the mean of the ROUGE-1 scores.\n",
        "# 'np.mean(metricas['rouge2'])' calculates the mean of the ROUGE-2 scores.\n",
        "# 'np.mean(metricas['rougeL'])' calculates the mean of the ROUGE-L scores.\n",
        "# 'np.mean(metricas['rougeLsum'])' calculates the mean of the ROUGE-Lsum scores.\n",
        "\n",
        "# 'print' is used to print the calculated means to the console.\n",
        "print(\"Rouge 1 Mean: \",np.mean(metricas['rouge1']))\n",
        "print(\"Rouge 2 Mean: \",np.mean(metricas['rouge2']))\n",
        "print(\"Rouge L Mean: \",np.mean(metricas['rougeL']))\n",
        "print(\"Rouge Lsum Mean: \",np.mean(metricas['rougeLsum']))"
      ]
    }
  ],
  "metadata": {
    "accelerator": "GPU",
    "colab": {
      "gpuType": "T4",
      "provenance": []
    },
    "kernelspec": {
      "display_name": "Python 3",
      "name": "python3"
    },
    "language_info": {
      "name": "python"
    },
    "widgets": {
      "application/vnd.jupyter.widget-state+json": {
        "5f32c00d74c845e789116418df2076de": {
          "model_module": "@jupyter-widgets/controls",
          "model_name": "HBoxModel",
          "model_module_version": "1.5.0",
          "state": {
            "_dom_classes": [],
            "_model_module": "@jupyter-widgets/controls",
            "_model_module_version": "1.5.0",
            "_model_name": "HBoxModel",
            "_view_count": null,
            "_view_module": "@jupyter-widgets/controls",
            "_view_module_version": "1.5.0",
            "_view_name": "HBoxView",
            "box_style": "",
            "children": [
              "IPY_MODEL_24f4948eca794cc7a36e688f716ec7ed",
              "IPY_MODEL_20e14680a7044705bf5c543970477ab1",
              "IPY_MODEL_9cf1705f1b0542ac87b0f50bdfa7f80e"
            ],
            "layout": "IPY_MODEL_d515403410aa439e9eaeee68af6e325a"
          }
        },
        "24f4948eca794cc7a36e688f716ec7ed": {
          "model_module": "@jupyter-widgets/controls",
          "model_name": "HTMLModel",
          "model_module_version": "1.5.0",
          "state": {
            "_dom_classes": [],
            "_model_module": "@jupyter-widgets/controls",
            "_model_module_version": "1.5.0",
            "_model_name": "HTMLModel",
            "_view_count": null,
            "_view_module": "@jupyter-widgets/controls",
            "_view_module_version": "1.5.0",
            "_view_name": "HTMLView",
            "description": "",
            "description_tooltip": null,
            "layout": "IPY_MODEL_fdd852b31927428f8c4b3b7c4e804ac2",
            "placeholder": "​",
            "style": "IPY_MODEL_6fd69c5cb9014f0fb137fb53f5cdd6e1",
            "value": "README.md: 100%"
          }
        },
        "20e14680a7044705bf5c543970477ab1": {
          "model_module": "@jupyter-widgets/controls",
          "model_name": "FloatProgressModel",
          "model_module_version": "1.5.0",
          "state": {
            "_dom_classes": [],
            "_model_module": "@jupyter-widgets/controls",
            "_model_module_version": "1.5.0",
            "_model_name": "FloatProgressModel",
            "_view_count": null,
            "_view_module": "@jupyter-widgets/controls",
            "_view_module_version": "1.5.0",
            "_view_name": "ProgressView",
            "bar_style": "success",
            "description": "",
            "description_tooltip": null,
            "layout": "IPY_MODEL_6e057accbc6c4b7cbf67170346f30554",
            "max": 4831,
            "min": 0,
            "orientation": "horizontal",
            "style": "IPY_MODEL_70f6ee9771d9419a91dccc6cd68559f1",
            "value": 4831
          }
        },
        "9cf1705f1b0542ac87b0f50bdfa7f80e": {
          "model_module": "@jupyter-widgets/controls",
          "model_name": "HTMLModel",
          "model_module_version": "1.5.0",
          "state": {
            "_dom_classes": [],
            "_model_module": "@jupyter-widgets/controls",
            "_model_module_version": "1.5.0",
            "_model_name": "HTMLModel",
            "_view_count": null,
            "_view_module": "@jupyter-widgets/controls",
            "_view_module_version": "1.5.0",
            "_view_name": "HTMLView",
            "description": "",
            "description_tooltip": null,
            "layout": "IPY_MODEL_37bfbebd72a0422f9c17a046c028aaf1",
            "placeholder": "​",
            "style": "IPY_MODEL_bb91c981ce044f638d3f8bce73b73002",
            "value": " 4.83k/4.83k [00:00&lt;00:00, 251kB/s]"
          }
        },
        "d515403410aa439e9eaeee68af6e325a": {
          "model_module": "@jupyter-widgets/base",
          "model_name": "LayoutModel",
          "model_module_version": "1.2.0",
          "state": {
            "_model_module": "@jupyter-widgets/base",
            "_model_module_version": "1.2.0",
            "_model_name": "LayoutModel",
            "_view_count": null,
            "_view_module": "@jupyter-widgets/base",
            "_view_module_version": "1.2.0",
            "_view_name": "LayoutView",
            "align_content": null,
            "align_items": null,
            "align_self": null,
            "border": null,
            "bottom": null,
            "display": null,
            "flex": null,
            "flex_flow": null,
            "grid_area": null,
            "grid_auto_columns": null,
            "grid_auto_flow": null,
            "grid_auto_rows": null,
            "grid_column": null,
            "grid_gap": null,
            "grid_row": null,
            "grid_template_areas": null,
            "grid_template_columns": null,
            "grid_template_rows": null,
            "height": null,
            "justify_content": null,
            "justify_items": null,
            "left": null,
            "margin": null,
            "max_height": null,
            "max_width": null,
            "min_height": null,
            "min_width": null,
            "object_fit": null,
            "object_position": null,
            "order": null,
            "overflow": null,
            "overflow_x": null,
            "overflow_y": null,
            "padding": null,
            "right": null,
            "top": null,
            "visibility": null,
            "width": null
          }
        },
        "fdd852b31927428f8c4b3b7c4e804ac2": {
          "model_module": "@jupyter-widgets/base",
          "model_name": "LayoutModel",
          "model_module_version": "1.2.0",
          "state": {
            "_model_module": "@jupyter-widgets/base",
            "_model_module_version": "1.2.0",
            "_model_name": "LayoutModel",
            "_view_count": null,
            "_view_module": "@jupyter-widgets/base",
            "_view_module_version": "1.2.0",
            "_view_name": "LayoutView",
            "align_content": null,
            "align_items": null,
            "align_self": null,
            "border": null,
            "bottom": null,
            "display": null,
            "flex": null,
            "flex_flow": null,
            "grid_area": null,
            "grid_auto_columns": null,
            "grid_auto_flow": null,
            "grid_auto_rows": null,
            "grid_column": null,
            "grid_gap": null,
            "grid_row": null,
            "grid_template_areas": null,
            "grid_template_columns": null,
            "grid_template_rows": null,
            "height": null,
            "justify_content": null,
            "justify_items": null,
            "left": null,
            "margin": null,
            "max_height": null,
            "max_width": null,
            "min_height": null,
            "min_width": null,
            "object_fit": null,
            "object_position": null,
            "order": null,
            "overflow": null,
            "overflow_x": null,
            "overflow_y": null,
            "padding": null,
            "right": null,
            "top": null,
            "visibility": null,
            "width": null
          }
        },
        "6fd69c5cb9014f0fb137fb53f5cdd6e1": {
          "model_module": "@jupyter-widgets/controls",
          "model_name": "DescriptionStyleModel",
          "model_module_version": "1.5.0",
          "state": {
            "_model_module": "@jupyter-widgets/controls",
            "_model_module_version": "1.5.0",
            "_model_name": "DescriptionStyleModel",
            "_view_count": null,
            "_view_module": "@jupyter-widgets/base",
            "_view_module_version": "1.2.0",
            "_view_name": "StyleView",
            "description_width": ""
          }
        },
        "6e057accbc6c4b7cbf67170346f30554": {
          "model_module": "@jupyter-widgets/base",
          "model_name": "LayoutModel",
          "model_module_version": "1.2.0",
          "state": {
            "_model_module": "@jupyter-widgets/base",
            "_model_module_version": "1.2.0",
            "_model_name": "LayoutModel",
            "_view_count": null,
            "_view_module": "@jupyter-widgets/base",
            "_view_module_version": "1.2.0",
            "_view_name": "LayoutView",
            "align_content": null,
            "align_items": null,
            "align_self": null,
            "border": null,
            "bottom": null,
            "display": null,
            "flex": null,
            "flex_flow": null,
            "grid_area": null,
            "grid_auto_columns": null,
            "grid_auto_flow": null,
            "grid_auto_rows": null,
            "grid_column": null,
            "grid_gap": null,
            "grid_row": null,
            "grid_template_areas": null,
            "grid_template_columns": null,
            "grid_template_rows": null,
            "height": null,
            "justify_content": null,
            "justify_items": null,
            "left": null,
            "margin": null,
            "max_height": null,
            "max_width": null,
            "min_height": null,
            "min_width": null,
            "object_fit": null,
            "object_position": null,
            "order": null,
            "overflow": null,
            "overflow_x": null,
            "overflow_y": null,
            "padding": null,
            "right": null,
            "top": null,
            "visibility": null,
            "width": null
          }
        },
        "70f6ee9771d9419a91dccc6cd68559f1": {
          "model_module": "@jupyter-widgets/controls",
          "model_name": "ProgressStyleModel",
          "model_module_version": "1.5.0",
          "state": {
            "_model_module": "@jupyter-widgets/controls",
            "_model_module_version": "1.5.0",
            "_model_name": "ProgressStyleModel",
            "_view_count": null,
            "_view_module": "@jupyter-widgets/base",
            "_view_module_version": "1.2.0",
            "_view_name": "StyleView",
            "bar_color": null,
            "description_width": ""
          }
        },
        "37bfbebd72a0422f9c17a046c028aaf1": {
          "model_module": "@jupyter-widgets/base",
          "model_name": "LayoutModel",
          "model_module_version": "1.2.0",
          "state": {
            "_model_module": "@jupyter-widgets/base",
            "_model_module_version": "1.2.0",
            "_model_name": "LayoutModel",
            "_view_count": null,
            "_view_module": "@jupyter-widgets/base",
            "_view_module_version": "1.2.0",
            "_view_name": "LayoutView",
            "align_content": null,
            "align_items": null,
            "align_self": null,
            "border": null,
            "bottom": null,
            "display": null,
            "flex": null,
            "flex_flow": null,
            "grid_area": null,
            "grid_auto_columns": null,
            "grid_auto_flow": null,
            "grid_auto_rows": null,
            "grid_column": null,
            "grid_gap": null,
            "grid_row": null,
            "grid_template_areas": null,
            "grid_template_columns": null,
            "grid_template_rows": null,
            "height": null,
            "justify_content": null,
            "justify_items": null,
            "left": null,
            "margin": null,
            "max_height": null,
            "max_width": null,
            "min_height": null,
            "min_width": null,
            "object_fit": null,
            "object_position": null,
            "order": null,
            "overflow": null,
            "overflow_x": null,
            "overflow_y": null,
            "padding": null,
            "right": null,
            "top": null,
            "visibility": null,
            "width": null
          }
        },
        "bb91c981ce044f638d3f8bce73b73002": {
          "model_module": "@jupyter-widgets/controls",
          "model_name": "DescriptionStyleModel",
          "model_module_version": "1.5.0",
          "state": {
            "_model_module": "@jupyter-widgets/controls",
            "_model_module_version": "1.5.0",
            "_model_name": "DescriptionStyleModel",
            "_view_count": null,
            "_view_module": "@jupyter-widgets/base",
            "_view_module_version": "1.2.0",
            "_view_name": "StyleView",
            "description_width": ""
          }
        },
        "8e18d5b3c8f14091b8cc6073feb48974": {
          "model_module": "@jupyter-widgets/controls",
          "model_name": "HBoxModel",
          "model_module_version": "1.5.0",
          "state": {
            "_dom_classes": [],
            "_model_module": "@jupyter-widgets/controls",
            "_model_module_version": "1.5.0",
            "_model_name": "HBoxModel",
            "_view_count": null,
            "_view_module": "@jupyter-widgets/controls",
            "_view_module_version": "1.5.0",
            "_view_name": "HBoxView",
            "box_style": "",
            "children": [
              "IPY_MODEL_5694327f7840448594fc60d8b8ffedb3",
              "IPY_MODEL_f17ca217a77a4f46b37e84ac8f621aa5",
              "IPY_MODEL_8f7de0fdd00f4eb6842a5829ca1fb33c"
            ],
            "layout": "IPY_MODEL_c50ee628eefd496bbc03ca387306e888"
          }
        },
        "5694327f7840448594fc60d8b8ffedb3": {
          "model_module": "@jupyter-widgets/controls",
          "model_name": "HTMLModel",
          "model_module_version": "1.5.0",
          "state": {
            "_dom_classes": [],
            "_model_module": "@jupyter-widgets/controls",
            "_model_module_version": "1.5.0",
            "_model_name": "HTMLModel",
            "_view_count": null,
            "_view_module": "@jupyter-widgets/controls",
            "_view_module_version": "1.5.0",
            "_view_name": "HTMLView",
            "description": "",
            "description_tooltip": null,
            "layout": "IPY_MODEL_88d73138b0b8483abc366d5c59f4c51a",
            "placeholder": "​",
            "style": "IPY_MODEL_d75c7e87443e42eba823239065cf5d34",
            "value": "dataset_infos.json: 100%"
          }
        },
        "f17ca217a77a4f46b37e84ac8f621aa5": {
          "model_module": "@jupyter-widgets/controls",
          "model_name": "FloatProgressModel",
          "model_module_version": "1.5.0",
          "state": {
            "_dom_classes": [],
            "_model_module": "@jupyter-widgets/controls",
            "_model_module_version": "1.5.0",
            "_model_name": "FloatProgressModel",
            "_view_count": null,
            "_view_module": "@jupyter-widgets/controls",
            "_view_module_version": "1.5.0",
            "_view_name": "ProgressView",
            "bar_style": "success",
            "description": "",
            "description_tooltip": null,
            "layout": "IPY_MODEL_c64a94152b034e709881bf23baf7c769",
            "max": 1397,
            "min": 0,
            "orientation": "horizontal",
            "style": "IPY_MODEL_ff31a5b0d9ad4998952642874d92ea38",
            "value": 1397
          }
        },
        "8f7de0fdd00f4eb6842a5829ca1fb33c": {
          "model_module": "@jupyter-widgets/controls",
          "model_name": "HTMLModel",
          "model_module_version": "1.5.0",
          "state": {
            "_dom_classes": [],
            "_model_module": "@jupyter-widgets/controls",
            "_model_module_version": "1.5.0",
            "_model_name": "HTMLModel",
            "_view_count": null,
            "_view_module": "@jupyter-widgets/controls",
            "_view_module_version": "1.5.0",
            "_view_name": "HTMLView",
            "description": "",
            "description_tooltip": null,
            "layout": "IPY_MODEL_6f4b989c36774a32a513bf288626a67a",
            "placeholder": "​",
            "style": "IPY_MODEL_84cb5799bb354423998c55bbc0c8e9d8",
            "value": " 1.40k/1.40k [00:00&lt;00:00, 55.6kB/s]"
          }
        },
        "c50ee628eefd496bbc03ca387306e888": {
          "model_module": "@jupyter-widgets/base",
          "model_name": "LayoutModel",
          "model_module_version": "1.2.0",
          "state": {
            "_model_module": "@jupyter-widgets/base",
            "_model_module_version": "1.2.0",
            "_model_name": "LayoutModel",
            "_view_count": null,
            "_view_module": "@jupyter-widgets/base",
            "_view_module_version": "1.2.0",
            "_view_name": "LayoutView",
            "align_content": null,
            "align_items": null,
            "align_self": null,
            "border": null,
            "bottom": null,
            "display": null,
            "flex": null,
            "flex_flow": null,
            "grid_area": null,
            "grid_auto_columns": null,
            "grid_auto_flow": null,
            "grid_auto_rows": null,
            "grid_column": null,
            "grid_gap": null,
            "grid_row": null,
            "grid_template_areas": null,
            "grid_template_columns": null,
            "grid_template_rows": null,
            "height": null,
            "justify_content": null,
            "justify_items": null,
            "left": null,
            "margin": null,
            "max_height": null,
            "max_width": null,
            "min_height": null,
            "min_width": null,
            "object_fit": null,
            "object_position": null,
            "order": null,
            "overflow": null,
            "overflow_x": null,
            "overflow_y": null,
            "padding": null,
            "right": null,
            "top": null,
            "visibility": null,
            "width": null
          }
        },
        "88d73138b0b8483abc366d5c59f4c51a": {
          "model_module": "@jupyter-widgets/base",
          "model_name": "LayoutModel",
          "model_module_version": "1.2.0",
          "state": {
            "_model_module": "@jupyter-widgets/base",
            "_model_module_version": "1.2.0",
            "_model_name": "LayoutModel",
            "_view_count": null,
            "_view_module": "@jupyter-widgets/base",
            "_view_module_version": "1.2.0",
            "_view_name": "LayoutView",
            "align_content": null,
            "align_items": null,
            "align_self": null,
            "border": null,
            "bottom": null,
            "display": null,
            "flex": null,
            "flex_flow": null,
            "grid_area": null,
            "grid_auto_columns": null,
            "grid_auto_flow": null,
            "grid_auto_rows": null,
            "grid_column": null,
            "grid_gap": null,
            "grid_row": null,
            "grid_template_areas": null,
            "grid_template_columns": null,
            "grid_template_rows": null,
            "height": null,
            "justify_content": null,
            "justify_items": null,
            "left": null,
            "margin": null,
            "max_height": null,
            "max_width": null,
            "min_height": null,
            "min_width": null,
            "object_fit": null,
            "object_position": null,
            "order": null,
            "overflow": null,
            "overflow_x": null,
            "overflow_y": null,
            "padding": null,
            "right": null,
            "top": null,
            "visibility": null,
            "width": null
          }
        },
        "d75c7e87443e42eba823239065cf5d34": {
          "model_module": "@jupyter-widgets/controls",
          "model_name": "DescriptionStyleModel",
          "model_module_version": "1.5.0",
          "state": {
            "_model_module": "@jupyter-widgets/controls",
            "_model_module_version": "1.5.0",
            "_model_name": "DescriptionStyleModel",
            "_view_count": null,
            "_view_module": "@jupyter-widgets/base",
            "_view_module_version": "1.2.0",
            "_view_name": "StyleView",
            "description_width": ""
          }
        },
        "c64a94152b034e709881bf23baf7c769": {
          "model_module": "@jupyter-widgets/base",
          "model_name": "LayoutModel",
          "model_module_version": "1.2.0",
          "state": {
            "_model_module": "@jupyter-widgets/base",
            "_model_module_version": "1.2.0",
            "_model_name": "LayoutModel",
            "_view_count": null,
            "_view_module": "@jupyter-widgets/base",
            "_view_module_version": "1.2.0",
            "_view_name": "LayoutView",
            "align_content": null,
            "align_items": null,
            "align_self": null,
            "border": null,
            "bottom": null,
            "display": null,
            "flex": null,
            "flex_flow": null,
            "grid_area": null,
            "grid_auto_columns": null,
            "grid_auto_flow": null,
            "grid_auto_rows": null,
            "grid_column": null,
            "grid_gap": null,
            "grid_row": null,
            "grid_template_areas": null,
            "grid_template_columns": null,
            "grid_template_rows": null,
            "height": null,
            "justify_content": null,
            "justify_items": null,
            "left": null,
            "margin": null,
            "max_height": null,
            "max_width": null,
            "min_height": null,
            "min_width": null,
            "object_fit": null,
            "object_position": null,
            "order": null,
            "overflow": null,
            "overflow_x": null,
            "overflow_y": null,
            "padding": null,
            "right": null,
            "top": null,
            "visibility": null,
            "width": null
          }
        },
        "ff31a5b0d9ad4998952642874d92ea38": {
          "model_module": "@jupyter-widgets/controls",
          "model_name": "ProgressStyleModel",
          "model_module_version": "1.5.0",
          "state": {
            "_model_module": "@jupyter-widgets/controls",
            "_model_module_version": "1.5.0",
            "_model_name": "ProgressStyleModel",
            "_view_count": null,
            "_view_module": "@jupyter-widgets/base",
            "_view_module_version": "1.2.0",
            "_view_name": "StyleView",
            "bar_color": null,
            "description_width": ""
          }
        },
        "6f4b989c36774a32a513bf288626a67a": {
          "model_module": "@jupyter-widgets/base",
          "model_name": "LayoutModel",
          "model_module_version": "1.2.0",
          "state": {
            "_model_module": "@jupyter-widgets/base",
            "_model_module_version": "1.2.0",
            "_model_name": "LayoutModel",
            "_view_count": null,
            "_view_module": "@jupyter-widgets/base",
            "_view_module_version": "1.2.0",
            "_view_name": "LayoutView",
            "align_content": null,
            "align_items": null,
            "align_self": null,
            "border": null,
            "bottom": null,
            "display": null,
            "flex": null,
            "flex_flow": null,
            "grid_area": null,
            "grid_auto_columns": null,
            "grid_auto_flow": null,
            "grid_auto_rows": null,
            "grid_column": null,
            "grid_gap": null,
            "grid_row": null,
            "grid_template_areas": null,
            "grid_template_columns": null,
            "grid_template_rows": null,
            "height": null,
            "justify_content": null,
            "justify_items": null,
            "left": null,
            "margin": null,
            "max_height": null,
            "max_width": null,
            "min_height": null,
            "min_width": null,
            "object_fit": null,
            "object_position": null,
            "order": null,
            "overflow": null,
            "overflow_x": null,
            "overflow_y": null,
            "padding": null,
            "right": null,
            "top": null,
            "visibility": null,
            "width": null
          }
        },
        "84cb5799bb354423998c55bbc0c8e9d8": {
          "model_module": "@jupyter-widgets/controls",
          "model_name": "DescriptionStyleModel",
          "model_module_version": "1.5.0",
          "state": {
            "_model_module": "@jupyter-widgets/controls",
            "_model_module_version": "1.5.0",
            "_model_name": "DescriptionStyleModel",
            "_view_count": null,
            "_view_module": "@jupyter-widgets/base",
            "_view_module_version": "1.2.0",
            "_view_name": "StyleView",
            "description_width": ""
          }
        },
        "442bb22564624f33870ac46dfd25aa82": {
          "model_module": "@jupyter-widgets/controls",
          "model_name": "HBoxModel",
          "model_module_version": "1.5.0",
          "state": {
            "_dom_classes": [],
            "_model_module": "@jupyter-widgets/controls",
            "_model_module_version": "1.5.0",
            "_model_name": "HBoxModel",
            "_view_count": null,
            "_view_module": "@jupyter-widgets/controls",
            "_view_module_version": "1.5.0",
            "_view_name": "HBoxView",
            "box_style": "",
            "children": [
              "IPY_MODEL_73e7f503332d4d8d915e95cb991badfb",
              "IPY_MODEL_174005afe88145bc87f169d38256aa79",
              "IPY_MODEL_2be1c16e739c4302a4ebe605f728944d"
            ],
            "layout": "IPY_MODEL_55f4fbf8c14d45c1b6d2e5822295479e"
          }
        },
        "73e7f503332d4d8d915e95cb991badfb": {
          "model_module": "@jupyter-widgets/controls",
          "model_name": "HTMLModel",
          "model_module_version": "1.5.0",
          "state": {
            "_dom_classes": [],
            "_model_module": "@jupyter-widgets/controls",
            "_model_module_version": "1.5.0",
            "_model_name": "HTMLModel",
            "_view_count": null,
            "_view_module": "@jupyter-widgets/controls",
            "_view_module_version": "1.5.0",
            "_view_name": "HTMLView",
            "description": "",
            "description_tooltip": null,
            "layout": "IPY_MODEL_94a51e65d47d4e56908ddba29c5cf980",
            "placeholder": "​",
            "style": "IPY_MODEL_00458069dab340beab7ef84ee37f4a7b",
            "value": "(…)-00000-of-00001-87b7d64f7913b544.parquet: 100%"
          }
        },
        "174005afe88145bc87f169d38256aa79": {
          "model_module": "@jupyter-widgets/controls",
          "model_name": "FloatProgressModel",
          "model_module_version": "1.5.0",
          "state": {
            "_dom_classes": [],
            "_model_module": "@jupyter-widgets/controls",
            "_model_module_version": "1.5.0",
            "_model_name": "FloatProgressModel",
            "_view_count": null,
            "_view_module": "@jupyter-widgets/controls",
            "_view_module_version": "1.5.0",
            "_view_name": "ProgressView",
            "bar_style": "success",
            "description": "",
            "description_tooltip": null,
            "layout": "IPY_MODEL_ba4916a07b2b4bdf973b13d2d57e2f4d",
            "max": 5272217,
            "min": 0,
            "orientation": "horizontal",
            "style": "IPY_MODEL_520189bfa490439381a2c5a6cd797625",
            "value": 5272217
          }
        },
        "2be1c16e739c4302a4ebe605f728944d": {
          "model_module": "@jupyter-widgets/controls",
          "model_name": "HTMLModel",
          "model_module_version": "1.5.0",
          "state": {
            "_dom_classes": [],
            "_model_module": "@jupyter-widgets/controls",
            "_model_module_version": "1.5.0",
            "_model_name": "HTMLModel",
            "_view_count": null,
            "_view_module": "@jupyter-widgets/controls",
            "_view_module_version": "1.5.0",
            "_view_name": "HTMLView",
            "description": "",
            "description_tooltip": null,
            "layout": "IPY_MODEL_1d621c01b1814435acb3a9dbd787121d",
            "placeholder": "​",
            "style": "IPY_MODEL_6fd7806376fe49479ab47de55920ad35",
            "value": " 5.27M/5.27M [00:00&lt;00:00, 18.7MB/s]"
          }
        },
        "55f4fbf8c14d45c1b6d2e5822295479e": {
          "model_module": "@jupyter-widgets/base",
          "model_name": "LayoutModel",
          "model_module_version": "1.2.0",
          "state": {
            "_model_module": "@jupyter-widgets/base",
            "_model_module_version": "1.2.0",
            "_model_name": "LayoutModel",
            "_view_count": null,
            "_view_module": "@jupyter-widgets/base",
            "_view_module_version": "1.2.0",
            "_view_name": "LayoutView",
            "align_content": null,
            "align_items": null,
            "align_self": null,
            "border": null,
            "bottom": null,
            "display": null,
            "flex": null,
            "flex_flow": null,
            "grid_area": null,
            "grid_auto_columns": null,
            "grid_auto_flow": null,
            "grid_auto_rows": null,
            "grid_column": null,
            "grid_gap": null,
            "grid_row": null,
            "grid_template_areas": null,
            "grid_template_columns": null,
            "grid_template_rows": null,
            "height": null,
            "justify_content": null,
            "justify_items": null,
            "left": null,
            "margin": null,
            "max_height": null,
            "max_width": null,
            "min_height": null,
            "min_width": null,
            "object_fit": null,
            "object_position": null,
            "order": null,
            "overflow": null,
            "overflow_x": null,
            "overflow_y": null,
            "padding": null,
            "right": null,
            "top": null,
            "visibility": null,
            "width": null
          }
        },
        "94a51e65d47d4e56908ddba29c5cf980": {
          "model_module": "@jupyter-widgets/base",
          "model_name": "LayoutModel",
          "model_module_version": "1.2.0",
          "state": {
            "_model_module": "@jupyter-widgets/base",
            "_model_module_version": "1.2.0",
            "_model_name": "LayoutModel",
            "_view_count": null,
            "_view_module": "@jupyter-widgets/base",
            "_view_module_version": "1.2.0",
            "_view_name": "LayoutView",
            "align_content": null,
            "align_items": null,
            "align_self": null,
            "border": null,
            "bottom": null,
            "display": null,
            "flex": null,
            "flex_flow": null,
            "grid_area": null,
            "grid_auto_columns": null,
            "grid_auto_flow": null,
            "grid_auto_rows": null,
            "grid_column": null,
            "grid_gap": null,
            "grid_row": null,
            "grid_template_areas": null,
            "grid_template_columns": null,
            "grid_template_rows": null,
            "height": null,
            "justify_content": null,
            "justify_items": null,
            "left": null,
            "margin": null,
            "max_height": null,
            "max_width": null,
            "min_height": null,
            "min_width": null,
            "object_fit": null,
            "object_position": null,
            "order": null,
            "overflow": null,
            "overflow_x": null,
            "overflow_y": null,
            "padding": null,
            "right": null,
            "top": null,
            "visibility": null,
            "width": null
          }
        },
        "00458069dab340beab7ef84ee37f4a7b": {
          "model_module": "@jupyter-widgets/controls",
          "model_name": "DescriptionStyleModel",
          "model_module_version": "1.5.0",
          "state": {
            "_model_module": "@jupyter-widgets/controls",
            "_model_module_version": "1.5.0",
            "_model_name": "DescriptionStyleModel",
            "_view_count": null,
            "_view_module": "@jupyter-widgets/base",
            "_view_module_version": "1.2.0",
            "_view_name": "StyleView",
            "description_width": ""
          }
        },
        "ba4916a07b2b4bdf973b13d2d57e2f4d": {
          "model_module": "@jupyter-widgets/base",
          "model_name": "LayoutModel",
          "model_module_version": "1.2.0",
          "state": {
            "_model_module": "@jupyter-widgets/base",
            "_model_module_version": "1.2.0",
            "_model_name": "LayoutModel",
            "_view_count": null,
            "_view_module": "@jupyter-widgets/base",
            "_view_module_version": "1.2.0",
            "_view_name": "LayoutView",
            "align_content": null,
            "align_items": null,
            "align_self": null,
            "border": null,
            "bottom": null,
            "display": null,
            "flex": null,
            "flex_flow": null,
            "grid_area": null,
            "grid_auto_columns": null,
            "grid_auto_flow": null,
            "grid_auto_rows": null,
            "grid_column": null,
            "grid_gap": null,
            "grid_row": null,
            "grid_template_areas": null,
            "grid_template_columns": null,
            "grid_template_rows": null,
            "height": null,
            "justify_content": null,
            "justify_items": null,
            "left": null,
            "margin": null,
            "max_height": null,
            "max_width": null,
            "min_height": null,
            "min_width": null,
            "object_fit": null,
            "object_position": null,
            "order": null,
            "overflow": null,
            "overflow_x": null,
            "overflow_y": null,
            "padding": null,
            "right": null,
            "top": null,
            "visibility": null,
            "width": null
          }
        },
        "520189bfa490439381a2c5a6cd797625": {
          "model_module": "@jupyter-widgets/controls",
          "model_name": "ProgressStyleModel",
          "model_module_version": "1.5.0",
          "state": {
            "_model_module": "@jupyter-widgets/controls",
            "_model_module_version": "1.5.0",
            "_model_name": "ProgressStyleModel",
            "_view_count": null,
            "_view_module": "@jupyter-widgets/base",
            "_view_module_version": "1.2.0",
            "_view_name": "StyleView",
            "bar_color": null,
            "description_width": ""
          }
        },
        "1d621c01b1814435acb3a9dbd787121d": {
          "model_module": "@jupyter-widgets/base",
          "model_name": "LayoutModel",
          "model_module_version": "1.2.0",
          "state": {
            "_model_module": "@jupyter-widgets/base",
            "_model_module_version": "1.2.0",
            "_model_name": "LayoutModel",
            "_view_count": null,
            "_view_module": "@jupyter-widgets/base",
            "_view_module_version": "1.2.0",
            "_view_name": "LayoutView",
            "align_content": null,
            "align_items": null,
            "align_self": null,
            "border": null,
            "bottom": null,
            "display": null,
            "flex": null,
            "flex_flow": null,
            "grid_area": null,
            "grid_auto_columns": null,
            "grid_auto_flow": null,
            "grid_auto_rows": null,
            "grid_column": null,
            "grid_gap": null,
            "grid_row": null,
            "grid_template_areas": null,
            "grid_template_columns": null,
            "grid_template_rows": null,
            "height": null,
            "justify_content": null,
            "justify_items": null,
            "left": null,
            "margin": null,
            "max_height": null,
            "max_width": null,
            "min_height": null,
            "min_width": null,
            "object_fit": null,
            "object_position": null,
            "order": null,
            "overflow": null,
            "overflow_x": null,
            "overflow_y": null,
            "padding": null,
            "right": null,
            "top": null,
            "visibility": null,
            "width": null
          }
        },
        "6fd7806376fe49479ab47de55920ad35": {
          "model_module": "@jupyter-widgets/controls",
          "model_name": "DescriptionStyleModel",
          "model_module_version": "1.5.0",
          "state": {
            "_model_module": "@jupyter-widgets/controls",
            "_model_module_version": "1.5.0",
            "_model_name": "DescriptionStyleModel",
            "_view_count": null,
            "_view_module": "@jupyter-widgets/base",
            "_view_module_version": "1.2.0",
            "_view_name": "StyleView",
            "description_width": ""
          }
        },
        "a6896e97336c4a5e9635ab51288212fe": {
          "model_module": "@jupyter-widgets/controls",
          "model_name": "HBoxModel",
          "model_module_version": "1.5.0",
          "state": {
            "_dom_classes": [],
            "_model_module": "@jupyter-widgets/controls",
            "_model_module_version": "1.5.0",
            "_model_name": "HBoxModel",
            "_view_count": null,
            "_view_module": "@jupyter-widgets/controls",
            "_view_module_version": "1.5.0",
            "_view_name": "HBoxView",
            "box_style": "",
            "children": [
              "IPY_MODEL_0c69e4916fad4d029540fc2a9cfd55cb",
              "IPY_MODEL_21ec2d6c23b244e4b8df220692d383cc",
              "IPY_MODEL_11b58d011ebb484c98c075697b8b09f6"
            ],
            "layout": "IPY_MODEL_b9e1f5f622c147c6a2cbb5eb6c53578a"
          }
        },
        "0c69e4916fad4d029540fc2a9cfd55cb": {
          "model_module": "@jupyter-widgets/controls",
          "model_name": "HTMLModel",
          "model_module_version": "1.5.0",
          "state": {
            "_dom_classes": [],
            "_model_module": "@jupyter-widgets/controls",
            "_model_module_version": "1.5.0",
            "_model_name": "HTMLModel",
            "_view_count": null,
            "_view_module": "@jupyter-widgets/controls",
            "_view_module_version": "1.5.0",
            "_view_name": "HTMLView",
            "description": "",
            "description_tooltip": null,
            "layout": "IPY_MODEL_718d6cd169274e2dad4f1ec2feae9271",
            "placeholder": "​",
            "style": "IPY_MODEL_0023d4c3b86548a8b96e7bb59d8daba8",
            "value": "(…)-00000-of-00001-58a9a40c6e69f07b.parquet: 100%"
          }
        },
        "21ec2d6c23b244e4b8df220692d383cc": {
          "model_module": "@jupyter-widgets/controls",
          "model_name": "FloatProgressModel",
          "model_module_version": "1.5.0",
          "state": {
            "_dom_classes": [],
            "_model_module": "@jupyter-widgets/controls",
            "_model_module_version": "1.5.0",
            "_model_name": "FloatProgressModel",
            "_view_count": null,
            "_view_module": "@jupyter-widgets/controls",
            "_view_module_version": "1.5.0",
            "_view_name": "ProgressView",
            "bar_style": "success",
            "description": "",
            "description_tooltip": null,
            "layout": "IPY_MODEL_53be987cd8b5451e99e9fe50378267ff",
            "max": 1458997,
            "min": 0,
            "orientation": "horizontal",
            "style": "IPY_MODEL_be7df394235d4a4aa5d6ef3c523ba524",
            "value": 1458997
          }
        },
        "11b58d011ebb484c98c075697b8b09f6": {
          "model_module": "@jupyter-widgets/controls",
          "model_name": "HTMLModel",
          "model_module_version": "1.5.0",
          "state": {
            "_dom_classes": [],
            "_model_module": "@jupyter-widgets/controls",
            "_model_module_version": "1.5.0",
            "_model_name": "HTMLModel",
            "_view_count": null,
            "_view_module": "@jupyter-widgets/controls",
            "_view_module_version": "1.5.0",
            "_view_name": "HTMLView",
            "description": "",
            "description_tooltip": null,
            "layout": "IPY_MODEL_c9598c4940de443887ea6946a6576488",
            "placeholder": "​",
            "style": "IPY_MODEL_43fbb04a8dd0497ea9dc6839ced719a5",
            "value": " 1.46M/1.46M [00:00&lt;00:00, 27.2MB/s]"
          }
        },
        "b9e1f5f622c147c6a2cbb5eb6c53578a": {
          "model_module": "@jupyter-widgets/base",
          "model_name": "LayoutModel",
          "model_module_version": "1.2.0",
          "state": {
            "_model_module": "@jupyter-widgets/base",
            "_model_module_version": "1.2.0",
            "_model_name": "LayoutModel",
            "_view_count": null,
            "_view_module": "@jupyter-widgets/base",
            "_view_module_version": "1.2.0",
            "_view_name": "LayoutView",
            "align_content": null,
            "align_items": null,
            "align_self": null,
            "border": null,
            "bottom": null,
            "display": null,
            "flex": null,
            "flex_flow": null,
            "grid_area": null,
            "grid_auto_columns": null,
            "grid_auto_flow": null,
            "grid_auto_rows": null,
            "grid_column": null,
            "grid_gap": null,
            "grid_row": null,
            "grid_template_areas": null,
            "grid_template_columns": null,
            "grid_template_rows": null,
            "height": null,
            "justify_content": null,
            "justify_items": null,
            "left": null,
            "margin": null,
            "max_height": null,
            "max_width": null,
            "min_height": null,
            "min_width": null,
            "object_fit": null,
            "object_position": null,
            "order": null,
            "overflow": null,
            "overflow_x": null,
            "overflow_y": null,
            "padding": null,
            "right": null,
            "top": null,
            "visibility": null,
            "width": null
          }
        },
        "718d6cd169274e2dad4f1ec2feae9271": {
          "model_module": "@jupyter-widgets/base",
          "model_name": "LayoutModel",
          "model_module_version": "1.2.0",
          "state": {
            "_model_module": "@jupyter-widgets/base",
            "_model_module_version": "1.2.0",
            "_model_name": "LayoutModel",
            "_view_count": null,
            "_view_module": "@jupyter-widgets/base",
            "_view_module_version": "1.2.0",
            "_view_name": "LayoutView",
            "align_content": null,
            "align_items": null,
            "align_self": null,
            "border": null,
            "bottom": null,
            "display": null,
            "flex": null,
            "flex_flow": null,
            "grid_area": null,
            "grid_auto_columns": null,
            "grid_auto_flow": null,
            "grid_auto_rows": null,
            "grid_column": null,
            "grid_gap": null,
            "grid_row": null,
            "grid_template_areas": null,
            "grid_template_columns": null,
            "grid_template_rows": null,
            "height": null,
            "justify_content": null,
            "justify_items": null,
            "left": null,
            "margin": null,
            "max_height": null,
            "max_width": null,
            "min_height": null,
            "min_width": null,
            "object_fit": null,
            "object_position": null,
            "order": null,
            "overflow": null,
            "overflow_x": null,
            "overflow_y": null,
            "padding": null,
            "right": null,
            "top": null,
            "visibility": null,
            "width": null
          }
        },
        "0023d4c3b86548a8b96e7bb59d8daba8": {
          "model_module": "@jupyter-widgets/controls",
          "model_name": "DescriptionStyleModel",
          "model_module_version": "1.5.0",
          "state": {
            "_model_module": "@jupyter-widgets/controls",
            "_model_module_version": "1.5.0",
            "_model_name": "DescriptionStyleModel",
            "_view_count": null,
            "_view_module": "@jupyter-widgets/base",
            "_view_module_version": "1.2.0",
            "_view_name": "StyleView",
            "description_width": ""
          }
        },
        "53be987cd8b5451e99e9fe50378267ff": {
          "model_module": "@jupyter-widgets/base",
          "model_name": "LayoutModel",
          "model_module_version": "1.2.0",
          "state": {
            "_model_module": "@jupyter-widgets/base",
            "_model_module_version": "1.2.0",
            "_model_name": "LayoutModel",
            "_view_count": null,
            "_view_module": "@jupyter-widgets/base",
            "_view_module_version": "1.2.0",
            "_view_name": "LayoutView",
            "align_content": null,
            "align_items": null,
            "align_self": null,
            "border": null,
            "bottom": null,
            "display": null,
            "flex": null,
            "flex_flow": null,
            "grid_area": null,
            "grid_auto_columns": null,
            "grid_auto_flow": null,
            "grid_auto_rows": null,
            "grid_column": null,
            "grid_gap": null,
            "grid_row": null,
            "grid_template_areas": null,
            "grid_template_columns": null,
            "grid_template_rows": null,
            "height": null,
            "justify_content": null,
            "justify_items": null,
            "left": null,
            "margin": null,
            "max_height": null,
            "max_width": null,
            "min_height": null,
            "min_width": null,
            "object_fit": null,
            "object_position": null,
            "order": null,
            "overflow": null,
            "overflow_x": null,
            "overflow_y": null,
            "padding": null,
            "right": null,
            "top": null,
            "visibility": null,
            "width": null
          }
        },
        "be7df394235d4a4aa5d6ef3c523ba524": {
          "model_module": "@jupyter-widgets/controls",
          "model_name": "ProgressStyleModel",
          "model_module_version": "1.5.0",
          "state": {
            "_model_module": "@jupyter-widgets/controls",
            "_model_module_version": "1.5.0",
            "_model_name": "ProgressStyleModel",
            "_view_count": null,
            "_view_module": "@jupyter-widgets/base",
            "_view_module_version": "1.2.0",
            "_view_name": "StyleView",
            "bar_color": null,
            "description_width": ""
          }
        },
        "c9598c4940de443887ea6946a6576488": {
          "model_module": "@jupyter-widgets/base",
          "model_name": "LayoutModel",
          "model_module_version": "1.2.0",
          "state": {
            "_model_module": "@jupyter-widgets/base",
            "_model_module_version": "1.2.0",
            "_model_name": "LayoutModel",
            "_view_count": null,
            "_view_module": "@jupyter-widgets/base",
            "_view_module_version": "1.2.0",
            "_view_name": "LayoutView",
            "align_content": null,
            "align_items": null,
            "align_self": null,
            "border": null,
            "bottom": null,
            "display": null,
            "flex": null,
            "flex_flow": null,
            "grid_area": null,
            "grid_auto_columns": null,
            "grid_auto_flow": null,
            "grid_auto_rows": null,
            "grid_column": null,
            "grid_gap": null,
            "grid_row": null,
            "grid_template_areas": null,
            "grid_template_columns": null,
            "grid_template_rows": null,
            "height": null,
            "justify_content": null,
            "justify_items": null,
            "left": null,
            "margin": null,
            "max_height": null,
            "max_width": null,
            "min_height": null,
            "min_width": null,
            "object_fit": null,
            "object_position": null,
            "order": null,
            "overflow": null,
            "overflow_x": null,
            "overflow_y": null,
            "padding": null,
            "right": null,
            "top": null,
            "visibility": null,
            "width": null
          }
        },
        "43fbb04a8dd0497ea9dc6839ced719a5": {
          "model_module": "@jupyter-widgets/controls",
          "model_name": "DescriptionStyleModel",
          "model_module_version": "1.5.0",
          "state": {
            "_model_module": "@jupyter-widgets/controls",
            "_model_module_version": "1.5.0",
            "_model_name": "DescriptionStyleModel",
            "_view_count": null,
            "_view_module": "@jupyter-widgets/base",
            "_view_module_version": "1.2.0",
            "_view_name": "StyleView",
            "description_width": ""
          }
        },
        "a1efba0e41744770a02eeb2d94de4811": {
          "model_module": "@jupyter-widgets/controls",
          "model_name": "HBoxModel",
          "model_module_version": "1.5.0",
          "state": {
            "_dom_classes": [],
            "_model_module": "@jupyter-widgets/controls",
            "_model_module_version": "1.5.0",
            "_model_name": "HBoxModel",
            "_view_count": null,
            "_view_module": "@jupyter-widgets/controls",
            "_view_module_version": "1.5.0",
            "_view_name": "HBoxView",
            "box_style": "",
            "children": [
              "IPY_MODEL_55211ddd5c5e47fb897c1a0601bdb199",
              "IPY_MODEL_4b90236e404142e6aa0ef22c5503572b",
              "IPY_MODEL_52ffeba7bd124dda83c045a684f002b4"
            ],
            "layout": "IPY_MODEL_5fddb3c7bf1e41479dd1087526c15f00"
          }
        },
        "55211ddd5c5e47fb897c1a0601bdb199": {
          "model_module": "@jupyter-widgets/controls",
          "model_name": "HTMLModel",
          "model_module_version": "1.5.0",
          "state": {
            "_dom_classes": [],
            "_model_module": "@jupyter-widgets/controls",
            "_model_module_version": "1.5.0",
            "_model_name": "HTMLModel",
            "_view_count": null,
            "_view_module": "@jupyter-widgets/controls",
            "_view_module_version": "1.5.0",
            "_view_name": "HTMLView",
            "description": "",
            "description_tooltip": null,
            "layout": "IPY_MODEL_dcfbe62db89b4e3cb8d5036f69011241",
            "placeholder": "​",
            "style": "IPY_MODEL_0b497d823f384cc5a2c175a43ff51ed0",
            "value": "Generating train split: 100%"
          }
        },
        "4b90236e404142e6aa0ef22c5503572b": {
          "model_module": "@jupyter-widgets/controls",
          "model_name": "FloatProgressModel",
          "model_module_version": "1.5.0",
          "state": {
            "_dom_classes": [],
            "_model_module": "@jupyter-widgets/controls",
            "_model_module_version": "1.5.0",
            "_model_name": "FloatProgressModel",
            "_view_count": null,
            "_view_module": "@jupyter-widgets/controls",
            "_view_module_version": "1.5.0",
            "_view_name": "ProgressView",
            "bar_style": "success",
            "description": "",
            "description_tooltip": null,
            "layout": "IPY_MODEL_7d9bab6766934f379ef302eb84c1d6dc",
            "max": 4353,
            "min": 0,
            "orientation": "horizontal",
            "style": "IPY_MODEL_d6e496f99ff14a32916e6f98ff4298b9",
            "value": 4353
          }
        },
        "52ffeba7bd124dda83c045a684f002b4": {
          "model_module": "@jupyter-widgets/controls",
          "model_name": "HTMLModel",
          "model_module_version": "1.5.0",
          "state": {
            "_dom_classes": [],
            "_model_module": "@jupyter-widgets/controls",
            "_model_module_version": "1.5.0",
            "_model_name": "HTMLModel",
            "_view_count": null,
            "_view_module": "@jupyter-widgets/controls",
            "_view_module_version": "1.5.0",
            "_view_name": "HTMLView",
            "description": "",
            "description_tooltip": null,
            "layout": "IPY_MODEL_2e3b57e380794d63a993a059c0d0522d",
            "placeholder": "​",
            "style": "IPY_MODEL_d61f5136632c474ba018569790f700b8",
            "value": " 4353/4353 [00:00&lt;00:00, 12966.09 examples/s]"
          }
        },
        "5fddb3c7bf1e41479dd1087526c15f00": {
          "model_module": "@jupyter-widgets/base",
          "model_name": "LayoutModel",
          "model_module_version": "1.2.0",
          "state": {
            "_model_module": "@jupyter-widgets/base",
            "_model_module_version": "1.2.0",
            "_model_name": "LayoutModel",
            "_view_count": null,
            "_view_module": "@jupyter-widgets/base",
            "_view_module_version": "1.2.0",
            "_view_name": "LayoutView",
            "align_content": null,
            "align_items": null,
            "align_self": null,
            "border": null,
            "bottom": null,
            "display": null,
            "flex": null,
            "flex_flow": null,
            "grid_area": null,
            "grid_auto_columns": null,
            "grid_auto_flow": null,
            "grid_auto_rows": null,
            "grid_column": null,
            "grid_gap": null,
            "grid_row": null,
            "grid_template_areas": null,
            "grid_template_columns": null,
            "grid_template_rows": null,
            "height": null,
            "justify_content": null,
            "justify_items": null,
            "left": null,
            "margin": null,
            "max_height": null,
            "max_width": null,
            "min_height": null,
            "min_width": null,
            "object_fit": null,
            "object_position": null,
            "order": null,
            "overflow": null,
            "overflow_x": null,
            "overflow_y": null,
            "padding": null,
            "right": null,
            "top": null,
            "visibility": null,
            "width": null
          }
        },
        "dcfbe62db89b4e3cb8d5036f69011241": {
          "model_module": "@jupyter-widgets/base",
          "model_name": "LayoutModel",
          "model_module_version": "1.2.0",
          "state": {
            "_model_module": "@jupyter-widgets/base",
            "_model_module_version": "1.2.0",
            "_model_name": "LayoutModel",
            "_view_count": null,
            "_view_module": "@jupyter-widgets/base",
            "_view_module_version": "1.2.0",
            "_view_name": "LayoutView",
            "align_content": null,
            "align_items": null,
            "align_self": null,
            "border": null,
            "bottom": null,
            "display": null,
            "flex": null,
            "flex_flow": null,
            "grid_area": null,
            "grid_auto_columns": null,
            "grid_auto_flow": null,
            "grid_auto_rows": null,
            "grid_column": null,
            "grid_gap": null,
            "grid_row": null,
            "grid_template_areas": null,
            "grid_template_columns": null,
            "grid_template_rows": null,
            "height": null,
            "justify_content": null,
            "justify_items": null,
            "left": null,
            "margin": null,
            "max_height": null,
            "max_width": null,
            "min_height": null,
            "min_width": null,
            "object_fit": null,
            "object_position": null,
            "order": null,
            "overflow": null,
            "overflow_x": null,
            "overflow_y": null,
            "padding": null,
            "right": null,
            "top": null,
            "visibility": null,
            "width": null
          }
        },
        "0b497d823f384cc5a2c175a43ff51ed0": {
          "model_module": "@jupyter-widgets/controls",
          "model_name": "DescriptionStyleModel",
          "model_module_version": "1.5.0",
          "state": {
            "_model_module": "@jupyter-widgets/controls",
            "_model_module_version": "1.5.0",
            "_model_name": "DescriptionStyleModel",
            "_view_count": null,
            "_view_module": "@jupyter-widgets/base",
            "_view_module_version": "1.2.0",
            "_view_name": "StyleView",
            "description_width": ""
          }
        },
        "7d9bab6766934f379ef302eb84c1d6dc": {
          "model_module": "@jupyter-widgets/base",
          "model_name": "LayoutModel",
          "model_module_version": "1.2.0",
          "state": {
            "_model_module": "@jupyter-widgets/base",
            "_model_module_version": "1.2.0",
            "_model_name": "LayoutModel",
            "_view_count": null,
            "_view_module": "@jupyter-widgets/base",
            "_view_module_version": "1.2.0",
            "_view_name": "LayoutView",
            "align_content": null,
            "align_items": null,
            "align_self": null,
            "border": null,
            "bottom": null,
            "display": null,
            "flex": null,
            "flex_flow": null,
            "grid_area": null,
            "grid_auto_columns": null,
            "grid_auto_flow": null,
            "grid_auto_rows": null,
            "grid_column": null,
            "grid_gap": null,
            "grid_row": null,
            "grid_template_areas": null,
            "grid_template_columns": null,
            "grid_template_rows": null,
            "height": null,
            "justify_content": null,
            "justify_items": null,
            "left": null,
            "margin": null,
            "max_height": null,
            "max_width": null,
            "min_height": null,
            "min_width": null,
            "object_fit": null,
            "object_position": null,
            "order": null,
            "overflow": null,
            "overflow_x": null,
            "overflow_y": null,
            "padding": null,
            "right": null,
            "top": null,
            "visibility": null,
            "width": null
          }
        },
        "d6e496f99ff14a32916e6f98ff4298b9": {
          "model_module": "@jupyter-widgets/controls",
          "model_name": "ProgressStyleModel",
          "model_module_version": "1.5.0",
          "state": {
            "_model_module": "@jupyter-widgets/controls",
            "_model_module_version": "1.5.0",
            "_model_name": "ProgressStyleModel",
            "_view_count": null,
            "_view_module": "@jupyter-widgets/base",
            "_view_module_version": "1.2.0",
            "_view_name": "StyleView",
            "bar_color": null,
            "description_width": ""
          }
        },
        "2e3b57e380794d63a993a059c0d0522d": {
          "model_module": "@jupyter-widgets/base",
          "model_name": "LayoutModel",
          "model_module_version": "1.2.0",
          "state": {
            "_model_module": "@jupyter-widgets/base",
            "_model_module_version": "1.2.0",
            "_model_name": "LayoutModel",
            "_view_count": null,
            "_view_module": "@jupyter-widgets/base",
            "_view_module_version": "1.2.0",
            "_view_name": "LayoutView",
            "align_content": null,
            "align_items": null,
            "align_self": null,
            "border": null,
            "bottom": null,
            "display": null,
            "flex": null,
            "flex_flow": null,
            "grid_area": null,
            "grid_auto_columns": null,
            "grid_auto_flow": null,
            "grid_auto_rows": null,
            "grid_column": null,
            "grid_gap": null,
            "grid_row": null,
            "grid_template_areas": null,
            "grid_template_columns": null,
            "grid_template_rows": null,
            "height": null,
            "justify_content": null,
            "justify_items": null,
            "left": null,
            "margin": null,
            "max_height": null,
            "max_width": null,
            "min_height": null,
            "min_width": null,
            "object_fit": null,
            "object_position": null,
            "order": null,
            "overflow": null,
            "overflow_x": null,
            "overflow_y": null,
            "padding": null,
            "right": null,
            "top": null,
            "visibility": null,
            "width": null
          }
        },
        "d61f5136632c474ba018569790f700b8": {
          "model_module": "@jupyter-widgets/controls",
          "model_name": "DescriptionStyleModel",
          "model_module_version": "1.5.0",
          "state": {
            "_model_module": "@jupyter-widgets/controls",
            "_model_module_version": "1.5.0",
            "_model_name": "DescriptionStyleModel",
            "_view_count": null,
            "_view_module": "@jupyter-widgets/base",
            "_view_module_version": "1.2.0",
            "_view_name": "StyleView",
            "description_width": ""
          }
        },
        "9d33126ff31f4005bc9a896835ef3a80": {
          "model_module": "@jupyter-widgets/controls",
          "model_name": "HBoxModel",
          "model_module_version": "1.5.0",
          "state": {
            "_dom_classes": [],
            "_model_module": "@jupyter-widgets/controls",
            "_model_module_version": "1.5.0",
            "_model_name": "HBoxModel",
            "_view_count": null,
            "_view_module": "@jupyter-widgets/controls",
            "_view_module_version": "1.5.0",
            "_view_name": "HBoxView",
            "box_style": "",
            "children": [
              "IPY_MODEL_6d3a6bc1c72e4212bc6b4b14bcc53801",
              "IPY_MODEL_f18f5725a3cc4d2eb76f9ade40a401b1",
              "IPY_MODEL_9a243f52aac24e68b934ab4a3554867e"
            ],
            "layout": "IPY_MODEL_9ab0603a8e7f4c80a3c1ca1164015cf1"
          }
        },
        "6d3a6bc1c72e4212bc6b4b14bcc53801": {
          "model_module": "@jupyter-widgets/controls",
          "model_name": "HTMLModel",
          "model_module_version": "1.5.0",
          "state": {
            "_dom_classes": [],
            "_model_module": "@jupyter-widgets/controls",
            "_model_module_version": "1.5.0",
            "_model_name": "HTMLModel",
            "_view_count": null,
            "_view_module": "@jupyter-widgets/controls",
            "_view_module_version": "1.5.0",
            "_view_name": "HTMLView",
            "description": "",
            "description_tooltip": null,
            "layout": "IPY_MODEL_5fe5502619d940f3aae7622da6be64bb",
            "placeholder": "​",
            "style": "IPY_MODEL_ab9270c475d147dba7598db37e8511f6",
            "value": "Generating dev split: 100%"
          }
        },
        "f18f5725a3cc4d2eb76f9ade40a401b1": {
          "model_module": "@jupyter-widgets/controls",
          "model_name": "FloatProgressModel",
          "model_module_version": "1.5.0",
          "state": {
            "_dom_classes": [],
            "_model_module": "@jupyter-widgets/controls",
            "_model_module_version": "1.5.0",
            "_model_name": "FloatProgressModel",
            "_view_count": null,
            "_view_module": "@jupyter-widgets/controls",
            "_view_module_version": "1.5.0",
            "_view_name": "ProgressView",
            "bar_style": "success",
            "description": "",
            "description_tooltip": null,
            "layout": "IPY_MODEL_d7c47d4b5be34985a3520cf45f159068",
            "max": 948,
            "min": 0,
            "orientation": "horizontal",
            "style": "IPY_MODEL_9b8780fa33694ba5baf363102ebb5942",
            "value": 948
          }
        },
        "9a243f52aac24e68b934ab4a3554867e": {
          "model_module": "@jupyter-widgets/controls",
          "model_name": "HTMLModel",
          "model_module_version": "1.5.0",
          "state": {
            "_dom_classes": [],
            "_model_module": "@jupyter-widgets/controls",
            "_model_module_version": "1.5.0",
            "_model_name": "HTMLModel",
            "_view_count": null,
            "_view_module": "@jupyter-widgets/controls",
            "_view_module_version": "1.5.0",
            "_view_name": "HTMLView",
            "description": "",
            "description_tooltip": null,
            "layout": "IPY_MODEL_863733542ff54d87821a7018a67f5c64",
            "placeholder": "​",
            "style": "IPY_MODEL_a8b6dbb376ca41c5b83283fede919e9c",
            "value": " 948/948 [00:00&lt;00:00, 15488.41 examples/s]"
          }
        },
        "9ab0603a8e7f4c80a3c1ca1164015cf1": {
          "model_module": "@jupyter-widgets/base",
          "model_name": "LayoutModel",
          "model_module_version": "1.2.0",
          "state": {
            "_model_module": "@jupyter-widgets/base",
            "_model_module_version": "1.2.0",
            "_model_name": "LayoutModel",
            "_view_count": null,
            "_view_module": "@jupyter-widgets/base",
            "_view_module_version": "1.2.0",
            "_view_name": "LayoutView",
            "align_content": null,
            "align_items": null,
            "align_self": null,
            "border": null,
            "bottom": null,
            "display": null,
            "flex": null,
            "flex_flow": null,
            "grid_area": null,
            "grid_auto_columns": null,
            "grid_auto_flow": null,
            "grid_auto_rows": null,
            "grid_column": null,
            "grid_gap": null,
            "grid_row": null,
            "grid_template_areas": null,
            "grid_template_columns": null,
            "grid_template_rows": null,
            "height": null,
            "justify_content": null,
            "justify_items": null,
            "left": null,
            "margin": null,
            "max_height": null,
            "max_width": null,
            "min_height": null,
            "min_width": null,
            "object_fit": null,
            "object_position": null,
            "order": null,
            "overflow": null,
            "overflow_x": null,
            "overflow_y": null,
            "padding": null,
            "right": null,
            "top": null,
            "visibility": null,
            "width": null
          }
        },
        "5fe5502619d940f3aae7622da6be64bb": {
          "model_module": "@jupyter-widgets/base",
          "model_name": "LayoutModel",
          "model_module_version": "1.2.0",
          "state": {
            "_model_module": "@jupyter-widgets/base",
            "_model_module_version": "1.2.0",
            "_model_name": "LayoutModel",
            "_view_count": null,
            "_view_module": "@jupyter-widgets/base",
            "_view_module_version": "1.2.0",
            "_view_name": "LayoutView",
            "align_content": null,
            "align_items": null,
            "align_self": null,
            "border": null,
            "bottom": null,
            "display": null,
            "flex": null,
            "flex_flow": null,
            "grid_area": null,
            "grid_auto_columns": null,
            "grid_auto_flow": null,
            "grid_auto_rows": null,
            "grid_column": null,
            "grid_gap": null,
            "grid_row": null,
            "grid_template_areas": null,
            "grid_template_columns": null,
            "grid_template_rows": null,
            "height": null,
            "justify_content": null,
            "justify_items": null,
            "left": null,
            "margin": null,
            "max_height": null,
            "max_width": null,
            "min_height": null,
            "min_width": null,
            "object_fit": null,
            "object_position": null,
            "order": null,
            "overflow": null,
            "overflow_x": null,
            "overflow_y": null,
            "padding": null,
            "right": null,
            "top": null,
            "visibility": null,
            "width": null
          }
        },
        "ab9270c475d147dba7598db37e8511f6": {
          "model_module": "@jupyter-widgets/controls",
          "model_name": "DescriptionStyleModel",
          "model_module_version": "1.5.0",
          "state": {
            "_model_module": "@jupyter-widgets/controls",
            "_model_module_version": "1.5.0",
            "_model_name": "DescriptionStyleModel",
            "_view_count": null,
            "_view_module": "@jupyter-widgets/base",
            "_view_module_version": "1.2.0",
            "_view_name": "StyleView",
            "description_width": ""
          }
        },
        "d7c47d4b5be34985a3520cf45f159068": {
          "model_module": "@jupyter-widgets/base",
          "model_name": "LayoutModel",
          "model_module_version": "1.2.0",
          "state": {
            "_model_module": "@jupyter-widgets/base",
            "_model_module_version": "1.2.0",
            "_model_name": "LayoutModel",
            "_view_count": null,
            "_view_module": "@jupyter-widgets/base",
            "_view_module_version": "1.2.0",
            "_view_name": "LayoutView",
            "align_content": null,
            "align_items": null,
            "align_self": null,
            "border": null,
            "bottom": null,
            "display": null,
            "flex": null,
            "flex_flow": null,
            "grid_area": null,
            "grid_auto_columns": null,
            "grid_auto_flow": null,
            "grid_auto_rows": null,
            "grid_column": null,
            "grid_gap": null,
            "grid_row": null,
            "grid_template_areas": null,
            "grid_template_columns": null,
            "grid_template_rows": null,
            "height": null,
            "justify_content": null,
            "justify_items": null,
            "left": null,
            "margin": null,
            "max_height": null,
            "max_width": null,
            "min_height": null,
            "min_width": null,
            "object_fit": null,
            "object_position": null,
            "order": null,
            "overflow": null,
            "overflow_x": null,
            "overflow_y": null,
            "padding": null,
            "right": null,
            "top": null,
            "visibility": null,
            "width": null
          }
        },
        "9b8780fa33694ba5baf363102ebb5942": {
          "model_module": "@jupyter-widgets/controls",
          "model_name": "ProgressStyleModel",
          "model_module_version": "1.5.0",
          "state": {
            "_model_module": "@jupyter-widgets/controls",
            "_model_module_version": "1.5.0",
            "_model_name": "ProgressStyleModel",
            "_view_count": null,
            "_view_module": "@jupyter-widgets/base",
            "_view_module_version": "1.2.0",
            "_view_name": "StyleView",
            "bar_color": null,
            "description_width": ""
          }
        },
        "863733542ff54d87821a7018a67f5c64": {
          "model_module": "@jupyter-widgets/base",
          "model_name": "LayoutModel",
          "model_module_version": "1.2.0",
          "state": {
            "_model_module": "@jupyter-widgets/base",
            "_model_module_version": "1.2.0",
            "_model_name": "LayoutModel",
            "_view_count": null,
            "_view_module": "@jupyter-widgets/base",
            "_view_module_version": "1.2.0",
            "_view_name": "LayoutView",
            "align_content": null,
            "align_items": null,
            "align_self": null,
            "border": null,
            "bottom": null,
            "display": null,
            "flex": null,
            "flex_flow": null,
            "grid_area": null,
            "grid_auto_columns": null,
            "grid_auto_flow": null,
            "grid_auto_rows": null,
            "grid_column": null,
            "grid_gap": null,
            "grid_row": null,
            "grid_template_areas": null,
            "grid_template_columns": null,
            "grid_template_rows": null,
            "height": null,
            "justify_content": null,
            "justify_items": null,
            "left": null,
            "margin": null,
            "max_height": null,
            "max_width": null,
            "min_height": null,
            "min_width": null,
            "object_fit": null,
            "object_position": null,
            "order": null,
            "overflow": null,
            "overflow_x": null,
            "overflow_y": null,
            "padding": null,
            "right": null,
            "top": null,
            "visibility": null,
            "width": null
          }
        },
        "a8b6dbb376ca41c5b83283fede919e9c": {
          "model_module": "@jupyter-widgets/controls",
          "model_name": "DescriptionStyleModel",
          "model_module_version": "1.5.0",
          "state": {
            "_model_module": "@jupyter-widgets/controls",
            "_model_module_version": "1.5.0",
            "_model_name": "DescriptionStyleModel",
            "_view_count": null,
            "_view_module": "@jupyter-widgets/base",
            "_view_module_version": "1.2.0",
            "_view_name": "StyleView",
            "description_width": ""
          }
        },
        "a67ac9c09da3436c94ae98f8b1c18249": {
          "model_module": "@jupyter-widgets/controls",
          "model_name": "HBoxModel",
          "model_module_version": "1.5.0",
          "state": {
            "_dom_classes": [],
            "_model_module": "@jupyter-widgets/controls",
            "_model_module_version": "1.5.0",
            "_model_name": "HBoxModel",
            "_view_count": null,
            "_view_module": "@jupyter-widgets/controls",
            "_view_module_version": "1.5.0",
            "_view_name": "HBoxView",
            "box_style": "",
            "children": [
              "IPY_MODEL_8eba9f6b5d634b5e8130a57593aeee47",
              "IPY_MODEL_ce757eae06914b3a909e872d9196d75b",
              "IPY_MODEL_672c659e7ec64262a3ce75839a939462"
            ],
            "layout": "IPY_MODEL_4cccc78aa9ac4149b44bbe22288f1b3c"
          }
        },
        "8eba9f6b5d634b5e8130a57593aeee47": {
          "model_module": "@jupyter-widgets/controls",
          "model_name": "HTMLModel",
          "model_module_version": "1.5.0",
          "state": {
            "_dom_classes": [],
            "_model_module": "@jupyter-widgets/controls",
            "_model_module_version": "1.5.0",
            "_model_name": "HTMLModel",
            "_view_count": null,
            "_view_module": "@jupyter-widgets/controls",
            "_view_module_version": "1.5.0",
            "_view_name": "HTMLView",
            "description": "",
            "description_tooltip": null,
            "layout": "IPY_MODEL_534d3eadcf8b4c24a0b07070d1a5cf98",
            "placeholder": "​",
            "style": "IPY_MODEL_847649d3eb0742409912c9e58bf7d118",
            "value": "tokenizer_config.json: 100%"
          }
        },
        "ce757eae06914b3a909e872d9196d75b": {
          "model_module": "@jupyter-widgets/controls",
          "model_name": "FloatProgressModel",
          "model_module_version": "1.5.0",
          "state": {
            "_dom_classes": [],
            "_model_module": "@jupyter-widgets/controls",
            "_model_module_version": "1.5.0",
            "_model_name": "FloatProgressModel",
            "_view_count": null,
            "_view_module": "@jupyter-widgets/controls",
            "_view_module_version": "1.5.0",
            "_view_name": "ProgressView",
            "bar_style": "success",
            "description": "",
            "description_tooltip": null,
            "layout": "IPY_MODEL_a19e0c0615514ef3b348b870a78762fb",
            "max": 3441,
            "min": 0,
            "orientation": "horizontal",
            "style": "IPY_MODEL_04a5b49423f2406fa0eaf42b389c098e",
            "value": 3441
          }
        },
        "672c659e7ec64262a3ce75839a939462": {
          "model_module": "@jupyter-widgets/controls",
          "model_name": "HTMLModel",
          "model_module_version": "1.5.0",
          "state": {
            "_dom_classes": [],
            "_model_module": "@jupyter-widgets/controls",
            "_model_module_version": "1.5.0",
            "_model_name": "HTMLModel",
            "_view_count": null,
            "_view_module": "@jupyter-widgets/controls",
            "_view_module_version": "1.5.0",
            "_view_name": "HTMLView",
            "description": "",
            "description_tooltip": null,
            "layout": "IPY_MODEL_08c08fd920ea4b2ea872d029133cfe0d",
            "placeholder": "​",
            "style": "IPY_MODEL_76563332397e4fff958eee57812fbaf6",
            "value": " 3.44k/3.44k [00:00&lt;00:00, 92.5kB/s]"
          }
        },
        "4cccc78aa9ac4149b44bbe22288f1b3c": {
          "model_module": "@jupyter-widgets/base",
          "model_name": "LayoutModel",
          "model_module_version": "1.2.0",
          "state": {
            "_model_module": "@jupyter-widgets/base",
            "_model_module_version": "1.2.0",
            "_model_name": "LayoutModel",
            "_view_count": null,
            "_view_module": "@jupyter-widgets/base",
            "_view_module_version": "1.2.0",
            "_view_name": "LayoutView",
            "align_content": null,
            "align_items": null,
            "align_self": null,
            "border": null,
            "bottom": null,
            "display": null,
            "flex": null,
            "flex_flow": null,
            "grid_area": null,
            "grid_auto_columns": null,
            "grid_auto_flow": null,
            "grid_auto_rows": null,
            "grid_column": null,
            "grid_gap": null,
            "grid_row": null,
            "grid_template_areas": null,
            "grid_template_columns": null,
            "grid_template_rows": null,
            "height": null,
            "justify_content": null,
            "justify_items": null,
            "left": null,
            "margin": null,
            "max_height": null,
            "max_width": null,
            "min_height": null,
            "min_width": null,
            "object_fit": null,
            "object_position": null,
            "order": null,
            "overflow": null,
            "overflow_x": null,
            "overflow_y": null,
            "padding": null,
            "right": null,
            "top": null,
            "visibility": null,
            "width": null
          }
        },
        "534d3eadcf8b4c24a0b07070d1a5cf98": {
          "model_module": "@jupyter-widgets/base",
          "model_name": "LayoutModel",
          "model_module_version": "1.2.0",
          "state": {
            "_model_module": "@jupyter-widgets/base",
            "_model_module_version": "1.2.0",
            "_model_name": "LayoutModel",
            "_view_count": null,
            "_view_module": "@jupyter-widgets/base",
            "_view_module_version": "1.2.0",
            "_view_name": "LayoutView",
            "align_content": null,
            "align_items": null,
            "align_self": null,
            "border": null,
            "bottom": null,
            "display": null,
            "flex": null,
            "flex_flow": null,
            "grid_area": null,
            "grid_auto_columns": null,
            "grid_auto_flow": null,
            "grid_auto_rows": null,
            "grid_column": null,
            "grid_gap": null,
            "grid_row": null,
            "grid_template_areas": null,
            "grid_template_columns": null,
            "grid_template_rows": null,
            "height": null,
            "justify_content": null,
            "justify_items": null,
            "left": null,
            "margin": null,
            "max_height": null,
            "max_width": null,
            "min_height": null,
            "min_width": null,
            "object_fit": null,
            "object_position": null,
            "order": null,
            "overflow": null,
            "overflow_x": null,
            "overflow_y": null,
            "padding": null,
            "right": null,
            "top": null,
            "visibility": null,
            "width": null
          }
        },
        "847649d3eb0742409912c9e58bf7d118": {
          "model_module": "@jupyter-widgets/controls",
          "model_name": "DescriptionStyleModel",
          "model_module_version": "1.5.0",
          "state": {
            "_model_module": "@jupyter-widgets/controls",
            "_model_module_version": "1.5.0",
            "_model_name": "DescriptionStyleModel",
            "_view_count": null,
            "_view_module": "@jupyter-widgets/base",
            "_view_module_version": "1.2.0",
            "_view_name": "StyleView",
            "description_width": ""
          }
        },
        "a19e0c0615514ef3b348b870a78762fb": {
          "model_module": "@jupyter-widgets/base",
          "model_name": "LayoutModel",
          "model_module_version": "1.2.0",
          "state": {
            "_model_module": "@jupyter-widgets/base",
            "_model_module_version": "1.2.0",
            "_model_name": "LayoutModel",
            "_view_count": null,
            "_view_module": "@jupyter-widgets/base",
            "_view_module_version": "1.2.0",
            "_view_name": "LayoutView",
            "align_content": null,
            "align_items": null,
            "align_self": null,
            "border": null,
            "bottom": null,
            "display": null,
            "flex": null,
            "flex_flow": null,
            "grid_area": null,
            "grid_auto_columns": null,
            "grid_auto_flow": null,
            "grid_auto_rows": null,
            "grid_column": null,
            "grid_gap": null,
            "grid_row": null,
            "grid_template_areas": null,
            "grid_template_columns": null,
            "grid_template_rows": null,
            "height": null,
            "justify_content": null,
            "justify_items": null,
            "left": null,
            "margin": null,
            "max_height": null,
            "max_width": null,
            "min_height": null,
            "min_width": null,
            "object_fit": null,
            "object_position": null,
            "order": null,
            "overflow": null,
            "overflow_x": null,
            "overflow_y": null,
            "padding": null,
            "right": null,
            "top": null,
            "visibility": null,
            "width": null
          }
        },
        "04a5b49423f2406fa0eaf42b389c098e": {
          "model_module": "@jupyter-widgets/controls",
          "model_name": "ProgressStyleModel",
          "model_module_version": "1.5.0",
          "state": {
            "_model_module": "@jupyter-widgets/controls",
            "_model_module_version": "1.5.0",
            "_model_name": "ProgressStyleModel",
            "_view_count": null,
            "_view_module": "@jupyter-widgets/base",
            "_view_module_version": "1.2.0",
            "_view_name": "StyleView",
            "bar_color": null,
            "description_width": ""
          }
        },
        "08c08fd920ea4b2ea872d029133cfe0d": {
          "model_module": "@jupyter-widgets/base",
          "model_name": "LayoutModel",
          "model_module_version": "1.2.0",
          "state": {
            "_model_module": "@jupyter-widgets/base",
            "_model_module_version": "1.2.0",
            "_model_name": "LayoutModel",
            "_view_count": null,
            "_view_module": "@jupyter-widgets/base",
            "_view_module_version": "1.2.0",
            "_view_name": "LayoutView",
            "align_content": null,
            "align_items": null,
            "align_self": null,
            "border": null,
            "bottom": null,
            "display": null,
            "flex": null,
            "flex_flow": null,
            "grid_area": null,
            "grid_auto_columns": null,
            "grid_auto_flow": null,
            "grid_auto_rows": null,
            "grid_column": null,
            "grid_gap": null,
            "grid_row": null,
            "grid_template_areas": null,
            "grid_template_columns": null,
            "grid_template_rows": null,
            "height": null,
            "justify_content": null,
            "justify_items": null,
            "left": null,
            "margin": null,
            "max_height": null,
            "max_width": null,
            "min_height": null,
            "min_width": null,
            "object_fit": null,
            "object_position": null,
            "order": null,
            "overflow": null,
            "overflow_x": null,
            "overflow_y": null,
            "padding": null,
            "right": null,
            "top": null,
            "visibility": null,
            "width": null
          }
        },
        "76563332397e4fff958eee57812fbaf6": {
          "model_module": "@jupyter-widgets/controls",
          "model_name": "DescriptionStyleModel",
          "model_module_version": "1.5.0",
          "state": {
            "_model_module": "@jupyter-widgets/controls",
            "_model_module_version": "1.5.0",
            "_model_name": "DescriptionStyleModel",
            "_view_count": null,
            "_view_module": "@jupyter-widgets/base",
            "_view_module_version": "1.2.0",
            "_view_name": "StyleView",
            "description_width": ""
          }
        },
        "a6dab4aed2314e6c89eec96cbda9ad66": {
          "model_module": "@jupyter-widgets/controls",
          "model_name": "HBoxModel",
          "model_module_version": "1.5.0",
          "state": {
            "_dom_classes": [],
            "_model_module": "@jupyter-widgets/controls",
            "_model_module_version": "1.5.0",
            "_model_name": "HBoxModel",
            "_view_count": null,
            "_view_module": "@jupyter-widgets/controls",
            "_view_module_version": "1.5.0",
            "_view_name": "HBoxView",
            "box_style": "",
            "children": [
              "IPY_MODEL_aa48e3b8ac0c4d63ba1c91a5fe350dcd",
              "IPY_MODEL_a23cf3b933ec447fbb211b2d5da1805c",
              "IPY_MODEL_baa82f25f5064528835ff52cc6f68f56"
            ],
            "layout": "IPY_MODEL_eccfd11a7b3d4319886e0a067b425c59"
          }
        },
        "aa48e3b8ac0c4d63ba1c91a5fe350dcd": {
          "model_module": "@jupyter-widgets/controls",
          "model_name": "HTMLModel",
          "model_module_version": "1.5.0",
          "state": {
            "_dom_classes": [],
            "_model_module": "@jupyter-widgets/controls",
            "_model_module_version": "1.5.0",
            "_model_name": "HTMLModel",
            "_view_count": null,
            "_view_module": "@jupyter-widgets/controls",
            "_view_module_version": "1.5.0",
            "_view_name": "HTMLView",
            "description": "",
            "description_tooltip": null,
            "layout": "IPY_MODEL_aa1671c08f054a9bb26030144349ccfd",
            "placeholder": "​",
            "style": "IPY_MODEL_74126e2ffa724df9be8a894ab59ae253",
            "value": "tokenizer.model: 100%"
          }
        },
        "a23cf3b933ec447fbb211b2d5da1805c": {
          "model_module": "@jupyter-widgets/controls",
          "model_name": "FloatProgressModel",
          "model_module_version": "1.5.0",
          "state": {
            "_dom_classes": [],
            "_model_module": "@jupyter-widgets/controls",
            "_model_module_version": "1.5.0",
            "_model_name": "FloatProgressModel",
            "_view_count": null,
            "_view_module": "@jupyter-widgets/controls",
            "_view_module_version": "1.5.0",
            "_view_name": "ProgressView",
            "bar_style": "success",
            "description": "",
            "description_tooltip": null,
            "layout": "IPY_MODEL_14f4e7a36659480c93c5c381e8a0091e",
            "max": 499723,
            "min": 0,
            "orientation": "horizontal",
            "style": "IPY_MODEL_ce94c78c949f4ddf912ea1f96eddc560",
            "value": 499723
          }
        },
        "baa82f25f5064528835ff52cc6f68f56": {
          "model_module": "@jupyter-widgets/controls",
          "model_name": "HTMLModel",
          "model_module_version": "1.5.0",
          "state": {
            "_dom_classes": [],
            "_model_module": "@jupyter-widgets/controls",
            "_model_module_version": "1.5.0",
            "_model_name": "HTMLModel",
            "_view_count": null,
            "_view_module": "@jupyter-widgets/controls",
            "_view_module_version": "1.5.0",
            "_view_name": "HTMLView",
            "description": "",
            "description_tooltip": null,
            "layout": "IPY_MODEL_26c417941de947f38e1dda9122676bd1",
            "placeholder": "​",
            "style": "IPY_MODEL_7f502358725343a7b034bdc30ccc1eda",
            "value": " 500k/500k [00:00&lt;00:00, 3.41MB/s]"
          }
        },
        "eccfd11a7b3d4319886e0a067b425c59": {
          "model_module": "@jupyter-widgets/base",
          "model_name": "LayoutModel",
          "model_module_version": "1.2.0",
          "state": {
            "_model_module": "@jupyter-widgets/base",
            "_model_module_version": "1.2.0",
            "_model_name": "LayoutModel",
            "_view_count": null,
            "_view_module": "@jupyter-widgets/base",
            "_view_module_version": "1.2.0",
            "_view_name": "LayoutView",
            "align_content": null,
            "align_items": null,
            "align_self": null,
            "border": null,
            "bottom": null,
            "display": null,
            "flex": null,
            "flex_flow": null,
            "grid_area": null,
            "grid_auto_columns": null,
            "grid_auto_flow": null,
            "grid_auto_rows": null,
            "grid_column": null,
            "grid_gap": null,
            "grid_row": null,
            "grid_template_areas": null,
            "grid_template_columns": null,
            "grid_template_rows": null,
            "height": null,
            "justify_content": null,
            "justify_items": null,
            "left": null,
            "margin": null,
            "max_height": null,
            "max_width": null,
            "min_height": null,
            "min_width": null,
            "object_fit": null,
            "object_position": null,
            "order": null,
            "overflow": null,
            "overflow_x": null,
            "overflow_y": null,
            "padding": null,
            "right": null,
            "top": null,
            "visibility": null,
            "width": null
          }
        },
        "aa1671c08f054a9bb26030144349ccfd": {
          "model_module": "@jupyter-widgets/base",
          "model_name": "LayoutModel",
          "model_module_version": "1.2.0",
          "state": {
            "_model_module": "@jupyter-widgets/base",
            "_model_module_version": "1.2.0",
            "_model_name": "LayoutModel",
            "_view_count": null,
            "_view_module": "@jupyter-widgets/base",
            "_view_module_version": "1.2.0",
            "_view_name": "LayoutView",
            "align_content": null,
            "align_items": null,
            "align_self": null,
            "border": null,
            "bottom": null,
            "display": null,
            "flex": null,
            "flex_flow": null,
            "grid_area": null,
            "grid_auto_columns": null,
            "grid_auto_flow": null,
            "grid_auto_rows": null,
            "grid_column": null,
            "grid_gap": null,
            "grid_row": null,
            "grid_template_areas": null,
            "grid_template_columns": null,
            "grid_template_rows": null,
            "height": null,
            "justify_content": null,
            "justify_items": null,
            "left": null,
            "margin": null,
            "max_height": null,
            "max_width": null,
            "min_height": null,
            "min_width": null,
            "object_fit": null,
            "object_position": null,
            "order": null,
            "overflow": null,
            "overflow_x": null,
            "overflow_y": null,
            "padding": null,
            "right": null,
            "top": null,
            "visibility": null,
            "width": null
          }
        },
        "74126e2ffa724df9be8a894ab59ae253": {
          "model_module": "@jupyter-widgets/controls",
          "model_name": "DescriptionStyleModel",
          "model_module_version": "1.5.0",
          "state": {
            "_model_module": "@jupyter-widgets/controls",
            "_model_module_version": "1.5.0",
            "_model_name": "DescriptionStyleModel",
            "_view_count": null,
            "_view_module": "@jupyter-widgets/base",
            "_view_module_version": "1.2.0",
            "_view_name": "StyleView",
            "description_width": ""
          }
        },
        "14f4e7a36659480c93c5c381e8a0091e": {
          "model_module": "@jupyter-widgets/base",
          "model_name": "LayoutModel",
          "model_module_version": "1.2.0",
          "state": {
            "_model_module": "@jupyter-widgets/base",
            "_model_module_version": "1.2.0",
            "_model_name": "LayoutModel",
            "_view_count": null,
            "_view_module": "@jupyter-widgets/base",
            "_view_module_version": "1.2.0",
            "_view_name": "LayoutView",
            "align_content": null,
            "align_items": null,
            "align_self": null,
            "border": null,
            "bottom": null,
            "display": null,
            "flex": null,
            "flex_flow": null,
            "grid_area": null,
            "grid_auto_columns": null,
            "grid_auto_flow": null,
            "grid_auto_rows": null,
            "grid_column": null,
            "grid_gap": null,
            "grid_row": null,
            "grid_template_areas": null,
            "grid_template_columns": null,
            "grid_template_rows": null,
            "height": null,
            "justify_content": null,
            "justify_items": null,
            "left": null,
            "margin": null,
            "max_height": null,
            "max_width": null,
            "min_height": null,
            "min_width": null,
            "object_fit": null,
            "object_position": null,
            "order": null,
            "overflow": null,
            "overflow_x": null,
            "overflow_y": null,
            "padding": null,
            "right": null,
            "top": null,
            "visibility": null,
            "width": null
          }
        },
        "ce94c78c949f4ddf912ea1f96eddc560": {
          "model_module": "@jupyter-widgets/controls",
          "model_name": "ProgressStyleModel",
          "model_module_version": "1.5.0",
          "state": {
            "_model_module": "@jupyter-widgets/controls",
            "_model_module_version": "1.5.0",
            "_model_name": "ProgressStyleModel",
            "_view_count": null,
            "_view_module": "@jupyter-widgets/base",
            "_view_module_version": "1.2.0",
            "_view_name": "StyleView",
            "bar_color": null,
            "description_width": ""
          }
        },
        "26c417941de947f38e1dda9122676bd1": {
          "model_module": "@jupyter-widgets/base",
          "model_name": "LayoutModel",
          "model_module_version": "1.2.0",
          "state": {
            "_model_module": "@jupyter-widgets/base",
            "_model_module_version": "1.2.0",
            "_model_name": "LayoutModel",
            "_view_count": null,
            "_view_module": "@jupyter-widgets/base",
            "_view_module_version": "1.2.0",
            "_view_name": "LayoutView",
            "align_content": null,
            "align_items": null,
            "align_self": null,
            "border": null,
            "bottom": null,
            "display": null,
            "flex": null,
            "flex_flow": null,
            "grid_area": null,
            "grid_auto_columns": null,
            "grid_auto_flow": null,
            "grid_auto_rows": null,
            "grid_column": null,
            "grid_gap": null,
            "grid_row": null,
            "grid_template_areas": null,
            "grid_template_columns": null,
            "grid_template_rows": null,
            "height": null,
            "justify_content": null,
            "justify_items": null,
            "left": null,
            "margin": null,
            "max_height": null,
            "max_width": null,
            "min_height": null,
            "min_width": null,
            "object_fit": null,
            "object_position": null,
            "order": null,
            "overflow": null,
            "overflow_x": null,
            "overflow_y": null,
            "padding": null,
            "right": null,
            "top": null,
            "visibility": null,
            "width": null
          }
        },
        "7f502358725343a7b034bdc30ccc1eda": {
          "model_module": "@jupyter-widgets/controls",
          "model_name": "DescriptionStyleModel",
          "model_module_version": "1.5.0",
          "state": {
            "_model_module": "@jupyter-widgets/controls",
            "_model_module_version": "1.5.0",
            "_model_name": "DescriptionStyleModel",
            "_view_count": null,
            "_view_module": "@jupyter-widgets/base",
            "_view_module_version": "1.2.0",
            "_view_name": "StyleView",
            "description_width": ""
          }
        },
        "5308c4cb22a541e6bc782a0cf9c913fb": {
          "model_module": "@jupyter-widgets/controls",
          "model_name": "HBoxModel",
          "model_module_version": "1.5.0",
          "state": {
            "_dom_classes": [],
            "_model_module": "@jupyter-widgets/controls",
            "_model_module_version": "1.5.0",
            "_model_name": "HBoxModel",
            "_view_count": null,
            "_view_module": "@jupyter-widgets/controls",
            "_view_module_version": "1.5.0",
            "_view_name": "HBoxView",
            "box_style": "",
            "children": [
              "IPY_MODEL_5452af875e2a41f99aa8531642d6cad9",
              "IPY_MODEL_8f79408e0ecc4349906d28d6fb426f2f",
              "IPY_MODEL_4adcd594cdf94c85b8bec1d874bc274d"
            ],
            "layout": "IPY_MODEL_3615fa76216e4d62af8ce20ec0089bdf"
          }
        },
        "5452af875e2a41f99aa8531642d6cad9": {
          "model_module": "@jupyter-widgets/controls",
          "model_name": "HTMLModel",
          "model_module_version": "1.5.0",
          "state": {
            "_dom_classes": [],
            "_model_module": "@jupyter-widgets/controls",
            "_model_module_version": "1.5.0",
            "_model_name": "HTMLModel",
            "_view_count": null,
            "_view_module": "@jupyter-widgets/controls",
            "_view_module_version": "1.5.0",
            "_view_name": "HTMLView",
            "description": "",
            "description_tooltip": null,
            "layout": "IPY_MODEL_9049f4744689437faaf02edda0dae88b",
            "placeholder": "​",
            "style": "IPY_MODEL_eafbd7f604284a73a25caba8756e5ba9",
            "value": "tokenizer.json: 100%"
          }
        },
        "8f79408e0ecc4349906d28d6fb426f2f": {
          "model_module": "@jupyter-widgets/controls",
          "model_name": "FloatProgressModel",
          "model_module_version": "1.5.0",
          "state": {
            "_dom_classes": [],
            "_model_module": "@jupyter-widgets/controls",
            "_model_module_version": "1.5.0",
            "_model_name": "FloatProgressModel",
            "_view_count": null,
            "_view_module": "@jupyter-widgets/controls",
            "_view_module_version": "1.5.0",
            "_view_name": "ProgressView",
            "bar_style": "success",
            "description": "",
            "description_tooltip": null,
            "layout": "IPY_MODEL_e7973c1f61bf4543aa445f25d92edfa1",
            "max": 1937869,
            "min": 0,
            "orientation": "horizontal",
            "style": "IPY_MODEL_53e0561d96694302908295292ab08baa",
            "value": 1937869
          }
        },
        "4adcd594cdf94c85b8bec1d874bc274d": {
          "model_module": "@jupyter-widgets/controls",
          "model_name": "HTMLModel",
          "model_module_version": "1.5.0",
          "state": {
            "_dom_classes": [],
            "_model_module": "@jupyter-widgets/controls",
            "_model_module_version": "1.5.0",
            "_model_name": "HTMLModel",
            "_view_count": null,
            "_view_module": "@jupyter-widgets/controls",
            "_view_module_version": "1.5.0",
            "_view_name": "HTMLView",
            "description": "",
            "description_tooltip": null,
            "layout": "IPY_MODEL_02b00acd65e245b7a9eec93af7bad1fc",
            "placeholder": "​",
            "style": "IPY_MODEL_15d37e9646ef48199ef2b11d27b4cf8e",
            "value": " 1.94M/1.94M [00:00&lt;00:00, 9.63MB/s]"
          }
        },
        "3615fa76216e4d62af8ce20ec0089bdf": {
          "model_module": "@jupyter-widgets/base",
          "model_name": "LayoutModel",
          "model_module_version": "1.2.0",
          "state": {
            "_model_module": "@jupyter-widgets/base",
            "_model_module_version": "1.2.0",
            "_model_name": "LayoutModel",
            "_view_count": null,
            "_view_module": "@jupyter-widgets/base",
            "_view_module_version": "1.2.0",
            "_view_name": "LayoutView",
            "align_content": null,
            "align_items": null,
            "align_self": null,
            "border": null,
            "bottom": null,
            "display": null,
            "flex": null,
            "flex_flow": null,
            "grid_area": null,
            "grid_auto_columns": null,
            "grid_auto_flow": null,
            "grid_auto_rows": null,
            "grid_column": null,
            "grid_gap": null,
            "grid_row": null,
            "grid_template_areas": null,
            "grid_template_columns": null,
            "grid_template_rows": null,
            "height": null,
            "justify_content": null,
            "justify_items": null,
            "left": null,
            "margin": null,
            "max_height": null,
            "max_width": null,
            "min_height": null,
            "min_width": null,
            "object_fit": null,
            "object_position": null,
            "order": null,
            "overflow": null,
            "overflow_x": null,
            "overflow_y": null,
            "padding": null,
            "right": null,
            "top": null,
            "visibility": null,
            "width": null
          }
        },
        "9049f4744689437faaf02edda0dae88b": {
          "model_module": "@jupyter-widgets/base",
          "model_name": "LayoutModel",
          "model_module_version": "1.2.0",
          "state": {
            "_model_module": "@jupyter-widgets/base",
            "_model_module_version": "1.2.0",
            "_model_name": "LayoutModel",
            "_view_count": null,
            "_view_module": "@jupyter-widgets/base",
            "_view_module_version": "1.2.0",
            "_view_name": "LayoutView",
            "align_content": null,
            "align_items": null,
            "align_self": null,
            "border": null,
            "bottom": null,
            "display": null,
            "flex": null,
            "flex_flow": null,
            "grid_area": null,
            "grid_auto_columns": null,
            "grid_auto_flow": null,
            "grid_auto_rows": null,
            "grid_column": null,
            "grid_gap": null,
            "grid_row": null,
            "grid_template_areas": null,
            "grid_template_columns": null,
            "grid_template_rows": null,
            "height": null,
            "justify_content": null,
            "justify_items": null,
            "left": null,
            "margin": null,
            "max_height": null,
            "max_width": null,
            "min_height": null,
            "min_width": null,
            "object_fit": null,
            "object_position": null,
            "order": null,
            "overflow": null,
            "overflow_x": null,
            "overflow_y": null,
            "padding": null,
            "right": null,
            "top": null,
            "visibility": null,
            "width": null
          }
        },
        "eafbd7f604284a73a25caba8756e5ba9": {
          "model_module": "@jupyter-widgets/controls",
          "model_name": "DescriptionStyleModel",
          "model_module_version": "1.5.0",
          "state": {
            "_model_module": "@jupyter-widgets/controls",
            "_model_module_version": "1.5.0",
            "_model_name": "DescriptionStyleModel",
            "_view_count": null,
            "_view_module": "@jupyter-widgets/base",
            "_view_module_version": "1.2.0",
            "_view_name": "StyleView",
            "description_width": ""
          }
        },
        "e7973c1f61bf4543aa445f25d92edfa1": {
          "model_module": "@jupyter-widgets/base",
          "model_name": "LayoutModel",
          "model_module_version": "1.2.0",
          "state": {
            "_model_module": "@jupyter-widgets/base",
            "_model_module_version": "1.2.0",
            "_model_name": "LayoutModel",
            "_view_count": null,
            "_view_module": "@jupyter-widgets/base",
            "_view_module_version": "1.2.0",
            "_view_name": "LayoutView",
            "align_content": null,
            "align_items": null,
            "align_self": null,
            "border": null,
            "bottom": null,
            "display": null,
            "flex": null,
            "flex_flow": null,
            "grid_area": null,
            "grid_auto_columns": null,
            "grid_auto_flow": null,
            "grid_auto_rows": null,
            "grid_column": null,
            "grid_gap": null,
            "grid_row": null,
            "grid_template_areas": null,
            "grid_template_columns": null,
            "grid_template_rows": null,
            "height": null,
            "justify_content": null,
            "justify_items": null,
            "left": null,
            "margin": null,
            "max_height": null,
            "max_width": null,
            "min_height": null,
            "min_width": null,
            "object_fit": null,
            "object_position": null,
            "order": null,
            "overflow": null,
            "overflow_x": null,
            "overflow_y": null,
            "padding": null,
            "right": null,
            "top": null,
            "visibility": null,
            "width": null
          }
        },
        "53e0561d96694302908295292ab08baa": {
          "model_module": "@jupyter-widgets/controls",
          "model_name": "ProgressStyleModel",
          "model_module_version": "1.5.0",
          "state": {
            "_model_module": "@jupyter-widgets/controls",
            "_model_module_version": "1.5.0",
            "_model_name": "ProgressStyleModel",
            "_view_count": null,
            "_view_module": "@jupyter-widgets/base",
            "_view_module_version": "1.2.0",
            "_view_name": "StyleView",
            "bar_color": null,
            "description_width": ""
          }
        },
        "02b00acd65e245b7a9eec93af7bad1fc": {
          "model_module": "@jupyter-widgets/base",
          "model_name": "LayoutModel",
          "model_module_version": "1.2.0",
          "state": {
            "_model_module": "@jupyter-widgets/base",
            "_model_module_version": "1.2.0",
            "_model_name": "LayoutModel",
            "_view_count": null,
            "_view_module": "@jupyter-widgets/base",
            "_view_module_version": "1.2.0",
            "_view_name": "LayoutView",
            "align_content": null,
            "align_items": null,
            "align_self": null,
            "border": null,
            "bottom": null,
            "display": null,
            "flex": null,
            "flex_flow": null,
            "grid_area": null,
            "grid_auto_columns": null,
            "grid_auto_flow": null,
            "grid_auto_rows": null,
            "grid_column": null,
            "grid_gap": null,
            "grid_row": null,
            "grid_template_areas": null,
            "grid_template_columns": null,
            "grid_template_rows": null,
            "height": null,
            "justify_content": null,
            "justify_items": null,
            "left": null,
            "margin": null,
            "max_height": null,
            "max_width": null,
            "min_height": null,
            "min_width": null,
            "object_fit": null,
            "object_position": null,
            "order": null,
            "overflow": null,
            "overflow_x": null,
            "overflow_y": null,
            "padding": null,
            "right": null,
            "top": null,
            "visibility": null,
            "width": null
          }
        },
        "15d37e9646ef48199ef2b11d27b4cf8e": {
          "model_module": "@jupyter-widgets/controls",
          "model_name": "DescriptionStyleModel",
          "model_module_version": "1.5.0",
          "state": {
            "_model_module": "@jupyter-widgets/controls",
            "_model_module_version": "1.5.0",
            "_model_name": "DescriptionStyleModel",
            "_view_count": null,
            "_view_module": "@jupyter-widgets/base",
            "_view_module_version": "1.2.0",
            "_view_name": "StyleView",
            "description_width": ""
          }
        },
        "0e276af81e94428b94bd26e90f9ed656": {
          "model_module": "@jupyter-widgets/controls",
          "model_name": "HBoxModel",
          "model_module_version": "1.5.0",
          "state": {
            "_dom_classes": [],
            "_model_module": "@jupyter-widgets/controls",
            "_model_module_version": "1.5.0",
            "_model_name": "HBoxModel",
            "_view_count": null,
            "_view_module": "@jupyter-widgets/controls",
            "_view_module_version": "1.5.0",
            "_view_name": "HBoxView",
            "box_style": "",
            "children": [
              "IPY_MODEL_53d2631b07784dbb8100dedd36898832",
              "IPY_MODEL_7dc301808df249b9a43b273aa2512651",
              "IPY_MODEL_32245ebaae264459acff5665307dcb96"
            ],
            "layout": "IPY_MODEL_85a425fe1fb74c2fb917016af562b648"
          }
        },
        "53d2631b07784dbb8100dedd36898832": {
          "model_module": "@jupyter-widgets/controls",
          "model_name": "HTMLModel",
          "model_module_version": "1.5.0",
          "state": {
            "_dom_classes": [],
            "_model_module": "@jupyter-widgets/controls",
            "_model_module_version": "1.5.0",
            "_model_name": "HTMLModel",
            "_view_count": null,
            "_view_module": "@jupyter-widgets/controls",
            "_view_module_version": "1.5.0",
            "_view_name": "HTMLView",
            "description": "",
            "description_tooltip": null,
            "layout": "IPY_MODEL_1700d8424dd5473a881f4033db90930d",
            "placeholder": "​",
            "style": "IPY_MODEL_864706ab701e40ffb3db392d5fec8a38",
            "value": "added_tokens.json: 100%"
          }
        },
        "7dc301808df249b9a43b273aa2512651": {
          "model_module": "@jupyter-widgets/controls",
          "model_name": "FloatProgressModel",
          "model_module_version": "1.5.0",
          "state": {
            "_dom_classes": [],
            "_model_module": "@jupyter-widgets/controls",
            "_model_module_version": "1.5.0",
            "_model_name": "FloatProgressModel",
            "_view_count": null,
            "_view_module": "@jupyter-widgets/controls",
            "_view_module_version": "1.5.0",
            "_view_name": "ProgressView",
            "bar_style": "success",
            "description": "",
            "description_tooltip": null,
            "layout": "IPY_MODEL_031ba4eb4c1a48feb22d283746a621a7",
            "max": 306,
            "min": 0,
            "orientation": "horizontal",
            "style": "IPY_MODEL_1ec738dae8fd4ce78a853602d504d1bc",
            "value": 306
          }
        },
        "32245ebaae264459acff5665307dcb96": {
          "model_module": "@jupyter-widgets/controls",
          "model_name": "HTMLModel",
          "model_module_version": "1.5.0",
          "state": {
            "_dom_classes": [],
            "_model_module": "@jupyter-widgets/controls",
            "_model_module_version": "1.5.0",
            "_model_name": "HTMLModel",
            "_view_count": null,
            "_view_module": "@jupyter-widgets/controls",
            "_view_module_version": "1.5.0",
            "_view_name": "HTMLView",
            "description": "",
            "description_tooltip": null,
            "layout": "IPY_MODEL_9dfc2e9cbd79439a9f44ea168d8e298d",
            "placeholder": "​",
            "style": "IPY_MODEL_074524e66d15483a8954a5a13fd75f46",
            "value": " 306/306 [00:00&lt;00:00, 4.33kB/s]"
          }
        },
        "85a425fe1fb74c2fb917016af562b648": {
          "model_module": "@jupyter-widgets/base",
          "model_name": "LayoutModel",
          "model_module_version": "1.2.0",
          "state": {
            "_model_module": "@jupyter-widgets/base",
            "_model_module_version": "1.2.0",
            "_model_name": "LayoutModel",
            "_view_count": null,
            "_view_module": "@jupyter-widgets/base",
            "_view_module_version": "1.2.0",
            "_view_name": "LayoutView",
            "align_content": null,
            "align_items": null,
            "align_self": null,
            "border": null,
            "bottom": null,
            "display": null,
            "flex": null,
            "flex_flow": null,
            "grid_area": null,
            "grid_auto_columns": null,
            "grid_auto_flow": null,
            "grid_auto_rows": null,
            "grid_column": null,
            "grid_gap": null,
            "grid_row": null,
            "grid_template_areas": null,
            "grid_template_columns": null,
            "grid_template_rows": null,
            "height": null,
            "justify_content": null,
            "justify_items": null,
            "left": null,
            "margin": null,
            "max_height": null,
            "max_width": null,
            "min_height": null,
            "min_width": null,
            "object_fit": null,
            "object_position": null,
            "order": null,
            "overflow": null,
            "overflow_x": null,
            "overflow_y": null,
            "padding": null,
            "right": null,
            "top": null,
            "visibility": null,
            "width": null
          }
        },
        "1700d8424dd5473a881f4033db90930d": {
          "model_module": "@jupyter-widgets/base",
          "model_name": "LayoutModel",
          "model_module_version": "1.2.0",
          "state": {
            "_model_module": "@jupyter-widgets/base",
            "_model_module_version": "1.2.0",
            "_model_name": "LayoutModel",
            "_view_count": null,
            "_view_module": "@jupyter-widgets/base",
            "_view_module_version": "1.2.0",
            "_view_name": "LayoutView",
            "align_content": null,
            "align_items": null,
            "align_self": null,
            "border": null,
            "bottom": null,
            "display": null,
            "flex": null,
            "flex_flow": null,
            "grid_area": null,
            "grid_auto_columns": null,
            "grid_auto_flow": null,
            "grid_auto_rows": null,
            "grid_column": null,
            "grid_gap": null,
            "grid_row": null,
            "grid_template_areas": null,
            "grid_template_columns": null,
            "grid_template_rows": null,
            "height": null,
            "justify_content": null,
            "justify_items": null,
            "left": null,
            "margin": null,
            "max_height": null,
            "max_width": null,
            "min_height": null,
            "min_width": null,
            "object_fit": null,
            "object_position": null,
            "order": null,
            "overflow": null,
            "overflow_x": null,
            "overflow_y": null,
            "padding": null,
            "right": null,
            "top": null,
            "visibility": null,
            "width": null
          }
        },
        "864706ab701e40ffb3db392d5fec8a38": {
          "model_module": "@jupyter-widgets/controls",
          "model_name": "DescriptionStyleModel",
          "model_module_version": "1.5.0",
          "state": {
            "_model_module": "@jupyter-widgets/controls",
            "_model_module_version": "1.5.0",
            "_model_name": "DescriptionStyleModel",
            "_view_count": null,
            "_view_module": "@jupyter-widgets/base",
            "_view_module_version": "1.2.0",
            "_view_name": "StyleView",
            "description_width": ""
          }
        },
        "031ba4eb4c1a48feb22d283746a621a7": {
          "model_module": "@jupyter-widgets/base",
          "model_name": "LayoutModel",
          "model_module_version": "1.2.0",
          "state": {
            "_model_module": "@jupyter-widgets/base",
            "_model_module_version": "1.2.0",
            "_model_name": "LayoutModel",
            "_view_count": null,
            "_view_module": "@jupyter-widgets/base",
            "_view_module_version": "1.2.0",
            "_view_name": "LayoutView",
            "align_content": null,
            "align_items": null,
            "align_self": null,
            "border": null,
            "bottom": null,
            "display": null,
            "flex": null,
            "flex_flow": null,
            "grid_area": null,
            "grid_auto_columns": null,
            "grid_auto_flow": null,
            "grid_auto_rows": null,
            "grid_column": null,
            "grid_gap": null,
            "grid_row": null,
            "grid_template_areas": null,
            "grid_template_columns": null,
            "grid_template_rows": null,
            "height": null,
            "justify_content": null,
            "justify_items": null,
            "left": null,
            "margin": null,
            "max_height": null,
            "max_width": null,
            "min_height": null,
            "min_width": null,
            "object_fit": null,
            "object_position": null,
            "order": null,
            "overflow": null,
            "overflow_x": null,
            "overflow_y": null,
            "padding": null,
            "right": null,
            "top": null,
            "visibility": null,
            "width": null
          }
        },
        "1ec738dae8fd4ce78a853602d504d1bc": {
          "model_module": "@jupyter-widgets/controls",
          "model_name": "ProgressStyleModel",
          "model_module_version": "1.5.0",
          "state": {
            "_model_module": "@jupyter-widgets/controls",
            "_model_module_version": "1.5.0",
            "_model_name": "ProgressStyleModel",
            "_view_count": null,
            "_view_module": "@jupyter-widgets/base",
            "_view_module_version": "1.2.0",
            "_view_name": "StyleView",
            "bar_color": null,
            "description_width": ""
          }
        },
        "9dfc2e9cbd79439a9f44ea168d8e298d": {
          "model_module": "@jupyter-widgets/base",
          "model_name": "LayoutModel",
          "model_module_version": "1.2.0",
          "state": {
            "_model_module": "@jupyter-widgets/base",
            "_model_module_version": "1.2.0",
            "_model_name": "LayoutModel",
            "_view_count": null,
            "_view_module": "@jupyter-widgets/base",
            "_view_module_version": "1.2.0",
            "_view_name": "LayoutView",
            "align_content": null,
            "align_items": null,
            "align_self": null,
            "border": null,
            "bottom": null,
            "display": null,
            "flex": null,
            "flex_flow": null,
            "grid_area": null,
            "grid_auto_columns": null,
            "grid_auto_flow": null,
            "grid_auto_rows": null,
            "grid_column": null,
            "grid_gap": null,
            "grid_row": null,
            "grid_template_areas": null,
            "grid_template_columns": null,
            "grid_template_rows": null,
            "height": null,
            "justify_content": null,
            "justify_items": null,
            "left": null,
            "margin": null,
            "max_height": null,
            "max_width": null,
            "min_height": null,
            "min_width": null,
            "object_fit": null,
            "object_position": null,
            "order": null,
            "overflow": null,
            "overflow_x": null,
            "overflow_y": null,
            "padding": null,
            "right": null,
            "top": null,
            "visibility": null,
            "width": null
          }
        },
        "074524e66d15483a8954a5a13fd75f46": {
          "model_module": "@jupyter-widgets/controls",
          "model_name": "DescriptionStyleModel",
          "model_module_version": "1.5.0",
          "state": {
            "_model_module": "@jupyter-widgets/controls",
            "_model_module_version": "1.5.0",
            "_model_name": "DescriptionStyleModel",
            "_view_count": null,
            "_view_module": "@jupyter-widgets/base",
            "_view_module_version": "1.2.0",
            "_view_name": "StyleView",
            "description_width": ""
          }
        },
        "6ee5acad51274babbe485ee5c32e502f": {
          "model_module": "@jupyter-widgets/controls",
          "model_name": "HBoxModel",
          "model_module_version": "1.5.0",
          "state": {
            "_dom_classes": [],
            "_model_module": "@jupyter-widgets/controls",
            "_model_module_version": "1.5.0",
            "_model_name": "HBoxModel",
            "_view_count": null,
            "_view_module": "@jupyter-widgets/controls",
            "_view_module_version": "1.5.0",
            "_view_name": "HBoxView",
            "box_style": "",
            "children": [
              "IPY_MODEL_6bf90c1589c24435b7561097e1136523",
              "IPY_MODEL_b138a69cb5044803827e66b1058ca740",
              "IPY_MODEL_f2e68f1df5b74f8ea11568db18cf14e2"
            ],
            "layout": "IPY_MODEL_7d44bd8430cc4d85a5b003967846ba70"
          }
        },
        "6bf90c1589c24435b7561097e1136523": {
          "model_module": "@jupyter-widgets/controls",
          "model_name": "HTMLModel",
          "model_module_version": "1.5.0",
          "state": {
            "_dom_classes": [],
            "_model_module": "@jupyter-widgets/controls",
            "_model_module_version": "1.5.0",
            "_model_name": "HTMLModel",
            "_view_count": null,
            "_view_module": "@jupyter-widgets/controls",
            "_view_module_version": "1.5.0",
            "_view_name": "HTMLView",
            "description": "",
            "description_tooltip": null,
            "layout": "IPY_MODEL_eef4779c584d401eb81f8c6adc7f9986",
            "placeholder": "​",
            "style": "IPY_MODEL_326348e1e66542c7ad13a5c0b803dbf7",
            "value": "special_tokens_map.json: 100%"
          }
        },
        "b138a69cb5044803827e66b1058ca740": {
          "model_module": "@jupyter-widgets/controls",
          "model_name": "FloatProgressModel",
          "model_module_version": "1.5.0",
          "state": {
            "_dom_classes": [],
            "_model_module": "@jupyter-widgets/controls",
            "_model_module_version": "1.5.0",
            "_model_name": "FloatProgressModel",
            "_view_count": null,
            "_view_module": "@jupyter-widgets/controls",
            "_view_module_version": "1.5.0",
            "_view_name": "ProgressView",
            "bar_style": "success",
            "description": "",
            "description_tooltip": null,
            "layout": "IPY_MODEL_ed9f632f852a4672910b28077e315878",
            "max": 599,
            "min": 0,
            "orientation": "horizontal",
            "style": "IPY_MODEL_536eb18d853248429bb63562fef86d5a",
            "value": 599
          }
        },
        "f2e68f1df5b74f8ea11568db18cf14e2": {
          "model_module": "@jupyter-widgets/controls",
          "model_name": "HTMLModel",
          "model_module_version": "1.5.0",
          "state": {
            "_dom_classes": [],
            "_model_module": "@jupyter-widgets/controls",
            "_model_module_version": "1.5.0",
            "_model_name": "HTMLModel",
            "_view_count": null,
            "_view_module": "@jupyter-widgets/controls",
            "_view_module_version": "1.5.0",
            "_view_name": "HTMLView",
            "description": "",
            "description_tooltip": null,
            "layout": "IPY_MODEL_b6f3f4c1a80f460b82c29b747c2c3a00",
            "placeholder": "​",
            "style": "IPY_MODEL_e571a5670cc64bc5821635f500f681eb",
            "value": " 599/599 [00:00&lt;00:00, 14.2kB/s]"
          }
        },
        "7d44bd8430cc4d85a5b003967846ba70": {
          "model_module": "@jupyter-widgets/base",
          "model_name": "LayoutModel",
          "model_module_version": "1.2.0",
          "state": {
            "_model_module": "@jupyter-widgets/base",
            "_model_module_version": "1.2.0",
            "_model_name": "LayoutModel",
            "_view_count": null,
            "_view_module": "@jupyter-widgets/base",
            "_view_module_version": "1.2.0",
            "_view_name": "LayoutView",
            "align_content": null,
            "align_items": null,
            "align_self": null,
            "border": null,
            "bottom": null,
            "display": null,
            "flex": null,
            "flex_flow": null,
            "grid_area": null,
            "grid_auto_columns": null,
            "grid_auto_flow": null,
            "grid_auto_rows": null,
            "grid_column": null,
            "grid_gap": null,
            "grid_row": null,
            "grid_template_areas": null,
            "grid_template_columns": null,
            "grid_template_rows": null,
            "height": null,
            "justify_content": null,
            "justify_items": null,
            "left": null,
            "margin": null,
            "max_height": null,
            "max_width": null,
            "min_height": null,
            "min_width": null,
            "object_fit": null,
            "object_position": null,
            "order": null,
            "overflow": null,
            "overflow_x": null,
            "overflow_y": null,
            "padding": null,
            "right": null,
            "top": null,
            "visibility": null,
            "width": null
          }
        },
        "eef4779c584d401eb81f8c6adc7f9986": {
          "model_module": "@jupyter-widgets/base",
          "model_name": "LayoutModel",
          "model_module_version": "1.2.0",
          "state": {
            "_model_module": "@jupyter-widgets/base",
            "_model_module_version": "1.2.0",
            "_model_name": "LayoutModel",
            "_view_count": null,
            "_view_module": "@jupyter-widgets/base",
            "_view_module_version": "1.2.0",
            "_view_name": "LayoutView",
            "align_content": null,
            "align_items": null,
            "align_self": null,
            "border": null,
            "bottom": null,
            "display": null,
            "flex": null,
            "flex_flow": null,
            "grid_area": null,
            "grid_auto_columns": null,
            "grid_auto_flow": null,
            "grid_auto_rows": null,
            "grid_column": null,
            "grid_gap": null,
            "grid_row": null,
            "grid_template_areas": null,
            "grid_template_columns": null,
            "grid_template_rows": null,
            "height": null,
            "justify_content": null,
            "justify_items": null,
            "left": null,
            "margin": null,
            "max_height": null,
            "max_width": null,
            "min_height": null,
            "min_width": null,
            "object_fit": null,
            "object_position": null,
            "order": null,
            "overflow": null,
            "overflow_x": null,
            "overflow_y": null,
            "padding": null,
            "right": null,
            "top": null,
            "visibility": null,
            "width": null
          }
        },
        "326348e1e66542c7ad13a5c0b803dbf7": {
          "model_module": "@jupyter-widgets/controls",
          "model_name": "DescriptionStyleModel",
          "model_module_version": "1.5.0",
          "state": {
            "_model_module": "@jupyter-widgets/controls",
            "_model_module_version": "1.5.0",
            "_model_name": "DescriptionStyleModel",
            "_view_count": null,
            "_view_module": "@jupyter-widgets/base",
            "_view_module_version": "1.2.0",
            "_view_name": "StyleView",
            "description_width": ""
          }
        },
        "ed9f632f852a4672910b28077e315878": {
          "model_module": "@jupyter-widgets/base",
          "model_name": "LayoutModel",
          "model_module_version": "1.2.0",
          "state": {
            "_model_module": "@jupyter-widgets/base",
            "_model_module_version": "1.2.0",
            "_model_name": "LayoutModel",
            "_view_count": null,
            "_view_module": "@jupyter-widgets/base",
            "_view_module_version": "1.2.0",
            "_view_name": "LayoutView",
            "align_content": null,
            "align_items": null,
            "align_self": null,
            "border": null,
            "bottom": null,
            "display": null,
            "flex": null,
            "flex_flow": null,
            "grid_area": null,
            "grid_auto_columns": null,
            "grid_auto_flow": null,
            "grid_auto_rows": null,
            "grid_column": null,
            "grid_gap": null,
            "grid_row": null,
            "grid_template_areas": null,
            "grid_template_columns": null,
            "grid_template_rows": null,
            "height": null,
            "justify_content": null,
            "justify_items": null,
            "left": null,
            "margin": null,
            "max_height": null,
            "max_width": null,
            "min_height": null,
            "min_width": null,
            "object_fit": null,
            "object_position": null,
            "order": null,
            "overflow": null,
            "overflow_x": null,
            "overflow_y": null,
            "padding": null,
            "right": null,
            "top": null,
            "visibility": null,
            "width": null
          }
        },
        "536eb18d853248429bb63562fef86d5a": {
          "model_module": "@jupyter-widgets/controls",
          "model_name": "ProgressStyleModel",
          "model_module_version": "1.5.0",
          "state": {
            "_model_module": "@jupyter-widgets/controls",
            "_model_module_version": "1.5.0",
            "_model_name": "ProgressStyleModel",
            "_view_count": null,
            "_view_module": "@jupyter-widgets/base",
            "_view_module_version": "1.2.0",
            "_view_name": "StyleView",
            "bar_color": null,
            "description_width": ""
          }
        },
        "b6f3f4c1a80f460b82c29b747c2c3a00": {
          "model_module": "@jupyter-widgets/base",
          "model_name": "LayoutModel",
          "model_module_version": "1.2.0",
          "state": {
            "_model_module": "@jupyter-widgets/base",
            "_model_module_version": "1.2.0",
            "_model_name": "LayoutModel",
            "_view_count": null,
            "_view_module": "@jupyter-widgets/base",
            "_view_module_version": "1.2.0",
            "_view_name": "LayoutView",
            "align_content": null,
            "align_items": null,
            "align_self": null,
            "border": null,
            "bottom": null,
            "display": null,
            "flex": null,
            "flex_flow": null,
            "grid_area": null,
            "grid_auto_columns": null,
            "grid_auto_flow": null,
            "grid_auto_rows": null,
            "grid_column": null,
            "grid_gap": null,
            "grid_row": null,
            "grid_template_areas": null,
            "grid_template_columns": null,
            "grid_template_rows": null,
            "height": null,
            "justify_content": null,
            "justify_items": null,
            "left": null,
            "margin": null,
            "max_height": null,
            "max_width": null,
            "min_height": null,
            "min_width": null,
            "object_fit": null,
            "object_position": null,
            "order": null,
            "overflow": null,
            "overflow_x": null,
            "overflow_y": null,
            "padding": null,
            "right": null,
            "top": null,
            "visibility": null,
            "width": null
          }
        },
        "e571a5670cc64bc5821635f500f681eb": {
          "model_module": "@jupyter-widgets/controls",
          "model_name": "DescriptionStyleModel",
          "model_module_version": "1.5.0",
          "state": {
            "_model_module": "@jupyter-widgets/controls",
            "_model_module_version": "1.5.0",
            "_model_name": "DescriptionStyleModel",
            "_view_count": null,
            "_view_module": "@jupyter-widgets/base",
            "_view_module_version": "1.2.0",
            "_view_name": "StyleView",
            "description_width": ""
          }
        },
        "1ef83853860045c186cdf572f9161126": {
          "model_module": "@jupyter-widgets/controls",
          "model_name": "HBoxModel",
          "model_module_version": "1.5.0",
          "state": {
            "_dom_classes": [],
            "_model_module": "@jupyter-widgets/controls",
            "_model_module_version": "1.5.0",
            "_model_name": "HBoxModel",
            "_view_count": null,
            "_view_module": "@jupyter-widgets/controls",
            "_view_module_version": "1.5.0",
            "_view_name": "HBoxView",
            "box_style": "",
            "children": [
              "IPY_MODEL_0c128681695c431899d2a9f566146542",
              "IPY_MODEL_31c029f9b696432f9e11c183427109ab",
              "IPY_MODEL_42b5fdb8ccdd490d8ae95ad6a63635f1"
            ],
            "layout": "IPY_MODEL_b12a9e0ba1d64d08ab1980a31d202a57"
          }
        },
        "0c128681695c431899d2a9f566146542": {
          "model_module": "@jupyter-widgets/controls",
          "model_name": "HTMLModel",
          "model_module_version": "1.5.0",
          "state": {
            "_dom_classes": [],
            "_model_module": "@jupyter-widgets/controls",
            "_model_module_version": "1.5.0",
            "_model_name": "HTMLModel",
            "_view_count": null,
            "_view_module": "@jupyter-widgets/controls",
            "_view_module_version": "1.5.0",
            "_view_name": "HTMLView",
            "description": "",
            "description_tooltip": null,
            "layout": "IPY_MODEL_3e5af672f4c6476b9ea642d631389a24",
            "placeholder": "​",
            "style": "IPY_MODEL_162244d4e1d046efb60fb56c8585e26d",
            "value": "Map: 100%"
          }
        },
        "31c029f9b696432f9e11c183427109ab": {
          "model_module": "@jupyter-widgets/controls",
          "model_name": "FloatProgressModel",
          "model_module_version": "1.5.0",
          "state": {
            "_dom_classes": [],
            "_model_module": "@jupyter-widgets/controls",
            "_model_module_version": "1.5.0",
            "_model_name": "FloatProgressModel",
            "_view_count": null,
            "_view_module": "@jupyter-widgets/controls",
            "_view_module_version": "1.5.0",
            "_view_name": "ProgressView",
            "bar_style": "success",
            "description": "",
            "description_tooltip": null,
            "layout": "IPY_MODEL_84f7b7f6564846928e1bfa91d8d52945",
            "max": 4353,
            "min": 0,
            "orientation": "horizontal",
            "style": "IPY_MODEL_3b3cd0ff038d4cbfb6c2d9551ca56aa6",
            "value": 4353
          }
        },
        "42b5fdb8ccdd490d8ae95ad6a63635f1": {
          "model_module": "@jupyter-widgets/controls",
          "model_name": "HTMLModel",
          "model_module_version": "1.5.0",
          "state": {
            "_dom_classes": [],
            "_model_module": "@jupyter-widgets/controls",
            "_model_module_version": "1.5.0",
            "_model_name": "HTMLModel",
            "_view_count": null,
            "_view_module": "@jupyter-widgets/controls",
            "_view_module_version": "1.5.0",
            "_view_name": "HTMLView",
            "description": "",
            "description_tooltip": null,
            "layout": "IPY_MODEL_db1e32c720ee40eeb66f79e0f6216bba",
            "placeholder": "​",
            "style": "IPY_MODEL_06860a0697554602bac8ac720a40ed0f",
            "value": " 4353/4353 [00:00&lt;00:00, 6319.88 examples/s]"
          }
        },
        "b12a9e0ba1d64d08ab1980a31d202a57": {
          "model_module": "@jupyter-widgets/base",
          "model_name": "LayoutModel",
          "model_module_version": "1.2.0",
          "state": {
            "_model_module": "@jupyter-widgets/base",
            "_model_module_version": "1.2.0",
            "_model_name": "LayoutModel",
            "_view_count": null,
            "_view_module": "@jupyter-widgets/base",
            "_view_module_version": "1.2.0",
            "_view_name": "LayoutView",
            "align_content": null,
            "align_items": null,
            "align_self": null,
            "border": null,
            "bottom": null,
            "display": null,
            "flex": null,
            "flex_flow": null,
            "grid_area": null,
            "grid_auto_columns": null,
            "grid_auto_flow": null,
            "grid_auto_rows": null,
            "grid_column": null,
            "grid_gap": null,
            "grid_row": null,
            "grid_template_areas": null,
            "grid_template_columns": null,
            "grid_template_rows": null,
            "height": null,
            "justify_content": null,
            "justify_items": null,
            "left": null,
            "margin": null,
            "max_height": null,
            "max_width": null,
            "min_height": null,
            "min_width": null,
            "object_fit": null,
            "object_position": null,
            "order": null,
            "overflow": null,
            "overflow_x": null,
            "overflow_y": null,
            "padding": null,
            "right": null,
            "top": null,
            "visibility": null,
            "width": null
          }
        },
        "3e5af672f4c6476b9ea642d631389a24": {
          "model_module": "@jupyter-widgets/base",
          "model_name": "LayoutModel",
          "model_module_version": "1.2.0",
          "state": {
            "_model_module": "@jupyter-widgets/base",
            "_model_module_version": "1.2.0",
            "_model_name": "LayoutModel",
            "_view_count": null,
            "_view_module": "@jupyter-widgets/base",
            "_view_module_version": "1.2.0",
            "_view_name": "LayoutView",
            "align_content": null,
            "align_items": null,
            "align_self": null,
            "border": null,
            "bottom": null,
            "display": null,
            "flex": null,
            "flex_flow": null,
            "grid_area": null,
            "grid_auto_columns": null,
            "grid_auto_flow": null,
            "grid_auto_rows": null,
            "grid_column": null,
            "grid_gap": null,
            "grid_row": null,
            "grid_template_areas": null,
            "grid_template_columns": null,
            "grid_template_rows": null,
            "height": null,
            "justify_content": null,
            "justify_items": null,
            "left": null,
            "margin": null,
            "max_height": null,
            "max_width": null,
            "min_height": null,
            "min_width": null,
            "object_fit": null,
            "object_position": null,
            "order": null,
            "overflow": null,
            "overflow_x": null,
            "overflow_y": null,
            "padding": null,
            "right": null,
            "top": null,
            "visibility": null,
            "width": null
          }
        },
        "162244d4e1d046efb60fb56c8585e26d": {
          "model_module": "@jupyter-widgets/controls",
          "model_name": "DescriptionStyleModel",
          "model_module_version": "1.5.0",
          "state": {
            "_model_module": "@jupyter-widgets/controls",
            "_model_module_version": "1.5.0",
            "_model_name": "DescriptionStyleModel",
            "_view_count": null,
            "_view_module": "@jupyter-widgets/base",
            "_view_module_version": "1.2.0",
            "_view_name": "StyleView",
            "description_width": ""
          }
        },
        "84f7b7f6564846928e1bfa91d8d52945": {
          "model_module": "@jupyter-widgets/base",
          "model_name": "LayoutModel",
          "model_module_version": "1.2.0",
          "state": {
            "_model_module": "@jupyter-widgets/base",
            "_model_module_version": "1.2.0",
            "_model_name": "LayoutModel",
            "_view_count": null,
            "_view_module": "@jupyter-widgets/base",
            "_view_module_version": "1.2.0",
            "_view_name": "LayoutView",
            "align_content": null,
            "align_items": null,
            "align_self": null,
            "border": null,
            "bottom": null,
            "display": null,
            "flex": null,
            "flex_flow": null,
            "grid_area": null,
            "grid_auto_columns": null,
            "grid_auto_flow": null,
            "grid_auto_rows": null,
            "grid_column": null,
            "grid_gap": null,
            "grid_row": null,
            "grid_template_areas": null,
            "grid_template_columns": null,
            "grid_template_rows": null,
            "height": null,
            "justify_content": null,
            "justify_items": null,
            "left": null,
            "margin": null,
            "max_height": null,
            "max_width": null,
            "min_height": null,
            "min_width": null,
            "object_fit": null,
            "object_position": null,
            "order": null,
            "overflow": null,
            "overflow_x": null,
            "overflow_y": null,
            "padding": null,
            "right": null,
            "top": null,
            "visibility": null,
            "width": null
          }
        },
        "3b3cd0ff038d4cbfb6c2d9551ca56aa6": {
          "model_module": "@jupyter-widgets/controls",
          "model_name": "ProgressStyleModel",
          "model_module_version": "1.5.0",
          "state": {
            "_model_module": "@jupyter-widgets/controls",
            "_model_module_version": "1.5.0",
            "_model_name": "ProgressStyleModel",
            "_view_count": null,
            "_view_module": "@jupyter-widgets/base",
            "_view_module_version": "1.2.0",
            "_view_name": "StyleView",
            "bar_color": null,
            "description_width": ""
          }
        },
        "db1e32c720ee40eeb66f79e0f6216bba": {
          "model_module": "@jupyter-widgets/base",
          "model_name": "LayoutModel",
          "model_module_version": "1.2.0",
          "state": {
            "_model_module": "@jupyter-widgets/base",
            "_model_module_version": "1.2.0",
            "_model_name": "LayoutModel",
            "_view_count": null,
            "_view_module": "@jupyter-widgets/base",
            "_view_module_version": "1.2.0",
            "_view_name": "LayoutView",
            "align_content": null,
            "align_items": null,
            "align_self": null,
            "border": null,
            "bottom": null,
            "display": null,
            "flex": null,
            "flex_flow": null,
            "grid_area": null,
            "grid_auto_columns": null,
            "grid_auto_flow": null,
            "grid_auto_rows": null,
            "grid_column": null,
            "grid_gap": null,
            "grid_row": null,
            "grid_template_areas": null,
            "grid_template_columns": null,
            "grid_template_rows": null,
            "height": null,
            "justify_content": null,
            "justify_items": null,
            "left": null,
            "margin": null,
            "max_height": null,
            "max_width": null,
            "min_height": null,
            "min_width": null,
            "object_fit": null,
            "object_position": null,
            "order": null,
            "overflow": null,
            "overflow_x": null,
            "overflow_y": null,
            "padding": null,
            "right": null,
            "top": null,
            "visibility": null,
            "width": null
          }
        },
        "06860a0697554602bac8ac720a40ed0f": {
          "model_module": "@jupyter-widgets/controls",
          "model_name": "DescriptionStyleModel",
          "model_module_version": "1.5.0",
          "state": {
            "_model_module": "@jupyter-widgets/controls",
            "_model_module_version": "1.5.0",
            "_model_name": "DescriptionStyleModel",
            "_view_count": null,
            "_view_module": "@jupyter-widgets/base",
            "_view_module_version": "1.2.0",
            "_view_name": "StyleView",
            "description_width": ""
          }
        },
        "35203b5c23f1412d8b49233d4293187a": {
          "model_module": "@jupyter-widgets/controls",
          "model_name": "HBoxModel",
          "model_module_version": "1.5.0",
          "state": {
            "_dom_classes": [],
            "_model_module": "@jupyter-widgets/controls",
            "_model_module_version": "1.5.0",
            "_model_name": "HBoxModel",
            "_view_count": null,
            "_view_module": "@jupyter-widgets/controls",
            "_view_module_version": "1.5.0",
            "_view_name": "HBoxView",
            "box_style": "",
            "children": [
              "IPY_MODEL_9588f06356ac44f4b329816e25472d65",
              "IPY_MODEL_646549a211b04714913e2127fc0743f1",
              "IPY_MODEL_93e173c5b24f465e8655d1ce5870f160"
            ],
            "layout": "IPY_MODEL_21d75f4b65744da789f970e663d3bd84"
          }
        },
        "9588f06356ac44f4b329816e25472d65": {
          "model_module": "@jupyter-widgets/controls",
          "model_name": "HTMLModel",
          "model_module_version": "1.5.0",
          "state": {
            "_dom_classes": [],
            "_model_module": "@jupyter-widgets/controls",
            "_model_module_version": "1.5.0",
            "_model_name": "HTMLModel",
            "_view_count": null,
            "_view_module": "@jupyter-widgets/controls",
            "_view_module_version": "1.5.0",
            "_view_name": "HTMLView",
            "description": "",
            "description_tooltip": null,
            "layout": "IPY_MODEL_b9732ec034e440038de795c14b946916",
            "placeholder": "​",
            "style": "IPY_MODEL_2fc65fc980314e69b14bce73078c5f0d",
            "value": "Map:   0%"
          }
        },
        "646549a211b04714913e2127fc0743f1": {
          "model_module": "@jupyter-widgets/controls",
          "model_name": "FloatProgressModel",
          "model_module_version": "1.5.0",
          "state": {
            "_dom_classes": [],
            "_model_module": "@jupyter-widgets/controls",
            "_model_module_version": "1.5.0",
            "_model_name": "FloatProgressModel",
            "_view_count": null,
            "_view_module": "@jupyter-widgets/controls",
            "_view_module_version": "1.5.0",
            "_view_name": "ProgressView",
            "bar_style": "danger",
            "description": "",
            "description_tooltip": null,
            "layout": "IPY_MODEL_bb85580655934c98ab4fd530cf705219",
            "max": 4353,
            "min": 0,
            "orientation": "horizontal",
            "style": "IPY_MODEL_2058ded4c2d64a69b8e6bd5b73ba4b23",
            "value": 0
          }
        },
        "93e173c5b24f465e8655d1ce5870f160": {
          "model_module": "@jupyter-widgets/controls",
          "model_name": "HTMLModel",
          "model_module_version": "1.5.0",
          "state": {
            "_dom_classes": [],
            "_model_module": "@jupyter-widgets/controls",
            "_model_module_version": "1.5.0",
            "_model_name": "HTMLModel",
            "_view_count": null,
            "_view_module": "@jupyter-widgets/controls",
            "_view_module_version": "1.5.0",
            "_view_name": "HTMLView",
            "description": "",
            "description_tooltip": null,
            "layout": "IPY_MODEL_248f562962444b0b9258b92f2f345264",
            "placeholder": "​",
            "style": "IPY_MODEL_2abfa4ffc36548fb9ccd3cf95b65913d",
            "value": " 0/4353 [00:00&lt;?, ? examples/s]"
          }
        },
        "21d75f4b65744da789f970e663d3bd84": {
          "model_module": "@jupyter-widgets/base",
          "model_name": "LayoutModel",
          "model_module_version": "1.2.0",
          "state": {
            "_model_module": "@jupyter-widgets/base",
            "_model_module_version": "1.2.0",
            "_model_name": "LayoutModel",
            "_view_count": null,
            "_view_module": "@jupyter-widgets/base",
            "_view_module_version": "1.2.0",
            "_view_name": "LayoutView",
            "align_content": null,
            "align_items": null,
            "align_self": null,
            "border": null,
            "bottom": null,
            "display": null,
            "flex": null,
            "flex_flow": null,
            "grid_area": null,
            "grid_auto_columns": null,
            "grid_auto_flow": null,
            "grid_auto_rows": null,
            "grid_column": null,
            "grid_gap": null,
            "grid_row": null,
            "grid_template_areas": null,
            "grid_template_columns": null,
            "grid_template_rows": null,
            "height": null,
            "justify_content": null,
            "justify_items": null,
            "left": null,
            "margin": null,
            "max_height": null,
            "max_width": null,
            "min_height": null,
            "min_width": null,
            "object_fit": null,
            "object_position": null,
            "order": null,
            "overflow": null,
            "overflow_x": null,
            "overflow_y": null,
            "padding": null,
            "right": null,
            "top": null,
            "visibility": null,
            "width": null
          }
        },
        "b9732ec034e440038de795c14b946916": {
          "model_module": "@jupyter-widgets/base",
          "model_name": "LayoutModel",
          "model_module_version": "1.2.0",
          "state": {
            "_model_module": "@jupyter-widgets/base",
            "_model_module_version": "1.2.0",
            "_model_name": "LayoutModel",
            "_view_count": null,
            "_view_module": "@jupyter-widgets/base",
            "_view_module_version": "1.2.0",
            "_view_name": "LayoutView",
            "align_content": null,
            "align_items": null,
            "align_self": null,
            "border": null,
            "bottom": null,
            "display": null,
            "flex": null,
            "flex_flow": null,
            "grid_area": null,
            "grid_auto_columns": null,
            "grid_auto_flow": null,
            "grid_auto_rows": null,
            "grid_column": null,
            "grid_gap": null,
            "grid_row": null,
            "grid_template_areas": null,
            "grid_template_columns": null,
            "grid_template_rows": null,
            "height": null,
            "justify_content": null,
            "justify_items": null,
            "left": null,
            "margin": null,
            "max_height": null,
            "max_width": null,
            "min_height": null,
            "min_width": null,
            "object_fit": null,
            "object_position": null,
            "order": null,
            "overflow": null,
            "overflow_x": null,
            "overflow_y": null,
            "padding": null,
            "right": null,
            "top": null,
            "visibility": null,
            "width": null
          }
        },
        "2fc65fc980314e69b14bce73078c5f0d": {
          "model_module": "@jupyter-widgets/controls",
          "model_name": "DescriptionStyleModel",
          "model_module_version": "1.5.0",
          "state": {
            "_model_module": "@jupyter-widgets/controls",
            "_model_module_version": "1.5.0",
            "_model_name": "DescriptionStyleModel",
            "_view_count": null,
            "_view_module": "@jupyter-widgets/base",
            "_view_module_version": "1.2.0",
            "_view_name": "StyleView",
            "description_width": ""
          }
        },
        "bb85580655934c98ab4fd530cf705219": {
          "model_module": "@jupyter-widgets/base",
          "model_name": "LayoutModel",
          "model_module_version": "1.2.0",
          "state": {
            "_model_module": "@jupyter-widgets/base",
            "_model_module_version": "1.2.0",
            "_model_name": "LayoutModel",
            "_view_count": null,
            "_view_module": "@jupyter-widgets/base",
            "_view_module_version": "1.2.0",
            "_view_name": "LayoutView",
            "align_content": null,
            "align_items": null,
            "align_self": null,
            "border": null,
            "bottom": null,
            "display": null,
            "flex": null,
            "flex_flow": null,
            "grid_area": null,
            "grid_auto_columns": null,
            "grid_auto_flow": null,
            "grid_auto_rows": null,
            "grid_column": null,
            "grid_gap": null,
            "grid_row": null,
            "grid_template_areas": null,
            "grid_template_columns": null,
            "grid_template_rows": null,
            "height": null,
            "justify_content": null,
            "justify_items": null,
            "left": null,
            "margin": null,
            "max_height": null,
            "max_width": null,
            "min_height": null,
            "min_width": null,
            "object_fit": null,
            "object_position": null,
            "order": null,
            "overflow": null,
            "overflow_x": null,
            "overflow_y": null,
            "padding": null,
            "right": null,
            "top": null,
            "visibility": null,
            "width": null
          }
        },
        "2058ded4c2d64a69b8e6bd5b73ba4b23": {
          "model_module": "@jupyter-widgets/controls",
          "model_name": "ProgressStyleModel",
          "model_module_version": "1.5.0",
          "state": {
            "_model_module": "@jupyter-widgets/controls",
            "_model_module_version": "1.5.0",
            "_model_name": "ProgressStyleModel",
            "_view_count": null,
            "_view_module": "@jupyter-widgets/base",
            "_view_module_version": "1.2.0",
            "_view_name": "StyleView",
            "bar_color": null,
            "description_width": ""
          }
        },
        "248f562962444b0b9258b92f2f345264": {
          "model_module": "@jupyter-widgets/base",
          "model_name": "LayoutModel",
          "model_module_version": "1.2.0",
          "state": {
            "_model_module": "@jupyter-widgets/base",
            "_model_module_version": "1.2.0",
            "_model_name": "LayoutModel",
            "_view_count": null,
            "_view_module": "@jupyter-widgets/base",
            "_view_module_version": "1.2.0",
            "_view_name": "LayoutView",
            "align_content": null,
            "align_items": null,
            "align_self": null,
            "border": null,
            "bottom": null,
            "display": null,
            "flex": null,
            "flex_flow": null,
            "grid_area": null,
            "grid_auto_columns": null,
            "grid_auto_flow": null,
            "grid_auto_rows": null,
            "grid_column": null,
            "grid_gap": null,
            "grid_row": null,
            "grid_template_areas": null,
            "grid_template_columns": null,
            "grid_template_rows": null,
            "height": null,
            "justify_content": null,
            "justify_items": null,
            "left": null,
            "margin": null,
            "max_height": null,
            "max_width": null,
            "min_height": null,
            "min_width": null,
            "object_fit": null,
            "object_position": null,
            "order": null,
            "overflow": null,
            "overflow_x": null,
            "overflow_y": null,
            "padding": null,
            "right": null,
            "top": null,
            "visibility": null,
            "width": null
          }
        },
        "2abfa4ffc36548fb9ccd3cf95b65913d": {
          "model_module": "@jupyter-widgets/controls",
          "model_name": "DescriptionStyleModel",
          "model_module_version": "1.5.0",
          "state": {
            "_model_module": "@jupyter-widgets/controls",
            "_model_module_version": "1.5.0",
            "_model_name": "DescriptionStyleModel",
            "_view_count": null,
            "_view_module": "@jupyter-widgets/base",
            "_view_module_version": "1.2.0",
            "_view_name": "StyleView",
            "description_width": ""
          }
        }
      }
    }
  },
  "nbformat": 4,
  "nbformat_minor": 0
}